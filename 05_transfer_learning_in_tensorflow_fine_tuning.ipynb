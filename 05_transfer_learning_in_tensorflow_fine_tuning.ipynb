{
  "cells": [
    {
      "cell_type": "markdown",
      "metadata": {
        "id": "view-in-github",
        "colab_type": "text"
      },
      "source": [
        "<a href=\"https://colab.research.google.com/github/umar052001/Deep-Learning-with-Tensorflow/blob/master/05_transfer_learning_in_tensorflow_fine_tuning.ipynb\" target=\"_parent\"><img src=\"https://colab.research.google.com/assets/colab-badge.svg\" alt=\"Open In Colab\"/></a>"
      ]
    },
    {
      "cell_type": "markdown",
      "metadata": {
        "id": "v6qeEKeHqut6"
      },
      "source": [
        "# Transefer Learning with tensorflow: Fine Tuning\n",
        "\n"
      ]
    },
    {
      "cell_type": "markdown",
      "metadata": {
        "id": "v83jgtv7sBDO"
      },
      "source": [
        "## Creating helper functions\n",
        "In previous notebook we've created a bunch of helper functions, now we could rewrite them all, however this is tedious.\n",
        "\n",
        "So, we created a script with all of them and now import it."
      ]
    },
    {
      "cell_type": "code",
      "execution_count": 1,
      "metadata": {
        "colab": {
          "base_uri": "https://localhost:8080/"
        },
        "id": "wGtGP-vtsah9",
        "outputId": "cbda9c9e-0b65-4b8f-e8b3-f1ff92605885"
      },
      "outputs": [
        {
          "output_type": "stream",
          "name": "stdout",
          "text": [
            "--2022-09-08 20:36:04--  https://raw.githubusercontent.com/umar052001/Deep-Learning-with-Tensorflow/master/helperFunctions.py\n",
            "Resolving raw.githubusercontent.com (raw.githubusercontent.com)... 185.199.108.133, 185.199.109.133, 185.199.110.133, ...\n",
            "Connecting to raw.githubusercontent.com (raw.githubusercontent.com)|185.199.108.133|:443... connected.\n",
            "HTTP request sent, awaiting response... 200 OK\n",
            "Length: 10512 (10K) [text/plain]\n",
            "Saving to: ‘helperFunctions.py’\n",
            "\n",
            "helperFunctions.py  100%[===================>]  10.27K  --.-KB/s    in 0.004s  \n",
            "\n",
            "2022-09-08 20:36:04 (2.37 MB/s) - ‘helperFunctions.py’ saved [10512/10512]\n",
            "\n"
          ]
        }
      ],
      "source": [
        "!wget https://raw.githubusercontent.com/umar052001/Deep-Learning-with-Tensorflow/master/helperFunctions.py"
      ]
    },
    {
      "cell_type": "code",
      "execution_count": 2,
      "metadata": {
        "id": "UWIbqTWYvyFM"
      },
      "outputs": [],
      "source": [
        "from helperFunctions import create_tensorboard_callback, plot_loss_curves, unzip_data, walk_through_dir"
      ]
    },
    {
      "cell_type": "markdown",
      "metadata": {
        "id": "pjPSvXfDzJEb"
      },
      "source": [
        "## Let's get some data\n",
        "This time we're going to see how we can use the pretrained models within `tf.keras.applications` and apply them to our own problem."
      ]
    },
    {
      "cell_type": "code",
      "execution_count": 3,
      "metadata": {
        "colab": {
          "base_uri": "https://localhost:8080/"
        },
        "id": "JgKoHajM0NDd",
        "outputId": "5f95724c-d5ac-44f2-d388-5ac7f618f9b1"
      },
      "outputs": [
        {
          "output_type": "stream",
          "name": "stdout",
          "text": [
            "--2022-09-08 20:36:07--  https://storage.googleapis.com/ztm_tf_course/food_vision/10_food_classes_10_percent.zip\n",
            "Resolving storage.googleapis.com (storage.googleapis.com)... 74.125.195.128, 142.250.99.128, 142.250.107.128, ...\n",
            "Connecting to storage.googleapis.com (storage.googleapis.com)|74.125.195.128|:443... connected.\n",
            "HTTP request sent, awaiting response... 200 OK\n",
            "Length: 168546183 (161M) [application/zip]\n",
            "Saving to: ‘10_food_classes_10_percent.zip’\n",
            "\n",
            "10_food_classes_10_ 100%[===================>] 160.74M   135MB/s    in 1.2s    \n",
            "\n",
            "2022-09-08 20:36:08 (135 MB/s) - ‘10_food_classes_10_percent.zip’ saved [168546183/168546183]\n",
            "\n"
          ]
        }
      ],
      "source": [
        "# Get 10% of data from food101 dataset\n",
        "!wget https://storage.googleapis.com/ztm_tf_course/food_vision/10_food_classes_10_percent.zip\n",
        "unzip_data(\"10_food_classes_10_percent.zip\")"
      ]
    },
    {
      "cell_type": "code",
      "execution_count": 4,
      "metadata": {
        "colab": {
          "base_uri": "https://localhost:8080/"
        },
        "id": "b6Gg3l6e08HJ",
        "outputId": "4b810361-ae26-494c-ca0d-2f3bf26eb80f"
      },
      "outputs": [
        {
          "output_type": "stream",
          "name": "stdout",
          "text": [
            "There are 2 directories and 0 images in '10_food_classes_10_percent'.\n",
            "There are 10 directories and 0 images in '10_food_classes_10_percent/train'.\n",
            "There are 0 directories and 75 images in '10_food_classes_10_percent/train/chicken_wings'.\n",
            "There are 0 directories and 75 images in '10_food_classes_10_percent/train/pizza'.\n",
            "There are 0 directories and 75 images in '10_food_classes_10_percent/train/grilled_salmon'.\n",
            "There are 0 directories and 75 images in '10_food_classes_10_percent/train/sushi'.\n",
            "There are 0 directories and 75 images in '10_food_classes_10_percent/train/ice_cream'.\n",
            "There are 0 directories and 75 images in '10_food_classes_10_percent/train/chicken_curry'.\n",
            "There are 0 directories and 75 images in '10_food_classes_10_percent/train/ramen'.\n",
            "There are 0 directories and 75 images in '10_food_classes_10_percent/train/fried_rice'.\n",
            "There are 0 directories and 75 images in '10_food_classes_10_percent/train/hamburger'.\n",
            "There are 0 directories and 75 images in '10_food_classes_10_percent/train/steak'.\n",
            "There are 10 directories and 0 images in '10_food_classes_10_percent/test'.\n",
            "There are 0 directories and 250 images in '10_food_classes_10_percent/test/chicken_wings'.\n",
            "There are 0 directories and 250 images in '10_food_classes_10_percent/test/pizza'.\n",
            "There are 0 directories and 250 images in '10_food_classes_10_percent/test/grilled_salmon'.\n",
            "There are 0 directories and 250 images in '10_food_classes_10_percent/test/sushi'.\n",
            "There are 0 directories and 250 images in '10_food_classes_10_percent/test/ice_cream'.\n",
            "There are 0 directories and 250 images in '10_food_classes_10_percent/test/chicken_curry'.\n",
            "There are 0 directories and 250 images in '10_food_classes_10_percent/test/ramen'.\n",
            "There are 0 directories and 250 images in '10_food_classes_10_percent/test/fried_rice'.\n",
            "There are 0 directories and 250 images in '10_food_classes_10_percent/test/hamburger'.\n",
            "There are 0 directories and 250 images in '10_food_classes_10_percent/test/steak'.\n"
          ]
        }
      ],
      "source": [
        "# Check out how many images and subdirectories are in our dataset\n",
        "walk_through_dir(\"10_food_classes_10_percent\")"
      ]
    },
    {
      "cell_type": "code",
      "execution_count": 5,
      "metadata": {
        "id": "Hqk5ULwQ1GmG"
      },
      "outputs": [],
      "source": [
        "# Create training and test directories paths\n",
        "train_dir = \"10_food_classes_10_percent/train/\"\n",
        "test_dir = \"10_food_classes_10_percent/test/\""
      ]
    },
    {
      "cell_type": "code",
      "execution_count": 6,
      "metadata": {
        "colab": {
          "base_uri": "https://localhost:8080/"
        },
        "id": "I6AqmzT11ezf",
        "outputId": "aa09a109-7dc0-4df4-a52a-1393df902937"
      },
      "outputs": [
        {
          "output_type": "stream",
          "name": "stdout",
          "text": [
            "Found 750 files belonging to 10 classes.\n",
            "Found 2500 files belonging to 10 classes.\n"
          ]
        }
      ],
      "source": [
        "import tensorflow as tf\n",
        "IMG_SIZE = (224,224)\n",
        "train_data_10_percent = tf.keras.preprocessing.image_dataset_from_directory(directory=train_dir,\n",
        "                                                                            image_size=IMG_SIZE,\n",
        "                                                                            label_mode=\"categorical\",\n",
        "                                                                            batch_size=32)\n",
        "test_data = tf.keras.preprocessing.image_dataset_from_directory(directory=test_dir,\n",
        "                                                                image_size=IMG_SIZE,\n",
        "                                                                label_mode=\"categorical\",\n",
        "                                                                batch_size=32)"
      ]
    },
    {
      "cell_type": "code",
      "execution_count": 7,
      "metadata": {
        "colab": {
          "base_uri": "https://localhost:8080/"
        },
        "id": "DeIpJ25Q2xKx",
        "outputId": "5e2be13b-d23b-4a49-ada8-6706b92d9c2a"
      },
      "outputs": [
        {
          "output_type": "execute_result",
          "data": {
            "text/plain": [
              "<BatchDataset element_spec=(TensorSpec(shape=(None, 224, 224, 3), dtype=tf.float32, name=None), TensorSpec(shape=(None, 10), dtype=tf.float32, name=None))>"
            ]
          },
          "metadata": {},
          "execution_count": 7
        }
      ],
      "source": [
        "train_data_10_percent"
      ]
    },
    {
      "cell_type": "code",
      "execution_count": 8,
      "metadata": {
        "colab": {
          "base_uri": "https://localhost:8080/"
        },
        "id": "co7AUFiC205z",
        "outputId": "e4156892-3ebe-4e8d-9360-1a6d69563aeb"
      },
      "outputs": [
        {
          "output_type": "execute_result",
          "data": {
            "text/plain": [
              "['chicken_curry',\n",
              " 'chicken_wings',\n",
              " 'fried_rice',\n",
              " 'grilled_salmon',\n",
              " 'hamburger',\n",
              " 'ice_cream',\n",
              " 'pizza',\n",
              " 'ramen',\n",
              " 'steak',\n",
              " 'sushi']"
            ]
          },
          "metadata": {},
          "execution_count": 8
        }
      ],
      "source": [
        "train_data_10_percent.class_names"
      ]
    },
    {
      "cell_type": "code",
      "execution_count": 9,
      "metadata": {
        "colab": {
          "base_uri": "https://localhost:8080/"
        },
        "id": "Xt6f04ae3hqd",
        "outputId": "9f5d5cba-0f8c-40c2-b4b8-2250868b4d0d"
      },
      "outputs": [
        {
          "output_type": "stream",
          "name": "stdout",
          "text": [
            "tf.Tensor(\n",
            "[[[[1.34158157e+02 1.34158157e+02 1.44158157e+02]\n",
            "   [1.34142868e+02 1.36928574e+02 1.46000000e+02]\n",
            "   [1.31571426e+02 1.36214279e+02 1.47000000e+02]\n",
            "   ...\n",
            "   [1.63086914e+02 1.30505203e+02 1.43367523e+02]\n",
            "   [1.58025558e+02 1.27311317e+02 1.45382767e+02]\n",
            "   [1.59173447e+02 1.37372513e+02 1.57372467e+02]]\n",
            "\n",
            "  [[1.30734695e+02 1.32525513e+02 1.41928574e+02]\n",
            "   [1.18122444e+02 1.21984688e+02 1.30984695e+02]\n",
            "   [1.23255104e+02 1.30086731e+02 1.40142853e+02]\n",
            "   ...\n",
            "   [1.71168350e+02 1.38556061e+02 1.49112244e+02]\n",
            "   [1.71714279e+02 1.37862244e+02 1.54005127e+02]\n",
            "   [1.66107132e+02 1.36107193e+02 1.54178619e+02]]\n",
            "\n",
            "  [[1.22872452e+02 1.26591835e+02 1.35591827e+02]\n",
            "   [1.21561226e+02 1.28346939e+02 1.36846939e+02]\n",
            "   [1.22433678e+02 1.31051010e+02 1.40816330e+02]\n",
            "   ...\n",
            "   [1.69827332e+02 1.35776215e+02 1.42516037e+02]\n",
            "   [1.82061249e+02 1.39801041e+02 1.51387772e+02]\n",
            "   [2.07766037e+02 1.64480331e+02 1.78051758e+02]]\n",
            "\n",
            "  ...\n",
            "\n",
            "  [[9.66581650e+01 6.36428566e+01 7.02908554e+01]\n",
            "   [8.17551270e+01 5.40714912e+01 5.89286575e+01]\n",
            "   [3.80714493e+01 1.76683712e+01 2.15204620e+01]\n",
            "   ...\n",
            "   [4.03569031e+01 3.13569031e+01 2.60201931e+01]\n",
            "   [2.26834965e+01 1.31120243e+01 1.08977604e+01]\n",
            "   [1.57091751e+01 7.70917511e+00 5.49491119e+00]]\n",
            "\n",
            "  [[1.03428581e+02 7.20255127e+01 8.12347183e+01]\n",
            "   [8.31479721e+01 5.59336853e+01 6.32806473e+01]\n",
            "   [3.62449265e+01 1.56581917e+01 2.00153332e+01]\n",
            "   ...\n",
            "   [2.78263798e+01 1.88263798e+01 1.33672371e+01]\n",
            "   [1.70051041e+01 7.00510406e+00 5.00510406e+00]\n",
            "   [1.67602806e+01 8.76027966e+00 6.76027966e+00]]\n",
            "\n",
            "  [[9.77293701e+01 6.61885986e+01 7.89589844e+01]\n",
            "   [8.45203629e+01 5.76377449e+01 6.75153580e+01]\n",
            "   [4.21378174e+01 2.12755642e+01 2.58623199e+01]\n",
            "   ...\n",
            "   [2.04233780e+01 1.14233780e+01 5.56632233e+00]\n",
            "   [1.89744835e+01 8.97448254e+00 6.97448254e+00]\n",
            "   [1.72856445e+01 7.28564453e+00 6.28564453e+00]]]\n",
            "\n",
            "\n",
            " [[[9.88571396e+01 8.78571396e+01 6.78571396e+01]\n",
            "   [1.01653061e+02 8.95102081e+01 6.79387741e+01]\n",
            "   [1.01530609e+02 8.95306091e+01 6.75306091e+01]\n",
            "   ...\n",
            "   [5.53265114e+01 6.07550392e+01 5.45407753e+01]\n",
            "   [5.41326523e+01 5.91326523e+01 5.31326523e+01]\n",
            "   [5.17346535e+01 5.67346535e+01 5.07346535e+01]]\n",
            "\n",
            "  [[9.75714264e+01 8.65714264e+01 6.65714264e+01]\n",
            "   [9.91428604e+01 8.61428604e+01 6.71428604e+01]\n",
            "   [9.96632690e+01 8.73265305e+01 6.63367310e+01]\n",
            "   ...\n",
            "   [5.60000000e+01 6.14285278e+01 5.52142639e+01]\n",
            "   [5.53571281e+01 6.03571281e+01 5.43571281e+01]\n",
            "   [5.27142143e+01 5.77142143e+01 5.17142143e+01]]\n",
            "\n",
            "  [[9.72550964e+01 8.62550964e+01 6.62550964e+01]\n",
            "   [9.66224442e+01 8.36224442e+01 6.46224442e+01]\n",
            "   [9.93673477e+01 8.64285736e+01 6.72448959e+01]\n",
            "   ...\n",
            "   [5.60000000e+01 6.12754822e+01 5.66428337e+01]\n",
            "   [5.52653008e+01 6.02653008e+01 5.56938744e+01]\n",
            "   [5.32856445e+01 5.82856445e+01 5.37142143e+01]]\n",
            "\n",
            "  ...\n",
            "\n",
            "  [[1.09816330e+02 1.10816330e+02 1.12816330e+02]\n",
            "   [1.10663277e+02 1.11663277e+02 1.13663277e+02]\n",
            "   [1.11928581e+02 1.12928581e+02 1.14928581e+02]\n",
            "   ...\n",
            "   [2.29000000e+02 2.48000000e+02 2.54000000e+02]\n",
            "   [2.26714294e+02 2.46714294e+02 2.53714294e+02]\n",
            "   [2.26816345e+02 2.46816345e+02 2.53816345e+02]]\n",
            "\n",
            "  [[1.08581657e+02 1.09581657e+02 1.11581657e+02]\n",
            "   [1.09387772e+02 1.10387772e+02 1.12387772e+02]\n",
            "   [1.10642876e+02 1.11642876e+02 1.13642876e+02]\n",
            "   ...\n",
            "   [2.28551025e+02 2.47551025e+02 2.53551025e+02]\n",
            "   [2.26000000e+02 2.46000000e+02 2.53000000e+02]\n",
            "   [2.26153076e+02 2.46153076e+02 2.53153076e+02]]\n",
            "\n",
            "  [[1.07142853e+02 1.08142853e+02 1.10142853e+02]\n",
            "   [1.07275505e+02 1.08275505e+02 1.10275505e+02]\n",
            "   [1.09357140e+02 1.10357140e+02 1.12357140e+02]\n",
            "   ...\n",
            "   [2.28214264e+02 2.47214264e+02 2.53214264e+02]\n",
            "   [2.26000000e+02 2.46000000e+02 2.53000000e+02]\n",
            "   [2.26000000e+02 2.46000000e+02 2.53000000e+02]]]\n",
            "\n",
            "\n",
            " [[[1.73285721e+02 1.87285721e+02 1.88285721e+02]\n",
            "   [1.74285721e+02 1.88285721e+02 1.89285721e+02]\n",
            "   [1.76005096e+02 1.90005096e+02 1.91005096e+02]\n",
            "   ...\n",
            "   [8.08417969e+01 8.38417969e+01 7.68417969e+01]\n",
            "   [8.63571396e+01 8.72142563e+01 8.22856979e+01]\n",
            "   [8.51989899e+01 8.35101471e+01 8.12806015e+01]]\n",
            "\n",
            "  [[1.74000000e+02 1.88000000e+02 1.89000000e+02]\n",
            "   [1.74000000e+02 1.88000000e+02 1.89000000e+02]\n",
            "   [1.74928574e+02 1.88928574e+02 1.89928574e+02]\n",
            "   ...\n",
            "   [8.57143936e+01 8.71123123e+01 8.08827438e+01]\n",
            "   [8.68571320e+01 8.77244492e+01 8.27244644e+01]\n",
            "   [9.07858887e+01 8.99287491e+01 8.58573151e+01]]\n",
            "\n",
            "  [[1.72428574e+02 1.86428574e+02 1.87428574e+02]\n",
            "   [1.72428574e+02 1.86428574e+02 1.87428574e+02]\n",
            "   [1.72428574e+02 1.86428574e+02 1.87428574e+02]\n",
            "   ...\n",
            "   [7.87194443e+01 7.97194443e+01 7.20561905e+01]\n",
            "   [8.51989746e+01 8.61989746e+01 8.02142868e+01]\n",
            "   [8.94388962e+01 9.04388962e+01 8.54388962e+01]]\n",
            "\n",
            "  ...\n",
            "\n",
            "  [[1.24280609e+02 1.49280609e+02 1.56280609e+02]\n",
            "   [1.22071426e+02 1.47071426e+02 1.54071426e+02]\n",
            "   [1.21214294e+02 1.46214294e+02 1.53214294e+02]\n",
            "   ...\n",
            "   [1.14214294e+02 1.13214294e+02 1.08214294e+02]\n",
            "   [1.15214294e+02 1.12285736e+02 1.03071411e+02]\n",
            "   [1.16076538e+02 1.14076538e+02 1.00362183e+02]]\n",
            "\n",
            "  [[1.24331635e+02 1.47474472e+02 1.55403061e+02]\n",
            "   [1.23862282e+02 1.47005096e+02 1.54933685e+02]\n",
            "   [1.23857178e+02 1.47000000e+02 1.54928589e+02]\n",
            "   ...\n",
            "   [1.15000000e+02 1.14729630e+02 1.07540749e+02]\n",
            "   [1.16000000e+02 1.13071442e+02 1.03857117e+02]\n",
            "   [1.16954094e+02 1.14954094e+02 1.02500000e+02]]\n",
            "\n",
            "  [[1.25642853e+02 1.48642853e+02 1.56642853e+02]\n",
            "   [1.24045914e+02 1.47045914e+02 1.55045914e+02]\n",
            "   [1.23357147e+02 1.46357147e+02 1.54357147e+02]\n",
            "   ...\n",
            "   [1.13357147e+02 1.13357147e+02 1.03081665e+02]\n",
            "   [1.15403076e+02 1.12403076e+02 1.03494926e+02]\n",
            "   [1.16586761e+02 1.13586761e+02 1.05872467e+02]]]\n",
            "\n",
            "\n",
            " ...\n",
            "\n",
            "\n",
            " [[[1.82759079e+02 1.57759079e+02 1.17759087e+02]\n",
            "   [1.80118622e+02 1.55118622e+02 1.15118622e+02]\n",
            "   [1.79952652e+02 1.54952652e+02 1.14952644e+02]\n",
            "   ...\n",
            "   [1.02494637e+02 8.31262894e+01 5.14209671e+01]\n",
            "   [1.09444069e+02 8.54440689e+01 5.74440651e+01]\n",
            "   [1.11986595e+02 8.79865952e+01 5.99865990e+01]]\n",
            "\n",
            "  [[1.83798950e+02 1.58798950e+02 1.18798950e+02]\n",
            "   [1.84929047e+02 1.59929047e+02 1.19929054e+02]\n",
            "   [1.88498566e+02 1.63498566e+02 1.23498566e+02]\n",
            "   ...\n",
            "   [1.03436752e+02 8.41420746e+01 5.22157478e+01]\n",
            "   [1.09404518e+02 8.64045181e+01 5.54045143e+01]\n",
            "   [1.11629456e+02 8.86294556e+01 5.76294556e+01]]\n",
            "\n",
            "  [[1.85076370e+02 1.60076370e+02 1.19862083e+02]\n",
            "   [1.80729752e+02 1.55729752e+02 1.15515465e+02]\n",
            "   [1.84234695e+02 1.59234695e+02 1.19020409e+02]\n",
            "   ...\n",
            "   [1.03073669e+02 8.39263306e+01 5.20000000e+01]\n",
            "   [1.05586479e+02 8.38884277e+01 5.28884277e+01]\n",
            "   [1.09200882e+02 8.66294556e+01 5.56294556e+01]]\n",
            "\n",
            "  ...\n",
            "\n",
            "  [[9.07007828e+01 2.33438816e+01 2.89153538e+01]\n",
            "   [9.03020172e+01 2.01660957e+01 2.68491745e+01]\n",
            "   [9.30058441e+01 1.97226048e+01 2.54413986e+01]\n",
            "   ...\n",
            "   [1.70784882e+02 1.32968430e+02 8.10420990e+01]\n",
            "   [1.72571472e+02 1.32571472e+02 8.15714722e+01]\n",
            "   [1.73386200e+02 1.33386200e+02 8.23862000e+01]]\n",
            "\n",
            "  [[9.82857666e+01 3.07856750e+01 4.82143250e+01]\n",
            "   [9.72535706e+01 2.97534828e+01 4.71821327e+01]\n",
            "   [9.53037720e+01 2.87961998e+01 4.34458313e+01]\n",
            "   ...\n",
            "   [1.75504562e+02 1.37285782e+02 9.04189453e+01]\n",
            "   [1.71483917e+02 1.31444214e+02 8.25633316e+01]\n",
            "   [1.72058212e+02 1.32058212e+02 8.30582047e+01]]\n",
            "\n",
            "  [[1.05370537e+02 2.10741711e+01 5.24367104e+01]\n",
            "   [1.05729630e+02 2.30871239e+01 5.26897659e+01]\n",
            "   [1.01273605e+02 2.23329945e+01 4.95044975e+01]\n",
            "   ...\n",
            "   [1.72756439e+02 1.33609100e+02 9.10498276e+01]\n",
            "   [1.73285645e+02 1.32729858e+02 8.53972168e+01]\n",
            "   [1.74100372e+02 1.34100372e+02 8.51003723e+01]]]\n",
            "\n",
            "\n",
            " [[[2.29760208e+02 1.27760201e+02 2.67602043e+01]\n",
            "   [2.34617340e+02 1.31617340e+02 3.06173458e+01]\n",
            "   [2.30290817e+02 1.23862244e+02 2.39234676e+01]\n",
            "   ...\n",
            "   [2.52192936e+01 1.42192926e+01 9.79076481e+00]\n",
            "   [1.74081211e+01 9.76532841e+00 6.62244511e+00]\n",
            "   [1.25152235e+01 9.58675671e+00 6.22957945e+00]]\n",
            "\n",
            "  [[2.11566330e+02 1.11637749e+02 1.34234676e+01]\n",
            "   [2.05066315e+02 1.02137749e+02 6.78060913e+00]\n",
            "   [2.04658157e+02 9.90867310e+01 6.94387579e+00]\n",
            "   ...\n",
            "   [2.51020374e+01 1.41020374e+01 9.67350960e+00]\n",
            "   [1.56478815e+01 8.00508976e+00 4.86220646e+00]\n",
            "   [9.35707283e+00 6.42860603e+00 3.07142830e+00]]\n",
            "\n",
            "  [[1.90484695e+02 9.06989822e+01 3.77040768e+00]\n",
            "   [1.86056122e+02 8.50561142e+01 0.00000000e+00]\n",
            "   [1.87096939e+02 8.23316269e+01 0.00000000e+00]\n",
            "   ...\n",
            "   [2.16632347e+01 1.22806196e+01 6.59187031e+00]\n",
            "   [1.75713882e+01 9.78571415e+00 6.71427250e+00]\n",
            "   [1.26428223e+01 9.69902706e+00 5.98981571e+00]]\n",
            "\n",
            "  ...\n",
            "\n",
            "  [[2.49642853e+02 1.61071381e+02 0.00000000e+00]\n",
            "   [2.51198959e+02 1.62627487e+02 0.00000000e+00]\n",
            "   [2.50785721e+02 1.61214249e+02 1.66327763e+00]\n",
            "   ...\n",
            "   [2.50290802e+02 2.38785736e+02 1.72954086e+02]\n",
            "   [2.50015305e+02 2.39015305e+02 1.73015305e+02]\n",
            "   [2.50214264e+02 2.39214264e+02 1.73214264e+02]]\n",
            "\n",
            "  [[2.49142883e+02 1.60142883e+02 0.00000000e+00]\n",
            "   [2.51076538e+02 1.59076538e+02 0.00000000e+00]\n",
            "   [2.50071442e+02 1.57857162e+02 1.53089352e-02]\n",
            "   ...\n",
            "   [2.52071442e+02 2.39071442e+02 1.71071442e+02]\n",
            "   [2.49142883e+02 2.39142883e+02 1.70142883e+02]\n",
            "   [2.49142883e+02 2.39142883e+02 1.70142883e+02]]\n",
            "\n",
            "  [[2.52413208e+02 1.60413208e+02 0.00000000e+00]\n",
            "   [2.51311157e+02 1.59311157e+02 0.00000000e+00]\n",
            "   [2.50285645e+02 1.58071365e+02 2.14285851e-01]\n",
            "   ...\n",
            "   [2.52147903e+02 2.39147903e+02 1.71147903e+02]\n",
            "   [2.52714264e+02 2.39714264e+02 1.71714264e+02]\n",
            "   [2.51770401e+02 2.41770401e+02 1.72770401e+02]]]\n",
            "\n",
            "\n",
            " [[[9.76530609e+01 7.90663223e+01 6.50663223e+01]\n",
            "   [1.04392860e+02 8.82500000e+01 7.33214264e+01]\n",
            "   [1.09520409e+02 9.69591827e+01 8.36683655e+01]\n",
            "   ...\n",
            "   [2.44423492e+02 2.37423492e+02 2.19423492e+02]\n",
            "   [2.46760208e+02 2.39760208e+02 2.21760208e+02]\n",
            "   [2.48000000e+02 2.41000000e+02 2.23000000e+02]]\n",
            "\n",
            "  [[1.06326530e+02 8.95204086e+01 7.75867386e+01]\n",
            "   [1.11239799e+02 9.68877640e+01 8.40918427e+01]\n",
            "   [1.50612259e+02 1.41198990e+02 1.26897972e+02]\n",
            "   ...\n",
            "   [2.40857162e+02 2.33857162e+02 2.15857162e+02]\n",
            "   [2.45071442e+02 2.38071442e+02 2.20071442e+02]\n",
            "   [2.47000000e+02 2.40000000e+02 2.22000000e+02]]\n",
            "\n",
            "  [[1.15163269e+02 1.02295921e+02 9.33724518e+01]\n",
            "   [1.54887756e+02 1.45117355e+02 1.34989807e+02]\n",
            "   [2.00071426e+02 1.92836746e+02 1.79790833e+02]\n",
            "   ...\n",
            "   [2.40357193e+02 2.33357193e+02 2.15357193e+02]\n",
            "   [2.43642868e+02 2.36642868e+02 2.18642868e+02]\n",
            "   [2.44571426e+02 2.37571426e+02 2.19571426e+02]]\n",
            "\n",
            "  ...\n",
            "\n",
            "  [[1.41214325e+02 5.36428566e+01 5.27959023e+01]\n",
            "   [1.37571487e+02 5.00000229e+01 4.82704086e+01]\n",
            "   [1.39000046e+02 5.16428375e+01 4.90000000e+01]\n",
            "   ...\n",
            "   [2.50168350e+02 2.41168350e+02 2.24168350e+02]\n",
            "   [2.50000000e+02 2.41000000e+02 2.24000000e+02]\n",
            "   [2.49785736e+02 2.40785736e+02 2.23785736e+02]]\n",
            "\n",
            "  [[1.41974503e+02 5.39744949e+01 5.19744949e+01]\n",
            "   [1.40357147e+02 5.23571548e+01 5.03571548e+01]\n",
            "   [1.39642853e+02 5.16581650e+01 4.76122398e+01]\n",
            "   ...\n",
            "   [2.51000000e+02 2.42000000e+02 2.25000000e+02]\n",
            "   [2.50933655e+02 2.41933655e+02 2.24933655e+02]\n",
            "   [2.50000000e+02 2.41000000e+02 2.24000000e+02]]\n",
            "\n",
            "  [[1.42571426e+02 5.45714302e+01 5.25714302e+01]\n",
            "   [1.42617371e+02 5.46173782e+01 5.26173782e+01]\n",
            "   [1.39642853e+02 5.18571434e+01 4.72142868e+01]\n",
            "   ...\n",
            "   [2.51494919e+02 2.42494919e+02 2.25494919e+02]\n",
            "   [2.51000000e+02 2.42000000e+02 2.25000000e+02]\n",
            "   [2.51000000e+02 2.42000000e+02 2.25000000e+02]]]], shape=(32, 224, 224, 3), dtype=float32) tf.Tensor(\n",
            "[[0. 1. 0. 0. 0. 0. 0. 0. 0. 0.]\n",
            " [0. 0. 0. 0. 0. 0. 0. 0. 0. 1.]\n",
            " [0. 1. 0. 0. 0. 0. 0. 0. 0. 0.]\n",
            " [0. 0. 0. 0. 0. 0. 0. 1. 0. 0.]\n",
            " [1. 0. 0. 0. 0. 0. 0. 0. 0. 0.]\n",
            " [0. 0. 0. 0. 0. 0. 0. 0. 0. 1.]\n",
            " [0. 0. 0. 0. 0. 1. 0. 0. 0. 0.]\n",
            " [0. 0. 0. 1. 0. 0. 0. 0. 0. 0.]\n",
            " [0. 1. 0. 0. 0. 0. 0. 0. 0. 0.]\n",
            " [0. 0. 0. 1. 0. 0. 0. 0. 0. 0.]\n",
            " [1. 0. 0. 0. 0. 0. 0. 0. 0. 0.]\n",
            " [0. 0. 0. 0. 0. 1. 0. 0. 0. 0.]\n",
            " [1. 0. 0. 0. 0. 0. 0. 0. 0. 0.]\n",
            " [0. 0. 0. 1. 0. 0. 0. 0. 0. 0.]\n",
            " [0. 0. 0. 1. 0. 0. 0. 0. 0. 0.]\n",
            " [0. 0. 0. 0. 0. 0. 1. 0. 0. 0.]\n",
            " [1. 0. 0. 0. 0. 0. 0. 0. 0. 0.]\n",
            " [0. 0. 0. 0. 0. 0. 0. 1. 0. 0.]\n",
            " [1. 0. 0. 0. 0. 0. 0. 0. 0. 0.]\n",
            " [0. 0. 1. 0. 0. 0. 0. 0. 0. 0.]\n",
            " [0. 0. 0. 0. 0. 1. 0. 0. 0. 0.]\n",
            " [0. 0. 1. 0. 0. 0. 0. 0. 0. 0.]\n",
            " [0. 0. 0. 1. 0. 0. 0. 0. 0. 0.]\n",
            " [0. 0. 1. 0. 0. 0. 0. 0. 0. 0.]\n",
            " [0. 1. 0. 0. 0. 0. 0. 0. 0. 0.]\n",
            " [0. 1. 0. 0. 0. 0. 0. 0. 0. 0.]\n",
            " [0. 0. 1. 0. 0. 0. 0. 0. 0. 0.]\n",
            " [0. 0. 0. 0. 0. 0. 1. 0. 0. 0.]\n",
            " [0. 0. 0. 0. 0. 0. 1. 0. 0. 0.]\n",
            " [0. 0. 0. 0. 0. 0. 1. 0. 0. 0.]\n",
            " [0. 0. 0. 0. 1. 0. 0. 0. 0. 0.]\n",
            " [0. 0. 0. 0. 0. 0. 0. 0. 0. 1.]], shape=(32, 10), dtype=float32)\n"
          ]
        }
      ],
      "source": [
        "# See an example of batch of data\n",
        "for images, labels in train_data_10_percent.take(1):\n",
        "  print(images, labels)"
      ]
    },
    {
      "cell_type": "markdown",
      "metadata": {
        "id": "dkphhp3436hS"
      },
      "source": [
        "## Building a transfer learning feature extraction model using the Keras Functional API\n",
        "\n",
        "The sequential API is straight-forward, it runs in sequential order.\n",
        "\n",
        "But the functional api gives us more flexibility with our models."
      ]
    },
    {
      "cell_type": "code",
      "execution_count": 10,
      "metadata": {
        "colab": {
          "base_uri": "https://localhost:8080/"
        },
        "id": "DdJABa-y7Rcp",
        "outputId": "faa748ab-96a7-4964-e1b4-863266d9bf38"
      },
      "outputs": [
        {
          "output_type": "stream",
          "name": "stdout",
          "text": [
            "Downloading data from https://storage.googleapis.com/keras-applications/efficientnetb0_notop.h5\n",
            "16711680/16705208 [==============================] - 0s 0us/step\n",
            "16719872/16705208 [==============================] - 0s 0us/step\n",
            "Shape after passing through base model: (None, 7, 7, 1280)\n",
            "Shape after global average pool 2d: (None, 1280)\n",
            "Saving TensorBoard log files to: transfer_learning/10_percent_feature_extraction/20220908-203618\n",
            "Epoch 1/5\n",
            "24/24 [==============================] - 37s 436ms/step - loss: 1.9561 - accuracy: 0.4000 - val_loss: 1.3828 - val_accuracy: 0.6948\n",
            "Epoch 2/5\n",
            "24/24 [==============================] - 10s 426ms/step - loss: 1.1744 - accuracy: 0.7427 - val_loss: 0.9351 - val_accuracy: 0.7928\n",
            "Epoch 3/5\n",
            "24/24 [==============================] - 13s 523ms/step - loss: 0.8441 - accuracy: 0.8107 - val_loss: 0.7524 - val_accuracy: 0.8168\n",
            "Epoch 4/5\n",
            "24/24 [==============================] - 11s 444ms/step - loss: 0.6878 - accuracy: 0.8413 - val_loss: 0.6626 - val_accuracy: 0.8324\n",
            "Epoch 5/5\n",
            "24/24 [==============================] - 8s 336ms/step - loss: 0.5922 - accuracy: 0.8640 - val_loss: 0.6093 - val_accuracy: 0.8408\n"
          ]
        }
      ],
      "source": [
        "# 1. Create the base model\n",
        "base_model = tf.keras.applications.EfficientNetB0(include_top=False)\n",
        "\n",
        "# 2. Freeze the base model (don't want to update the underlying pre-trained patterns)\n",
        "base_model.trainable = False\n",
        "\n",
        "# 3. Create inputs into our model\n",
        "inputs = tf.keras.layers.Input(shape=(224,224,3), name=\"input_layer\")\n",
        "\n",
        "# 4. If using a model like ResNet50V2 you will need to normalize inputs but you don't have to do that with EfficientNet\n",
        "# x = tf.keras.layers.experimental.preprocessing.Rescaling(1./255)(inputs) \n",
        "\n",
        "# 5. Pass the inputs to the base model\n",
        "x = base_model(inputs)\n",
        "print(f\"Shape after passing through base model: {x.shape}\")\n",
        "\n",
        "# 6. Average pool the outputs of the base model (aggregate all the most important information, reduce the number of computations)\n",
        "x = tf.keras.layers.GlobalAveragePooling2D(name=\"global_average_pooling_layer\")(x)\n",
        "print(f\"Shape after global average pool 2d: {x.shape}\")\n",
        "\n",
        "# 7. Create the activation layer\n",
        "outputs = tf.keras.layers.Dense(10, activation=\"softmax\", name=\"output_layer\")(x)\n",
        "\n",
        "# 8. Combine the inputs with the outputs into a model\n",
        "model_0 = tf.keras.Model(inputs, outputs)\n",
        "\n",
        "# 9. Compile the model\n",
        "model_0.compile(loss = tf.keras.losses.CategoricalCrossentropy(),\n",
        "                optimizer = tf.keras.optimizers.Adam(),\n",
        "                metrics=[\"accuracy\"])\n",
        "\n",
        "# 10. Fit the model and saving history\n",
        "history_0 = model_0.fit(train_data_10_percent,\n",
        "                        epochs=5,\n",
        "                        steps_per_epoch=len(train_data_10_percent),\n",
        "                        validation_data=test_data,\n",
        "                        validation_steps=len(test_data),\n",
        "                        callbacks=[create_tensorboard_callback(dir_name=\"transfer_learning\",\n",
        "                                                               experiment_name=\"10_percent_feature_extraction\")])"
      ]
    },
    {
      "cell_type": "code",
      "execution_count": 11,
      "metadata": {
        "colab": {
          "base_uri": "https://localhost:8080/",
          "height": 573
        },
        "id": "zU-pFizZ9BTb",
        "outputId": "f056860d-fdb8-47e6-d874-75d907b78ad8"
      },
      "outputs": [
        {
          "output_type": "display_data",
          "data": {
            "text/plain": [
              "<Figure size 432x288 with 1 Axes>"
            ],
            "image/png": "[encoded data removed]"
          },
          "metadata": {
            "needs_background": "light"
          }
        },
        {
          "output_type": "display_data",
          "data": {
            "text/plain": [
              "<Figure size 432x288 with 1 Axes>"
            ],
            "image/png": "[encoded data removed]"
          },
          "metadata": {
            "needs_background": "light"
          }
        }
      ],
      "source": [
        "plot_loss_curves(history_0)"
      ]
    },
    {
      "cell_type": "code",
      "execution_count": 12,
      "metadata": {
        "colab": {
          "base_uri": "https://localhost:8080/"
        },
        "id": "LlazhQzFWN7R",
        "outputId": "bd896b92-4ae7-4737-c577-769ab1964a34"
      },
      "outputs": [
        {
          "output_type": "stream",
          "name": "stdout",
          "text": [
            "79/79 [==============================] - 9s 101ms/step - loss: 0.6093 - accuracy: 0.8408\n"
          ]
        },
        {
          "output_type": "execute_result",
          "data": {
            "text/plain": [
              "[0.6092508435249329, 0.8407999873161316]"
            ]
          },
          "metadata": {},
          "execution_count": 12
        }
      ],
      "source": [
        "model_0.evaluate(test_data)"
      ]
    },
    {
      "cell_type": "code",
      "execution_count": 13,
      "metadata": {
        "colab": {
          "base_uri": "https://localhost:8080/"
        },
        "id": "u5aSfaDlWkkZ",
        "outputId": "1d34ffe7-92f3-43f2-bbcd-3d2a77a5f9db"
      },
      "outputs": [
        {
          "output_type": "stream",
          "name": "stdout",
          "text": [
            "0 input_1\n",
            "1 rescaling\n",
            "2 normalization\n",
            "3 stem_conv_pad\n",
            "4 stem_conv\n",
            "5 stem_bn\n",
            "6 stem_activation\n",
            "7 block1a_dwconv\n",
            "8 block1a_bn\n",
            "9 block1a_activation\n",
            "10 block1a_se_squeeze\n",
            "11 block1a_se_reshape\n",
            "12 block1a_se_reduce\n",
            "13 block1a_se_expand\n",
            "14 block1a_se_excite\n",
            "15 block1a_project_conv\n",
            "16 block1a_project_bn\n",
            "17 block2a_expand_conv\n",
            "18 block2a_expand_bn\n",
            "19 block2a_expand_activation\n",
            "20 block2a_dwconv_pad\n",
            "21 block2a_dwconv\n",
            "22 block2a_bn\n",
            "23 block2a_activation\n",
            "24 block2a_se_squeeze\n",
            "25 block2a_se_reshape\n",
            "26 block2a_se_reduce\n",
            "27 block2a_se_expand\n",
            "28 block2a_se_excite\n",
            "29 block2a_project_conv\n",
            "30 block2a_project_bn\n",
            "31 block2b_expand_conv\n",
            "32 block2b_expand_bn\n",
            "33 block2b_expand_activation\n",
            "34 block2b_dwconv\n",
            "35 block2b_bn\n",
            "36 block2b_activation\n",
            "37 block2b_se_squeeze\n",
            "38 block2b_se_reshape\n",
            "39 block2b_se_reduce\n",
            "40 block2b_se_expand\n",
            "41 block2b_se_excite\n",
            "42 block2b_project_conv\n",
            "43 block2b_project_bn\n",
            "44 block2b_drop\n",
            "45 block2b_add\n",
            "46 block3a_expand_conv\n",
            "47 block3a_expand_bn\n",
            "48 block3a_expand_activation\n",
            "49 block3a_dwconv_pad\n",
            "50 block3a_dwconv\n",
            "51 block3a_bn\n",
            "52 block3a_activation\n",
            "53 block3a_se_squeeze\n",
            "54 block3a_se_reshape\n",
            "55 block3a_se_reduce\n",
            "56 block3a_se_expand\n",
            "57 block3a_se_excite\n",
            "58 block3a_project_conv\n",
            "59 block3a_project_bn\n",
            "60 block3b_expand_conv\n",
            "61 block3b_expand_bn\n",
            "62 block3b_expand_activation\n",
            "63 block3b_dwconv\n",
            "64 block3b_bn\n",
            "65 block3b_activation\n",
            "66 block3b_se_squeeze\n",
            "67 block3b_se_reshape\n",
            "68 block3b_se_reduce\n",
            "69 block3b_se_expand\n",
            "70 block3b_se_excite\n",
            "71 block3b_project_conv\n",
            "72 block3b_project_bn\n",
            "73 block3b_drop\n",
            "74 block3b_add\n",
            "75 block4a_expand_conv\n",
            "76 block4a_expand_bn\n",
            "77 block4a_expand_activation\n",
            "78 block4a_dwconv_pad\n",
            "79 block4a_dwconv\n",
            "80 block4a_bn\n",
            "81 block4a_activation\n",
            "82 block4a_se_squeeze\n",
            "83 block4a_se_reshape\n",
            "84 block4a_se_reduce\n",
            "85 block4a_se_expand\n",
            "86 block4a_se_excite\n",
            "87 block4a_project_conv\n",
            "88 block4a_project_bn\n",
            "89 block4b_expand_conv\n",
            "90 block4b_expand_bn\n",
            "91 block4b_expand_activation\n",
            "92 block4b_dwconv\n",
            "93 block4b_bn\n",
            "94 block4b_activation\n",
            "95 block4b_se_squeeze\n",
            "96 block4b_se_reshape\n",
            "97 block4b_se_reduce\n",
            "98 block4b_se_expand\n",
            "99 block4b_se_excite\n",
            "100 block4b_project_conv\n",
            "101 block4b_project_bn\n",
            "102 block4b_drop\n",
            "103 block4b_add\n",
            "104 block4c_expand_conv\n",
            "105 block4c_expand_bn\n",
            "106 block4c_expand_activation\n",
            "107 block4c_dwconv\n",
            "108 block4c_bn\n",
            "109 block4c_activation\n",
            "110 block4c_se_squeeze\n",
            "111 block4c_se_reshape\n",
            "112 block4c_se_reduce\n",
            "113 block4c_se_expand\n",
            "114 block4c_se_excite\n",
            "115 block4c_project_conv\n",
            "116 block4c_project_bn\n",
            "117 block4c_drop\n",
            "118 block4c_add\n",
            "119 block5a_expand_conv\n",
            "120 block5a_expand_bn\n",
            "121 block5a_expand_activation\n",
            "122 block5a_dwconv\n",
            "123 block5a_bn\n",
            "124 block5a_activation\n",
            "125 block5a_se_squeeze\n",
            "126 block5a_se_reshape\n",
            "127 block5a_se_reduce\n",
            "128 block5a_se_expand\n",
            "129 block5a_se_excite\n",
            "130 block5a_project_conv\n",
            "131 block5a_project_bn\n",
            "132 block5b_expand_conv\n",
            "133 block5b_expand_bn\n",
            "134 block5b_expand_activation\n",
            "135 block5b_dwconv\n",
            "136 block5b_bn\n",
            "137 block5b_activation\n",
            "138 block5b_se_squeeze\n",
            "139 block5b_se_reshape\n",
            "140 block5b_se_reduce\n",
            "141 block5b_se_expand\n",
            "142 block5b_se_excite\n",
            "143 block5b_project_conv\n",
            "144 block5b_project_bn\n",
            "145 block5b_drop\n",
            "146 block5b_add\n",
            "147 block5c_expand_conv\n",
            "148 block5c_expand_bn\n",
            "149 block5c_expand_activation\n",
            "150 block5c_dwconv\n",
            "151 block5c_bn\n",
            "152 block5c_activation\n",
            "153 block5c_se_squeeze\n",
            "154 block5c_se_reshape\n",
            "155 block5c_se_reduce\n",
            "156 block5c_se_expand\n",
            "157 block5c_se_excite\n",
            "158 block5c_project_conv\n",
            "159 block5c_project_bn\n",
            "160 block5c_drop\n",
            "161 block5c_add\n",
            "162 block6a_expand_conv\n",
            "163 block6a_expand_bn\n",
            "164 block6a_expand_activation\n",
            "165 block6a_dwconv_pad\n",
            "166 block6a_dwconv\n",
            "167 block6a_bn\n",
            "168 block6a_activation\n",
            "169 block6a_se_squeeze\n",
            "170 block6a_se_reshape\n",
            "171 block6a_se_reduce\n",
            "172 block6a_se_expand\n",
            "173 block6a_se_excite\n",
            "174 block6a_project_conv\n",
            "175 block6a_project_bn\n",
            "176 block6b_expand_conv\n",
            "177 block6b_expand_bn\n",
            "178 block6b_expand_activation\n",
            "179 block6b_dwconv\n",
            "180 block6b_bn\n",
            "181 block6b_activation\n",
            "182 block6b_se_squeeze\n",
            "183 block6b_se_reshape\n",
            "184 block6b_se_reduce\n",
            "185 block6b_se_expand\n",
            "186 block6b_se_excite\n",
            "187 block6b_project_conv\n",
            "188 block6b_project_bn\n",
            "189 block6b_drop\n",
            "190 block6b_add\n",
            "191 block6c_expand_conv\n",
            "192 block6c_expand_bn\n",
            "193 block6c_expand_activation\n",
            "194 block6c_dwconv\n",
            "195 block6c_bn\n",
            "196 block6c_activation\n",
            "197 block6c_se_squeeze\n",
            "198 block6c_se_reshape\n",
            "199 block6c_se_reduce\n",
            "200 block6c_se_expand\n",
            "201 block6c_se_excite\n",
            "202 block6c_project_conv\n",
            "203 block6c_project_bn\n",
            "204 block6c_drop\n",
            "205 block6c_add\n",
            "206 block6d_expand_conv\n",
            "207 block6d_expand_bn\n",
            "208 block6d_expand_activation\n",
            "209 block6d_dwconv\n",
            "210 block6d_bn\n",
            "211 block6d_activation\n",
            "212 block6d_se_squeeze\n",
            "213 block6d_se_reshape\n",
            "214 block6d_se_reduce\n",
            "215 block6d_se_expand\n",
            "216 block6d_se_excite\n",
            "217 block6d_project_conv\n",
            "218 block6d_project_bn\n",
            "219 block6d_drop\n",
            "220 block6d_add\n",
            "221 block7a_expand_conv\n",
            "222 block7a_expand_bn\n",
            "223 block7a_expand_activation\n",
            "224 block7a_dwconv\n",
            "225 block7a_bn\n",
            "226 block7a_activation\n",
            "227 block7a_se_squeeze\n",
            "228 block7a_se_reshape\n",
            "229 block7a_se_reduce\n",
            "230 block7a_se_expand\n",
            "231 block7a_se_excite\n",
            "232 block7a_project_conv\n",
            "233 block7a_project_bn\n",
            "234 top_conv\n",
            "235 top_bn\n",
            "236 top_activation\n"
          ]
        }
      ],
      "source": [
        "# Check layers in our base model\n",
        "for layer_number, layer in enumerate(base_model.layers):\n",
        "  print(layer_number, layer.name)"
      ]
    },
    {
      "cell_type": "code",
      "execution_count": 14,
      "metadata": {
        "colab": {
          "base_uri": "https://localhost:8080/"
        },
        "id": "JYvD-hm2ErGo",
        "outputId": "cedafadc-569d-4c32-a6bf-a97f6eeb8e7a"
      },
      "outputs": [
        {
          "output_type": "stream",
          "name": "stdout",
          "text": [
            "Model: \"efficientnetb0\"\n",
            "__________________________________________________________________________________________________\n",
            " Layer (type)                   Output Shape         Param #     Connected to                     \n",
            "==================================================================================================\n",
            " input_1 (InputLayer)           [(None, None, None,  0           []                               \n",
            "                                 3)]                                                              \n",
            "                                                                                                  \n",
            " rescaling (Rescaling)          (None, None, None,   0           ['input_1[0][0]']                \n",
            "                                3)                                                                \n",
            "                                                                                                  \n",
            " normalization (Normalization)  (None, None, None,   7           ['rescaling[0][0]']              \n",
            "                                3)                                                                \n",
            "                                                                                                  \n",
            " stem_conv_pad (ZeroPadding2D)  (None, None, None,   0           ['normalization[0][0]']          \n",
            "                                3)                                                                \n",
            "                                                                                                  \n",
            " stem_conv (Conv2D)             (None, None, None,   864         ['stem_conv_pad[0][0]']          \n",
            "                                32)                                                               \n",
            "                                                                                                  \n",
            " stem_bn (BatchNormalization)   (None, None, None,   128         ['stem_conv[0][0]']              \n",
            "                                32)                                                               \n",
            "                                                                                                  \n",
            " stem_activation (Activation)   (None, None, None,   0           ['stem_bn[0][0]']                \n",
            "                                32)                                                               \n",
            "                                                                                                  \n",
            " block1a_dwconv (DepthwiseConv2  (None, None, None,   288        ['stem_activation[0][0]']        \n",
            " D)                             32)                                                               \n",
            "                                                                                                  \n",
            " block1a_bn (BatchNormalization  (None, None, None,   128        ['block1a_dwconv[0][0]']         \n",
            " )                              32)                                                               \n",
            "                                                                                                  \n",
            " block1a_activation (Activation  (None, None, None,   0          ['block1a_bn[0][0]']             \n",
            " )                              32)                                                               \n",
            "                                                                                                  \n",
            " block1a_se_squeeze (GlobalAver  (None, 32)          0           ['block1a_activation[0][0]']     \n",
            " agePooling2D)                                                                                    \n",
            "                                                                                                  \n",
            " block1a_se_reshape (Reshape)   (None, 1, 1, 32)     0           ['block1a_se_squeeze[0][0]']     \n",
            "                                                                                                  \n",
            " block1a_se_reduce (Conv2D)     (None, 1, 1, 8)      264         ['block1a_se_reshape[0][0]']     \n",
            "                                                                                                  \n",
            " block1a_se_expand (Conv2D)     (None, 1, 1, 32)     288         ['block1a_se_reduce[0][0]']      \n",
            "                                                                                                  \n",
            " block1a_se_excite (Multiply)   (None, None, None,   0           ['block1a_activation[0][0]',     \n",
            "                                32)                               'block1a_se_expand[0][0]']      \n",
            "                                                                                                  \n",
            " block1a_project_conv (Conv2D)  (None, None, None,   512         ['block1a_se_excite[0][0]']      \n",
            "                                16)                                                               \n",
            "                                                                                                  \n",
            " block1a_project_bn (BatchNorma  (None, None, None,   64         ['block1a_project_conv[0][0]']   \n",
            " lization)                      16)                                                               \n",
            "                                                                                                  \n",
            " block2a_expand_conv (Conv2D)   (None, None, None,   1536        ['block1a_project_bn[0][0]']     \n",
            "                                96)                                                               \n",
            "                                                                                                  \n",
            " block2a_expand_bn (BatchNormal  (None, None, None,   384        ['block2a_expand_conv[0][0]']    \n",
            " ization)                       96)                                                               \n",
            "                                                                                                  \n",
            " block2a_expand_activation (Act  (None, None, None,   0          ['block2a_expand_bn[0][0]']      \n",
            " ivation)                       96)                                                               \n",
            "                                                                                                  \n",
            " block2a_dwconv_pad (ZeroPaddin  (None, None, None,   0          ['block2a_expand_activation[0][0]\n",
            " g2D)                           96)                              ']                               \n",
            "                                                                                                  \n",
            " block2a_dwconv (DepthwiseConv2  (None, None, None,   864        ['block2a_dwconv_pad[0][0]']     \n",
            " D)                             96)                                                               \n",
            "                                                                                                  \n",
            " block2a_bn (BatchNormalization  (None, None, None,   384        ['block2a_dwconv[0][0]']         \n",
            " )                              96)                                                               \n",
            "                                                                                                  \n",
            " block2a_activation (Activation  (None, None, None,   0          ['block2a_bn[0][0]']             \n",
            " )                              96)                                                               \n",
            "                                                                                                  \n",
            " block2a_se_squeeze (GlobalAver  (None, 96)          0           ['block2a_activation[0][0]']     \n",
            " agePooling2D)                                                                                    \n",
            "                                                                                                  \n",
            " block2a_se_reshape (Reshape)   (None, 1, 1, 96)     0           ['block2a_se_squeeze[0][0]']     \n",
            "                                                                                                  \n",
            " block2a_se_reduce (Conv2D)     (None, 1, 1, 4)      388         ['block2a_se_reshape[0][0]']     \n",
            "                                                                                                  \n",
            " block2a_se_expand (Conv2D)     (None, 1, 1, 96)     480         ['block2a_se_reduce[0][0]']      \n",
            "                                                                                                  \n",
            " block2a_se_excite (Multiply)   (None, None, None,   0           ['block2a_activation[0][0]',     \n",
            "                                96)                               'block2a_se_expand[0][0]']      \n",
            "                                                                                                  \n",
            " block2a_project_conv (Conv2D)  (None, None, None,   2304        ['block2a_se_excite[0][0]']      \n",
            "                                24)                                                               \n",
            "                                                                                                  \n",
            " block2a_project_bn (BatchNorma  (None, None, None,   96         ['block2a_project_conv[0][0]']   \n",
            " lization)                      24)                                                               \n",
            "                                                                                                  \n",
            " block2b_expand_conv (Conv2D)   (None, None, None,   3456        ['block2a_project_bn[0][0]']     \n",
            "                                144)                                                              \n",
            "                                                                                                  \n",
            " block2b_expand_bn (BatchNormal  (None, None, None,   576        ['block2b_expand_conv[0][0]']    \n",
            " ization)                       144)                                                              \n",
            "                                                                                                  \n",
            " block2b_expand_activation (Act  (None, None, None,   0          ['block2b_expand_bn[0][0]']      \n",
            " ivation)                       144)                                                              \n",
            "                                                                                                  \n",
            " block2b_dwconv (DepthwiseConv2  (None, None, None,   1296       ['block2b_expand_activation[0][0]\n",
            " D)                             144)                             ']                               \n",
            "                                                                                                  \n",
            " block2b_bn (BatchNormalization  (None, None, None,   576        ['block2b_dwconv[0][0]']         \n",
            " )                              144)                                                              \n",
            "                                                                                                  \n",
            " block2b_activation (Activation  (None, None, None,   0          ['block2b_bn[0][0]']             \n",
            " )                              144)                                                              \n",
            "                                                                                                  \n",
            " block2b_se_squeeze (GlobalAver  (None, 144)         0           ['block2b_activation[0][0]']     \n",
            " agePooling2D)                                                                                    \n",
            "                                                                                                  \n",
            " block2b_se_reshape (Reshape)   (None, 1, 1, 144)    0           ['block2b_se_squeeze[0][0]']     \n",
            "                                                                                                  \n",
            " block2b_se_reduce (Conv2D)     (None, 1, 1, 6)      870         ['block2b_se_reshape[0][0]']     \n",
            "                                                                                                  \n",
            " block2b_se_expand (Conv2D)     (None, 1, 1, 144)    1008        ['block2b_se_reduce[0][0]']      \n",
            "                                                                                                  \n",
            " block2b_se_excite (Multiply)   (None, None, None,   0           ['block2b_activation[0][0]',     \n",
            "                                144)                              'block2b_se_expand[0][0]']      \n",
            "                                                                                                  \n",
            " block2b_project_conv (Conv2D)  (None, None, None,   3456        ['block2b_se_excite[0][0]']      \n",
            "                                24)                                                               \n",
            "                                                                                                  \n",
            " block2b_project_bn (BatchNorma  (None, None, None,   96         ['block2b_project_conv[0][0]']   \n",
            " lization)                      24)                                                               \n",
            "                                                                                                  \n",
            " block2b_drop (Dropout)         (None, None, None,   0           ['block2b_project_bn[0][0]']     \n",
            "                                24)                                                               \n",
            "                                                                                                  \n",
            " block2b_add (Add)              (None, None, None,   0           ['block2b_drop[0][0]',           \n",
            "                                24)                               'block2a_project_bn[0][0]']     \n",
            "                                                                                                  \n",
            " block3a_expand_conv (Conv2D)   (None, None, None,   3456        ['block2b_add[0][0]']            \n",
            "                                144)                                                              \n",
            "                                                                                                  \n",
            " block3a_expand_bn (BatchNormal  (None, None, None,   576        ['block3a_expand_conv[0][0]']    \n",
            " ization)                       144)                                                              \n",
            "                                                                                                  \n",
            " block3a_expand_activation (Act  (None, None, None,   0          ['block3a_expand_bn[0][0]']      \n",
            " ivation)                       144)                                                              \n",
            "                                                                                                  \n",
            " block3a_dwconv_pad (ZeroPaddin  (None, None, None,   0          ['block3a_expand_activation[0][0]\n",
            " g2D)                           144)                             ']                               \n",
            "                                                                                                  \n",
            " block3a_dwconv (DepthwiseConv2  (None, None, None,   3600       ['block3a_dwconv_pad[0][0]']     \n",
            " D)                             144)                                                              \n",
            "                                                                                                  \n",
            " block3a_bn (BatchNormalization  (None, None, None,   576        ['block3a_dwconv[0][0]']         \n",
            " )                              144)                                                              \n",
            "                                                                                                  \n",
            " block3a_activation (Activation  (None, None, None,   0          ['block3a_bn[0][0]']             \n",
            " )                              144)                                                              \n",
            "                                                                                                  \n",
            " block3a_se_squeeze (GlobalAver  (None, 144)         0           ['block3a_activation[0][0]']     \n",
            " agePooling2D)                                                                                    \n",
            "                                                                                                  \n",
            " block3a_se_reshape (Reshape)   (None, 1, 1, 144)    0           ['block3a_se_squeeze[0][0]']     \n",
            "                                                                                                  \n",
            " block3a_se_reduce (Conv2D)     (None, 1, 1, 6)      870         ['block3a_se_reshape[0][0]']     \n",
            "                                                                                                  \n",
            " block3a_se_expand (Conv2D)     (None, 1, 1, 144)    1008        ['block3a_se_reduce[0][0]']      \n",
            "                                                                                                  \n",
            " block3a_se_excite (Multiply)   (None, None, None,   0           ['block3a_activation[0][0]',     \n",
            "                                144)                              'block3a_se_expand[0][0]']      \n",
            "                                                                                                  \n",
            " block3a_project_conv (Conv2D)  (None, None, None,   5760        ['block3a_se_excite[0][0]']      \n",
            "                                40)                                                               \n",
            "                                                                                                  \n",
            " block3a_project_bn (BatchNorma  (None, None, None,   160        ['block3a_project_conv[0][0]']   \n",
            " lization)                      40)                                                               \n",
            "                                                                                                  \n",
            " block3b_expand_conv (Conv2D)   (None, None, None,   9600        ['block3a_project_bn[0][0]']     \n",
            "                                240)                                                              \n",
            "                                                                                                  \n",
            " block3b_expand_bn (BatchNormal  (None, None, None,   960        ['block3b_expand_conv[0][0]']    \n",
            " ization)                       240)                                                              \n",
            "                                                                                                  \n",
            " block3b_expand_activation (Act  (None, None, None,   0          ['block3b_expand_bn[0][0]']      \n",
            " ivation)                       240)                                                              \n",
            "                                                                                                  \n",
            " block3b_dwconv (DepthwiseConv2  (None, None, None,   6000       ['block3b_expand_activation[0][0]\n",
            " D)                             240)                             ']                               \n",
            "                                                                                                  \n",
            " block3b_bn (BatchNormalization  (None, None, None,   960        ['block3b_dwconv[0][0]']         \n",
            " )                              240)                                                              \n",
            "                                                                                                  \n",
            " block3b_activation (Activation  (None, None, None,   0          ['block3b_bn[0][0]']             \n",
            " )                              240)                                                              \n",
            "                                                                                                  \n",
            " block3b_se_squeeze (GlobalAver  (None, 240)         0           ['block3b_activation[0][0]']     \n",
            " agePooling2D)                                                                                    \n",
            "                                                                                                  \n",
            " block3b_se_reshape (Reshape)   (None, 1, 1, 240)    0           ['block3b_se_squeeze[0][0]']     \n",
            "                                                                                                  \n",
            " block3b_se_reduce (Conv2D)     (None, 1, 1, 10)     2410        ['block3b_se_reshape[0][0]']     \n",
            "                                                                                                  \n",
            " block3b_se_expand (Conv2D)     (None, 1, 1, 240)    2640        ['block3b_se_reduce[0][0]']      \n",
            "                                                                                                  \n",
            " block3b_se_excite (Multiply)   (None, None, None,   0           ['block3b_activation[0][0]',     \n",
            "                                240)                              'block3b_se_expand[0][0]']      \n",
            "                                                                                                  \n",
            " block3b_project_conv (Conv2D)  (None, None, None,   9600        ['block3b_se_excite[0][0]']      \n",
            "                                40)                                                               \n",
            "                                                                                                  \n",
            " block3b_project_bn (BatchNorma  (None, None, None,   160        ['block3b_project_conv[0][0]']   \n",
            " lization)                      40)                                                               \n",
            "                                                                                                  \n",
            " block3b_drop (Dropout)         (None, None, None,   0           ['block3b_project_bn[0][0]']     \n",
            "                                40)                                                               \n",
            "                                                                                                  \n",
            " block3b_add (Add)              (None, None, None,   0           ['block3b_drop[0][0]',           \n",
            "                                40)                               'block3a_project_bn[0][0]']     \n",
            "                                                                                                  \n",
            " block4a_expand_conv (Conv2D)   (None, None, None,   9600        ['block3b_add[0][0]']            \n",
            "                                240)                                                              \n",
            "                                                                                                  \n",
            " block4a_expand_bn (BatchNormal  (None, None, None,   960        ['block4a_expand_conv[0][0]']    \n",
            " ization)                       240)                                                              \n",
            "                                                                                                  \n",
            " block4a_expand_activation (Act  (None, None, None,   0          ['block4a_expand_bn[0][0]']      \n",
            " ivation)                       240)                                                              \n",
            "                                                                                                  \n",
            " block4a_dwconv_pad (ZeroPaddin  (None, None, None,   0          ['block4a_expand_activation[0][0]\n",
            " g2D)                           240)                             ']                               \n",
            "                                                                                                  \n",
            " block4a_dwconv (DepthwiseConv2  (None, None, None,   2160       ['block4a_dwconv_pad[0][0]']     \n",
            " D)                             240)                                                              \n",
            "                                                                                                  \n",
            " block4a_bn (BatchNormalization  (None, None, None,   960        ['block4a_dwconv[0][0]']         \n",
            " )                              240)                                                              \n",
            "                                                                                                  \n",
            " block4a_activation (Activation  (None, None, None,   0          ['block4a_bn[0][0]']             \n",
            " )                              240)                                                              \n",
            "                                                                                                  \n",
            " block4a_se_squeeze (GlobalAver  (None, 240)         0           ['block4a_activation[0][0]']     \n",
            " agePooling2D)                                                                                    \n",
            "                                                                                                  \n",
            " block4a_se_reshape (Reshape)   (None, 1, 1, 240)    0           ['block4a_se_squeeze[0][0]']     \n",
            "                                                                                                  \n",
            " block4a_se_reduce (Conv2D)     (None, 1, 1, 10)     2410        ['block4a_se_reshape[0][0]']     \n",
            "                                                                                                  \n",
            " block4a_se_expand (Conv2D)     (None, 1, 1, 240)    2640        ['block4a_se_reduce[0][0]']      \n",
            "                                                                                                  \n",
            " block4a_se_excite (Multiply)   (None, None, None,   0           ['block4a_activation[0][0]',     \n",
            "                                240)                              'block4a_se_expand[0][0]']      \n",
            "                                                                                                  \n",
            " block4a_project_conv (Conv2D)  (None, None, None,   19200       ['block4a_se_excite[0][0]']      \n",
            "                                80)                                                               \n",
            "                                                                                                  \n",
            " block4a_project_bn (BatchNorma  (None, None, None,   320        ['block4a_project_conv[0][0]']   \n",
            " lization)                      80)                                                               \n",
            "                                                                                                  \n",
            " block4b_expand_conv (Conv2D)   (None, None, None,   38400       ['block4a_project_bn[0][0]']     \n",
            "                                480)                                                              \n",
            "                                                                                                  \n",
            " block4b_expand_bn (BatchNormal  (None, None, None,   1920       ['block4b_expand_conv[0][0]']    \n",
            " ization)                       480)                                                              \n",
            "                                                                                                  \n",
            " block4b_expand_activation (Act  (None, None, None,   0          ['block4b_expand_bn[0][0]']      \n",
            " ivation)                       480)                                                              \n",
            "                                                                                                  \n",
            " block4b_dwconv (DepthwiseConv2  (None, None, None,   4320       ['block4b_expand_activation[0][0]\n",
            " D)                             480)                             ']                               \n",
            "                                                                                                  \n",
            " block4b_bn (BatchNormalization  (None, None, None,   1920       ['block4b_dwconv[0][0]']         \n",
            " )                              480)                                                              \n",
            "                                                                                                  \n",
            " block4b_activation (Activation  (None, None, None,   0          ['block4b_bn[0][0]']             \n",
            " )                              480)                                                              \n",
            "                                                                                                  \n",
            " block4b_se_squeeze (GlobalAver  (None, 480)         0           ['block4b_activation[0][0]']     \n",
            " agePooling2D)                                                                                    \n",
            "                                                                                                  \n",
            " block4b_se_reshape (Reshape)   (None, 1, 1, 480)    0           ['block4b_se_squeeze[0][0]']     \n",
            "                                                                                                  \n",
            " block4b_se_reduce (Conv2D)     (None, 1, 1, 20)     9620        ['block4b_se_reshape[0][0]']     \n",
            "                                                                                                  \n",
            " block4b_se_expand (Conv2D)     (None, 1, 1, 480)    10080       ['block4b_se_reduce[0][0]']      \n",
            "                                                                                                  \n",
            " block4b_se_excite (Multiply)   (None, None, None,   0           ['block4b_activation[0][0]',     \n",
            "                                480)                              'block4b_se_expand[0][0]']      \n",
            "                                                                                                  \n",
            " block4b_project_conv (Conv2D)  (None, None, None,   38400       ['block4b_se_excite[0][0]']      \n",
            "                                80)                                                               \n",
            "                                                                                                  \n",
            " block4b_project_bn (BatchNorma  (None, None, None,   320        ['block4b_project_conv[0][0]']   \n",
            " lization)                      80)                                                               \n",
            "                                                                                                  \n",
            " block4b_drop (Dropout)         (None, None, None,   0           ['block4b_project_bn[0][0]']     \n",
            "                                80)                                                               \n",
            "                                                                                                  \n",
            " block4b_add (Add)              (None, None, None,   0           ['block4b_drop[0][0]',           \n",
            "                                80)                               'block4a_project_bn[0][0]']     \n",
            "                                                                                                  \n",
            " block4c_expand_conv (Conv2D)   (None, None, None,   38400       ['block4b_add[0][0]']            \n",
            "                                480)                                                              \n",
            "                                                                                                  \n",
            " block4c_expand_bn (BatchNormal  (None, None, None,   1920       ['block4c_expand_conv[0][0]']    \n",
            " ization)                       480)                                                              \n",
            "                                                                                                  \n",
            " block4c_expand_activation (Act  (None, None, None,   0          ['block4c_expand_bn[0][0]']      \n",
            " ivation)                       480)                                                              \n",
            "                                                                                                  \n",
            " block4c_dwconv (DepthwiseConv2  (None, None, None,   4320       ['block4c_expand_activation[0][0]\n",
            " D)                             480)                             ']                               \n",
            "                                                                                                  \n",
            " block4c_bn (BatchNormalization  (None, None, None,   1920       ['block4c_dwconv[0][0]']         \n",
            " )                              480)                                                              \n",
            "                                                                                                  \n",
            " block4c_activation (Activation  (None, None, None,   0          ['block4c_bn[0][0]']             \n",
            " )                              480)                                                              \n",
            "                                                                                                  \n",
            " block4c_se_squeeze (GlobalAver  (None, 480)         0           ['block4c_activation[0][0]']     \n",
            " agePooling2D)                                                                                    \n",
            "                                                                                                  \n",
            " block4c_se_reshape (Reshape)   (None, 1, 1, 480)    0           ['block4c_se_squeeze[0][0]']     \n",
            "                                                                                                  \n",
            " block4c_se_reduce (Conv2D)     (None, 1, 1, 20)     9620        ['block4c_se_reshape[0][0]']     \n",
            "                                                                                                  \n",
            " block4c_se_expand (Conv2D)     (None, 1, 1, 480)    10080       ['block4c_se_reduce[0][0]']      \n",
            "                                                                                                  \n",
            " block4c_se_excite (Multiply)   (None, None, None,   0           ['block4c_activation[0][0]',     \n",
            "                                480)                              'block4c_se_expand[0][0]']      \n",
            "                                                                                                  \n",
            " block4c_project_conv (Conv2D)  (None, None, None,   38400       ['block4c_se_excite[0][0]']      \n",
            "                                80)                                                               \n",
            "                                                                                                  \n",
            " block4c_project_bn (BatchNorma  (None, None, None,   320        ['block4c_project_conv[0][0]']   \n",
            " lization)                      80)                                                               \n",
            "                                                                                                  \n",
            " block4c_drop (Dropout)         (None, None, None,   0           ['block4c_project_bn[0][0]']     \n",
            "                                80)                                                               \n",
            "                                                                                                  \n",
            " block4c_add (Add)              (None, None, None,   0           ['block4c_drop[0][0]',           \n",
            "                                80)                               'block4b_add[0][0]']            \n",
            "                                                                                                  \n",
            " block5a_expand_conv (Conv2D)   (None, None, None,   38400       ['block4c_add[0][0]']            \n",
            "                                480)                                                              \n",
            "                                                                                                  \n",
            " block5a_expand_bn (BatchNormal  (None, None, None,   1920       ['block5a_expand_conv[0][0]']    \n",
            " ization)                       480)                                                              \n",
            "                                                                                                  \n",
            " block5a_expand_activation (Act  (None, None, None,   0          ['block5a_expand_bn[0][0]']      \n",
            " ivation)                       480)                                                              \n",
            "                                                                                                  \n",
            " block5a_dwconv (DepthwiseConv2  (None, None, None,   12000      ['block5a_expand_activation[0][0]\n",
            " D)                             480)                             ']                               \n",
            "                                                                                                  \n",
            " block5a_bn (BatchNormalization  (None, None, None,   1920       ['block5a_dwconv[0][0]']         \n",
            " )                              480)                                                              \n",
            "                                                                                                  \n",
            " block5a_activation (Activation  (None, None, None,   0          ['block5a_bn[0][0]']             \n",
            " )                              480)                                                              \n",
            "                                                                                                  \n",
            " block5a_se_squeeze (GlobalAver  (None, 480)         0           ['block5a_activation[0][0]']     \n",
            " agePooling2D)                                                                                    \n",
            "                                                                                                  \n",
            " block5a_se_reshape (Reshape)   (None, 1, 1, 480)    0           ['block5a_se_squeeze[0][0]']     \n",
            "                                                                                                  \n",
            " block5a_se_reduce (Conv2D)     (None, 1, 1, 20)     9620        ['block5a_se_reshape[0][0]']     \n",
            "                                                                                                  \n",
            " block5a_se_expand (Conv2D)     (None, 1, 1, 480)    10080       ['block5a_se_reduce[0][0]']      \n",
            "                                                                                                  \n",
            " block5a_se_excite (Multiply)   (None, None, None,   0           ['block5a_activation[0][0]',     \n",
            "                                480)                              'block5a_se_expand[0][0]']      \n",
            "                                                                                                  \n",
            " block5a_project_conv (Conv2D)  (None, None, None,   53760       ['block5a_se_excite[0][0]']      \n",
            "                                112)                                                              \n",
            "                                                                                                  \n",
            " block5a_project_bn (BatchNorma  (None, None, None,   448        ['block5a_project_conv[0][0]']   \n",
            " lization)                      112)                                                              \n",
            "                                                                                                  \n",
            " block5b_expand_conv (Conv2D)   (None, None, None,   75264       ['block5a_project_bn[0][0]']     \n",
            "                                672)                                                              \n",
            "                                                                                                  \n",
            " block5b_expand_bn (BatchNormal  (None, None, None,   2688       ['block5b_expand_conv[0][0]']    \n",
            " ization)                       672)                                                              \n",
            "                                                                                                  \n",
            " block5b_expand_activation (Act  (None, None, None,   0          ['block5b_expand_bn[0][0]']      \n",
            " ivation)                       672)                                                              \n",
            "                                                                                                  \n",
            " block5b_dwconv (DepthwiseConv2  (None, None, None,   16800      ['block5b_expand_activation[0][0]\n",
            " D)                             672)                             ']                               \n",
            "                                                                                                  \n",
            " block5b_bn (BatchNormalization  (None, None, None,   2688       ['block5b_dwconv[0][0]']         \n",
            " )                              672)                                                              \n",
            "                                                                                                  \n",
            " block5b_activation (Activation  (None, None, None,   0          ['block5b_bn[0][0]']             \n",
            " )                              672)                                                              \n",
            "                                                                                                  \n",
            " block5b_se_squeeze (GlobalAver  (None, 672)         0           ['block5b_activation[0][0]']     \n",
            " agePooling2D)                                                                                    \n",
            "                                                                                                  \n",
            " block5b_se_reshape (Reshape)   (None, 1, 1, 672)    0           ['block5b_se_squeeze[0][0]']     \n",
            "                                                                                                  \n",
            " block5b_se_reduce (Conv2D)     (None, 1, 1, 28)     18844       ['block5b_se_reshape[0][0]']     \n",
            "                                                                                                  \n",
            " block5b_se_expand (Conv2D)     (None, 1, 1, 672)    19488       ['block5b_se_reduce[0][0]']      \n",
            "                                                                                                  \n",
            " block5b_se_excite (Multiply)   (None, None, None,   0           ['block5b_activation[0][0]',     \n",
            "                                672)                              'block5b_se_expand[0][0]']      \n",
            "                                                                                                  \n",
            " block5b_project_conv (Conv2D)  (None, None, None,   75264       ['block5b_se_excite[0][0]']      \n",
            "                                112)                                                              \n",
            "                                                                                                  \n",
            " block5b_project_bn (BatchNorma  (None, None, None,   448        ['block5b_project_conv[0][0]']   \n",
            " lization)                      112)                                                              \n",
            "                                                                                                  \n",
            " block5b_drop (Dropout)         (None, None, None,   0           ['block5b_project_bn[0][0]']     \n",
            "                                112)                                                              \n",
            "                                                                                                  \n",
            " block5b_add (Add)              (None, None, None,   0           ['block5b_drop[0][0]',           \n",
            "                                112)                              'block5a_project_bn[0][0]']     \n",
            "                                                                                                  \n",
            " block5c_expand_conv (Conv2D)   (None, None, None,   75264       ['block5b_add[0][0]']            \n",
            "                                672)                                                              \n",
            "                                                                                                  \n",
            " block5c_expand_bn (BatchNormal  (None, None, None,   2688       ['block5c_expand_conv[0][0]']    \n",
            " ization)                       672)                                                              \n",
            "                                                                                                  \n",
            " block5c_expand_activation (Act  (None, None, None,   0          ['block5c_expand_bn[0][0]']      \n",
            " ivation)                       672)                                                              \n",
            "                                                                                                  \n",
            " block5c_dwconv (DepthwiseConv2  (None, None, None,   16800      ['block5c_expand_activation[0][0]\n",
            " D)                             672)                             ']                               \n",
            "                                                                                                  \n",
            " block5c_bn (BatchNormalization  (None, None, None,   2688       ['block5c_dwconv[0][0]']         \n",
            " )                              672)                                                              \n",
            "                                                                                                  \n",
            " block5c_activation (Activation  (None, None, None,   0          ['block5c_bn[0][0]']             \n",
            " )                              672)                                                              \n",
            "                                                                                                  \n",
            " block5c_se_squeeze (GlobalAver  (None, 672)         0           ['block5c_activation[0][0]']     \n",
            " agePooling2D)                                                                                    \n",
            "                                                                                                  \n",
            " block5c_se_reshape (Reshape)   (None, 1, 1, 672)    0           ['block5c_se_squeeze[0][0]']     \n",
            "                                                                                                  \n",
            " block5c_se_reduce (Conv2D)     (None, 1, 1, 28)     18844       ['block5c_se_reshape[0][0]']     \n",
            "                                                                                                  \n",
            " block5c_se_expand (Conv2D)     (None, 1, 1, 672)    19488       ['block5c_se_reduce[0][0]']      \n",
            "                                                                                                  \n",
            " block5c_se_excite (Multiply)   (None, None, None,   0           ['block5c_activation[0][0]',     \n",
            "                                672)                              'block5c_se_expand[0][0]']      \n",
            "                                                                                                  \n",
            " block5c_project_conv (Conv2D)  (None, None, None,   75264       ['block5c_se_excite[0][0]']      \n",
            "                                112)                                                              \n",
            "                                                                                                  \n",
            " block5c_project_bn (BatchNorma  (None, None, None,   448        ['block5c_project_conv[0][0]']   \n",
            " lization)                      112)                                                              \n",
            "                                                                                                  \n",
            " block5c_drop (Dropout)         (None, None, None,   0           ['block5c_project_bn[0][0]']     \n",
            "                                112)                                                              \n",
            "                                                                                                  \n",
            " block5c_add (Add)              (None, None, None,   0           ['block5c_drop[0][0]',           \n",
            "                                112)                              'block5b_add[0][0]']            \n",
            "                                                                                                  \n",
            " block6a_expand_conv (Conv2D)   (None, None, None,   75264       ['block5c_add[0][0]']            \n",
            "                                672)                                                              \n",
            "                                                                                                  \n",
            " block6a_expand_bn (BatchNormal  (None, None, None,   2688       ['block6a_expand_conv[0][0]']    \n",
            " ization)                       672)                                                              \n",
            "                                                                                                  \n",
            " block6a_expand_activation (Act  (None, None, None,   0          ['block6a_expand_bn[0][0]']      \n",
            " ivation)                       672)                                                              \n",
            "                                                                                                  \n",
            " block6a_dwconv_pad (ZeroPaddin  (None, None, None,   0          ['block6a_expand_activation[0][0]\n",
            " g2D)                           672)                             ']                               \n",
            "                                                                                                  \n",
            " block6a_dwconv (DepthwiseConv2  (None, None, None,   16800      ['block6a_dwconv_pad[0][0]']     \n",
            " D)                             672)                                                              \n",
            "                                                                                                  \n",
            " block6a_bn (BatchNormalization  (None, None, None,   2688       ['block6a_dwconv[0][0]']         \n",
            " )                              672)                                                              \n",
            "                                                                                                  \n",
            " block6a_activation (Activation  (None, None, None,   0          ['block6a_bn[0][0]']             \n",
            " )                              672)                                                              \n",
            "                                                                                                  \n",
            " block6a_se_squeeze (GlobalAver  (None, 672)         0           ['block6a_activation[0][0]']     \n",
            " agePooling2D)                                                                                    \n",
            "                                                                                                  \n",
            " block6a_se_reshape (Reshape)   (None, 1, 1, 672)    0           ['block6a_se_squeeze[0][0]']     \n",
            "                                                                                                  \n",
            " block6a_se_reduce (Conv2D)     (None, 1, 1, 28)     18844       ['block6a_se_reshape[0][0]']     \n",
            "                                                                                                  \n",
            " block6a_se_expand (Conv2D)     (None, 1, 1, 672)    19488       ['block6a_se_reduce[0][0]']      \n",
            "                                                                                                  \n",
            " block6a_se_excite (Multiply)   (None, None, None,   0           ['block6a_activation[0][0]',     \n",
            "                                672)                              'block6a_se_expand[0][0]']      \n",
            "                                                                                                  \n",
            " block6a_project_conv (Conv2D)  (None, None, None,   129024      ['block6a_se_excite[0][0]']      \n",
            "                                192)                                                              \n",
            "                                                                                                  \n",
            " block6a_project_bn (BatchNorma  (None, None, None,   768        ['block6a_project_conv[0][0]']   \n",
            " lization)                      192)                                                              \n",
            "                                                                                                  \n",
            " block6b_expand_conv (Conv2D)   (None, None, None,   221184      ['block6a_project_bn[0][0]']     \n",
            "                                1152)                                                             \n",
            "                                                                                                  \n",
            " block6b_expand_bn (BatchNormal  (None, None, None,   4608       ['block6b_expand_conv[0][0]']    \n",
            " ization)                       1152)                                                             \n",
            "                                                                                                  \n",
            " block6b_expand_activation (Act  (None, None, None,   0          ['block6b_expand_bn[0][0]']      \n",
            " ivation)                       1152)                                                             \n",
            "                                                                                                  \n",
            " block6b_dwconv (DepthwiseConv2  (None, None, None,   28800      ['block6b_expand_activation[0][0]\n",
            " D)                             1152)                            ']                               \n",
            "                                                                                                  \n",
            " block6b_bn (BatchNormalization  (None, None, None,   4608       ['block6b_dwconv[0][0]']         \n",
            " )                              1152)                                                             \n",
            "                                                                                                  \n",
            " block6b_activation (Activation  (None, None, None,   0          ['block6b_bn[0][0]']             \n",
            " )                              1152)                                                             \n",
            "                                                                                                  \n",
            " block6b_se_squeeze (GlobalAver  (None, 1152)        0           ['block6b_activation[0][0]']     \n",
            " agePooling2D)                                                                                    \n",
            "                                                                                                  \n",
            " block6b_se_reshape (Reshape)   (None, 1, 1, 1152)   0           ['block6b_se_squeeze[0][0]']     \n",
            "                                                                                                  \n",
            " block6b_se_reduce (Conv2D)     (None, 1, 1, 48)     55344       ['block6b_se_reshape[0][0]']     \n",
            "                                                                                                  \n",
            " block6b_se_expand (Conv2D)     (None, 1, 1, 1152)   56448       ['block6b_se_reduce[0][0]']      \n",
            "                                                                                                  \n",
            " block6b_se_excite (Multiply)   (None, None, None,   0           ['block6b_activation[0][0]',     \n",
            "                                1152)                             'block6b_se_expand[0][0]']      \n",
            "                                                                                                  \n",
            " block6b_project_conv (Conv2D)  (None, None, None,   221184      ['block6b_se_excite[0][0]']      \n",
            "                                192)                                                              \n",
            "                                                                                                  \n",
            " block6b_project_bn (BatchNorma  (None, None, None,   768        ['block6b_project_conv[0][0]']   \n",
            " lization)                      192)                                                              \n",
            "                                                                                                  \n",
            " block6b_drop (Dropout)         (None, None, None,   0           ['block6b_project_bn[0][0]']     \n",
            "                                192)                                                              \n",
            "                                                                                                  \n",
            " block6b_add (Add)              (None, None, None,   0           ['block6b_drop[0][0]',           \n",
            "                                192)                              'block6a_project_bn[0][0]']     \n",
            "                                                                                                  \n",
            " block6c_expand_conv (Conv2D)   (None, None, None,   221184      ['block6b_add[0][0]']            \n",
            "                                1152)                                                             \n",
            "                                                                                                  \n",
            " block6c_expand_bn (BatchNormal  (None, None, None,   4608       ['block6c_expand_conv[0][0]']    \n",
            " ization)                       1152)                                                             \n",
            "                                                                                                  \n",
            " block6c_expand_activation (Act  (None, None, None,   0          ['block6c_expand_bn[0][0]']      \n",
            " ivation)                       1152)                                                             \n",
            "                                                                                                  \n",
            " block6c_dwconv (DepthwiseConv2  (None, None, None,   28800      ['block6c_expand_activation[0][0]\n",
            " D)                             1152)                            ']                               \n",
            "                                                                                                  \n",
            " block6c_bn (BatchNormalization  (None, None, None,   4608       ['block6c_dwconv[0][0]']         \n",
            " )                              1152)                                                             \n",
            "                                                                                                  \n",
            " block6c_activation (Activation  (None, None, None,   0          ['block6c_bn[0][0]']             \n",
            " )                              1152)                                                             \n",
            "                                                                                                  \n",
            " block6c_se_squeeze (GlobalAver  (None, 1152)        0           ['block6c_activation[0][0]']     \n",
            " agePooling2D)                                                                                    \n",
            "                                                                                                  \n",
            " block6c_se_reshape (Reshape)   (None, 1, 1, 1152)   0           ['block6c_se_squeeze[0][0]']     \n",
            "                                                                                                  \n",
            " block6c_se_reduce (Conv2D)     (None, 1, 1, 48)     55344       ['block6c_se_reshape[0][0]']     \n",
            "                                                                                                  \n",
            " block6c_se_expand (Conv2D)     (None, 1, 1, 1152)   56448       ['block6c_se_reduce[0][0]']      \n",
            "                                                                                                  \n",
            " block6c_se_excite (Multiply)   (None, None, None,   0           ['block6c_activation[0][0]',     \n",
            "                                1152)                             'block6c_se_expand[0][0]']      \n",
            "                                                                                                  \n",
            " block6c_project_conv (Conv2D)  (None, None, None,   221184      ['block6c_se_excite[0][0]']      \n",
            "                                192)                                                              \n",
            "                                                                                                  \n",
            " block6c_project_bn (BatchNorma  (None, None, None,   768        ['block6c_project_conv[0][0]']   \n",
            " lization)                      192)                                                              \n",
            "                                                                                                  \n",
            " block6c_drop (Dropout)         (None, None, None,   0           ['block6c_project_bn[0][0]']     \n",
            "                                192)                                                              \n",
            "                                                                                                  \n",
            " block6c_add (Add)              (None, None, None,   0           ['block6c_drop[0][0]',           \n",
            "                                192)                              'block6b_add[0][0]']            \n",
            "                                                                                                  \n",
            " block6d_expand_conv (Conv2D)   (None, None, None,   221184      ['block6c_add[0][0]']            \n",
            "                                1152)                                                             \n",
            "                                                                                                  \n",
            " block6d_expand_bn (BatchNormal  (None, None, None,   4608       ['block6d_expand_conv[0][0]']    \n",
            " ization)                       1152)                                                             \n",
            "                                                                                                  \n",
            " block6d_expand_activation (Act  (None, None, None,   0          ['block6d_expand_bn[0][0]']      \n",
            " ivation)                       1152)                                                             \n",
            "                                                                                                  \n",
            " block6d_dwconv (DepthwiseConv2  (None, None, None,   28800      ['block6d_expand_activation[0][0]\n",
            " D)                             1152)                            ']                               \n",
            "                                                                                                  \n",
            " block6d_bn (BatchNormalization  (None, None, None,   4608       ['block6d_dwconv[0][0]']         \n",
            " )                              1152)                                                             \n",
            "                                                                                                  \n",
            " block6d_activation (Activation  (None, None, None,   0          ['block6d_bn[0][0]']             \n",
            " )                              1152)                                                             \n",
            "                                                                                                  \n",
            " block6d_se_squeeze (GlobalAver  (None, 1152)        0           ['block6d_activation[0][0]']     \n",
            " agePooling2D)                                                                                    \n",
            "                                                                                                  \n",
            " block6d_se_reshape (Reshape)   (None, 1, 1, 1152)   0           ['block6d_se_squeeze[0][0]']     \n",
            "                                                                                                  \n",
            " block6d_se_reduce (Conv2D)     (None, 1, 1, 48)     55344       ['block6d_se_reshape[0][0]']     \n",
            "                                                                                                  \n",
            " block6d_se_expand (Conv2D)     (None, 1, 1, 1152)   56448       ['block6d_se_reduce[0][0]']      \n",
            "                                                                                                  \n",
            " block6d_se_excite (Multiply)   (None, None, None,   0           ['block6d_activation[0][0]',     \n",
            "                                1152)                             'block6d_se_expand[0][0]']      \n",
            "                                                                                                  \n",
            " block6d_project_conv (Conv2D)  (None, None, None,   221184      ['block6d_se_excite[0][0]']      \n",
            "                                192)                                                              \n",
            "                                                                                                  \n",
            " block6d_project_bn (BatchNorma  (None, None, None,   768        ['block6d_project_conv[0][0]']   \n",
            " lization)                      192)                                                              \n",
            "                                                                                                  \n",
            " block6d_drop (Dropout)         (None, None, None,   0           ['block6d_project_bn[0][0]']     \n",
            "                                192)                                                              \n",
            "                                                                                                  \n",
            " block6d_add (Add)              (None, None, None,   0           ['block6d_drop[0][0]',           \n",
            "                                192)                              'block6c_add[0][0]']            \n",
            "                                                                                                  \n",
            " block7a_expand_conv (Conv2D)   (None, None, None,   221184      ['block6d_add[0][0]']            \n",
            "                                1152)                                                             \n",
            "                                                                                                  \n",
            " block7a_expand_bn (BatchNormal  (None, None, None,   4608       ['block7a_expand_conv[0][0]']    \n",
            " ization)                       1152)                                                             \n",
            "                                                                                                  \n",
            " block7a_expand_activation (Act  (None, None, None,   0          ['block7a_expand_bn[0][0]']      \n",
            " ivation)                       1152)                                                             \n",
            "                                                                                                  \n",
            " block7a_dwconv (DepthwiseConv2  (None, None, None,   10368      ['block7a_expand_activation[0][0]\n",
            " D)                             1152)                            ']                               \n",
            "                                                                                                  \n",
            " block7a_bn (BatchNormalization  (None, None, None,   4608       ['block7a_dwconv[0][0]']         \n",
            " )                              1152)                                                             \n",
            "                                                                                                  \n",
            " block7a_activation (Activation  (None, None, None,   0          ['block7a_bn[0][0]']             \n",
            " )                              1152)                                                             \n",
            "                                                                                                  \n",
            " block7a_se_squeeze (GlobalAver  (None, 1152)        0           ['block7a_activation[0][0]']     \n",
            " agePooling2D)                                                                                    \n",
            "                                                                                                  \n",
            " block7a_se_reshape (Reshape)   (None, 1, 1, 1152)   0           ['block7a_se_squeeze[0][0]']     \n",
            "                                                                                                  \n",
            " block7a_se_reduce (Conv2D)     (None, 1, 1, 48)     55344       ['block7a_se_reshape[0][0]']     \n",
            "                                                                                                  \n",
            " block7a_se_expand (Conv2D)     (None, 1, 1, 1152)   56448       ['block7a_se_reduce[0][0]']      \n",
            "                                                                                                  \n",
            " block7a_se_excite (Multiply)   (None, None, None,   0           ['block7a_activation[0][0]',     \n",
            "                                1152)                             'block7a_se_expand[0][0]']      \n",
            "                                                                                                  \n",
            " block7a_project_conv (Conv2D)  (None, None, None,   368640      ['block7a_se_excite[0][0]']      \n",
            "                                320)                                                              \n",
            "                                                                                                  \n",
            " block7a_project_bn (BatchNorma  (None, None, None,   1280       ['block7a_project_conv[0][0]']   \n",
            " lization)                      320)                                                              \n",
            "                                                                                                  \n",
            " top_conv (Conv2D)              (None, None, None,   409600      ['block7a_project_bn[0][0]']     \n",
            "                                1280)                                                             \n",
            "                                                                                                  \n",
            " top_bn (BatchNormalization)    (None, None, None,   5120        ['top_conv[0][0]']               \n",
            "                                1280)                                                             \n",
            "                                                                                                  \n",
            " top_activation (Activation)    (None, None, None,   0           ['top_bn[0][0]']                 \n",
            "                                1280)                                                             \n",
            "                                                                                                  \n",
            "==================================================================================================\n",
            "Total params: 4,049,571\n",
            "Trainable params: 0\n",
            "Non-trainable params: 4,049,571\n",
            "__________________________________________________________________________________________________\n"
          ]
        }
      ],
      "source": [
        "base_model.summary()"
      ]
    },
    {
      "cell_type": "code",
      "execution_count": 15,
      "metadata": {
        "colab": {
          "base_uri": "https://localhost:8080/"
        },
        "id": "ga9sfyvDb3ml",
        "outputId": "b638a1db-43cb-4b5d-ca04-e98a1e0d5aab"
      },
      "outputs": [
        {
          "output_type": "stream",
          "name": "stdout",
          "text": [
            "Model: \"model\"\n",
            "_________________________________________________________________\n",
            " Layer (type)                Output Shape              Param #   \n",
            "=================================================================\n",
            " input_layer (InputLayer)    [(None, 224, 224, 3)]     0         \n",
            "                                                                 \n",
            " efficientnetb0 (Functional)  (None, None, None, 1280)  4049571  \n",
            "                                                                 \n",
            " global_average_pooling_laye  (None, 1280)             0         \n",
            " r (GlobalAveragePooling2D)                                      \n",
            "                                                                 \n",
            " output_layer (Dense)        (None, 10)                12810     \n",
            "                                                                 \n",
            "=================================================================\n",
            "Total params: 4,062,381\n",
            "Trainable params: 12,810\n",
            "Non-trainable params: 4,049,571\n",
            "_________________________________________________________________\n"
          ]
        }
      ],
      "source": [
        "model_0.summary()"
      ]
    },
    {
      "cell_type": "markdown",
      "metadata": {
        "id": "ja4JxPqEcDv1"
      },
      "source": [
        "## Get a feature vector from trained model\n",
        "Let's demonstrate the global average Pooling 2D layer...\n",
        "\n",
        "We have a tensor after our model goes through `base_model` of shape\n",
        "(None, 7,7,1280)...\n",
        "\n",
        "But when it passes through it turns into (None, 1280).\n",
        "\n",
        "Let's use a similar shape tensor of (1, 4, 4 3) and then pass it through GlobalAveragePooling2D."
      ]
    },
    {
      "cell_type": "code",
      "execution_count": 16,
      "metadata": {
        "colab": {
          "base_uri": "https://localhost:8080/"
        },
        "id": "HS75BzzCcsO-",
        "outputId": "42901cc7-de0c-47cf-adec-712f2bd4b59b"
      },
      "outputs": [
        {
          "output_type": "stream",
          "name": "stdout",
          "text": [
            "Random input tensor:\n",
            "[[[[ 0.3274685  -0.8426258   0.3194337 ]\n",
            "   [-1.4075519  -2.3880599  -1.0392479 ]\n",
            "   [-0.5573232   0.539707    1.6994323 ]\n",
            "   [ 0.28893656 -1.5066116  -0.2645474 ]]\n",
            "\n",
            "  [[-0.59722406 -1.9171132  -0.62044144]\n",
            "   [ 0.8504023  -0.40604794 -3.0258412 ]\n",
            "   [ 0.9058464   0.29855987 -0.22561555]\n",
            "   [-0.7616443  -1.8917141  -0.93847126]]\n",
            "\n",
            "  [[ 0.77852213 -0.47338897  0.97772694]\n",
            "   [ 0.24694404  0.20573747 -0.5256233 ]\n",
            "   [ 0.32410017  0.02545409 -0.10638497]\n",
            "   [-0.6369475   1.1603122   0.2507359 ]]\n",
            "\n",
            "  [[-0.41728503  0.4012578  -1.4145443 ]\n",
            "   [-0.5931857  -1.6617213   0.33567193]\n",
            "   [ 0.10815629  0.23479682 -0.56668764]\n",
            "   [-0.35819843  0.88698614  0.52744764]]]]\n",
            "\n",
            "2D global average pooled random tensor:\n",
            "[[-0.09368646 -0.45840448 -0.2885598 ]]\n",
            "\n",
            "Shape of 2D global average pooled tensor:\n",
            "(1, 3)\n",
            "\n",
            "Shape of random tensor:\n",
            "(1, 4, 4, 3)\n",
            "\n"
          ]
        }
      ],
      "source": [
        "# Define input shape\n",
        "input_shape = (1, 4, 4, 3)\n",
        "\n",
        "tf.random.set_seed(42)\n",
        "input_tensor = tf.random.normal(input_shape)\n",
        "print(f\"Random input tensor:\\n{input_tensor}\\n\")\n",
        "\n",
        "# Passing the tensor through global average pooling 2D layer\n",
        "global_average_pooled_tensor = tf.keras.layers.GlobalAveragePooling2D()(input_tensor)\n",
        "print(f\"2D global average pooled random tensor:\\n{global_average_pooled_tensor}\\n\")\n",
        "\n",
        "# Check the shape\n",
        "print(f\"Shape of 2D global average pooled tensor:\\n{global_average_pooled_tensor.shape}\\n\")\n",
        "print(f\"Shape of random tensor:\\n{input_tensor.shape}\\n\")\n"
      ]
    },
    {
      "cell_type": "code",
      "execution_count": 17,
      "metadata": {
        "colab": {
          "base_uri": "https://localhost:8080/"
        },
        "id": "d6WDu7wEcsYp",
        "outputId": "9b5a4ef5-9cb9-49e4-e00e-9eb499a20c46"
      },
      "outputs": [
        {
          "output_type": "execute_result",
          "data": {
            "text/plain": [
              "<tf.Tensor: shape=(1, 3), dtype=float32, numpy=array([[-0.09368646, -0.45840448, -0.2885598 ]], dtype=float32)>"
            ]
          },
          "metadata": {},
          "execution_count": 17
        }
      ],
      "source": [
        "# Let's replicate the golbal pooling layer\n",
        "tf.reduce_mean(input_tensor, axis=[1,2])"
      ]
    },
    {
      "cell_type": "markdown",
      "metadata": {
        "id": "ijN9VnH1csgu"
      },
      "source": [
        "## Running a series of transfer learning experiments\n",
        "\n",
        "We've seen the incredible results transfer learning can get with 10% of our data but how does it go with 1% of our data. How about we set up some experiments.\n",
        "\n",
        "1. `model_1` - use feature extraction transfer learning with 1% of the training data with data augmentation.\n",
        "2. `model_2` - use feature extraction transfer learning with 10% of the training data with data augmentation.\n",
        "3. `model_3` - use fine tuning transfer learning with 10% of the training data with data augmentation.\n",
        "4. `model_4` - use fine tuning transfer learning with 100% of the training data with data augmentation.\n",
        "\n",
        "> Throughout the experiments we'll be using same test dataset. This ensures the consistency across evaluation metrics."
      ]
    },
    {
      "cell_type": "markdown",
      "metadata": {
        "id": "u1vCIPMNmkxH"
      },
      "source": [
        "## Getting data with model_1"
      ]
    },
    {
      "cell_type": "code",
      "execution_count": 18,
      "metadata": {
        "colab": {
          "base_uri": "https://localhost:8080/"
        },
        "id": "v6yLSu9dcsp3",
        "outputId": "eec91f00-dcf9-4de9-f2b3-5599894338b4"
      },
      "outputs": [
        {
          "output_type": "stream",
          "name": "stdout",
          "text": [
            "--2022-09-08 20:38:20--  https://storage.googleapis.com/ztm_tf_course/food_vision/10_food_classes_1_percent.zip\n",
            "Resolving storage.googleapis.com (storage.googleapis.com)... 173.194.202.128, 173.194.203.128, 74.125.20.128, ...\n",
            "Connecting to storage.googleapis.com (storage.googleapis.com)|173.194.202.128|:443... connected.\n",
            "HTTP request sent, awaiting response... 200 OK\n",
            "Length: 133612354 (127M) [application/zip]\n",
            "Saving to: ‘10_food_classes_1_percent.zip’\n",
            "\n",
            "10_food_classes_1_p 100%[===================>] 127.42M   176MB/s    in 0.7s    \n",
            "\n",
            "2022-09-08 20:38:21 (176 MB/s) - ‘10_food_classes_1_percent.zip’ saved [133612354/133612354]\n",
            "\n"
          ]
        }
      ],
      "source": [
        "# Download and unzip - Preprocessed from food101\n",
        "!wget https://storage.googleapis.com/ztm_tf_course/food_vision/10_food_classes_1_percent.zip\n",
        "unzip_data(\"10_food_classes_1_percent.zip\")"
      ]
    },
    {
      "cell_type": "code",
      "execution_count": 19,
      "metadata": {
        "id": "dzGkGrO9csyf"
      },
      "outputs": [],
      "source": [
        "# Create training and test dir\n",
        "train_dir_1_percent = \"10_food_classes_1_percent/train/\"\n",
        "test_dir = \"10_food_classes_1_percent/test/\""
      ]
    },
    {
      "cell_type": "code",
      "execution_count": 20,
      "metadata": {
        "colab": {
          "base_uri": "https://localhost:8080/"
        },
        "id": "A8WIq6vJcs5c",
        "outputId": "b0c47076-9566-4418-9aa0-20775d9c5b73"
      },
      "outputs": [
        {
          "output_type": "stream",
          "name": "stdout",
          "text": [
            "There are 2 directories and 0 images in '10_food_classes_1_percent'.\n",
            "There are 10 directories and 0 images in '10_food_classes_1_percent/train'.\n",
            "There are 0 directories and 7 images in '10_food_classes_1_percent/train/chicken_wings'.\n",
            "There are 0 directories and 7 images in '10_food_classes_1_percent/train/pizza'.\n",
            "There are 0 directories and 7 images in '10_food_classes_1_percent/train/grilled_salmon'.\n",
            "There are 0 directories and 7 images in '10_food_classes_1_percent/train/sushi'.\n",
            "There are 0 directories and 7 images in '10_food_classes_1_percent/train/ice_cream'.\n",
            "There are 0 directories and 7 images in '10_food_classes_1_percent/train/chicken_curry'.\n",
            "There are 0 directories and 7 images in '10_food_classes_1_percent/train/ramen'.\n",
            "There are 0 directories and 7 images in '10_food_classes_1_percent/train/fried_rice'.\n",
            "There are 0 directories and 7 images in '10_food_classes_1_percent/train/hamburger'.\n",
            "There are 0 directories and 7 images in '10_food_classes_1_percent/train/steak'.\n",
            "There are 10 directories and 0 images in '10_food_classes_1_percent/test'.\n",
            "There are 0 directories and 250 images in '10_food_classes_1_percent/test/chicken_wings'.\n",
            "There are 0 directories and 250 images in '10_food_classes_1_percent/test/pizza'.\n",
            "There are 0 directories and 250 images in '10_food_classes_1_percent/test/grilled_salmon'.\n",
            "There are 0 directories and 250 images in '10_food_classes_1_percent/test/sushi'.\n",
            "There are 0 directories and 250 images in '10_food_classes_1_percent/test/ice_cream'.\n",
            "There are 0 directories and 250 images in '10_food_classes_1_percent/test/chicken_curry'.\n",
            "There are 0 directories and 250 images in '10_food_classes_1_percent/test/ramen'.\n",
            "There are 0 directories and 250 images in '10_food_classes_1_percent/test/fried_rice'.\n",
            "There are 0 directories and 250 images in '10_food_classes_1_percent/test/hamburger'.\n",
            "There are 0 directories and 250 images in '10_food_classes_1_percent/test/steak'.\n"
          ]
        }
      ],
      "source": [
        "walk_through_dir(\"10_food_classes_1_percent\")"
      ]
    },
    {
      "cell_type": "code",
      "execution_count": 21,
      "metadata": {
        "colab": {
          "base_uri": "https://localhost:8080/"
        },
        "id": "X2MddbIsctA9",
        "outputId": "0d324e53-f063-4c86-eb4d-85876515c712"
      },
      "outputs": [
        {
          "output_type": "stream",
          "name": "stdout",
          "text": [
            "Found 70 files belonging to 10 classes.\n",
            "Found 2500 files belonging to 10 classes.\n"
          ]
        }
      ],
      "source": [
        "# Setup data loaders\n",
        "IMG_SIZE = (224, 224)\n",
        "train_data_1_percent = tf.keras.preprocessing.image_dataset_from_directory(train_dir_1_percent,\n",
        "                                                                           label_mode=\"categorical\",\n",
        "                                                                           image_size=IMG_SIZE,\n",
        "                                                                           batch_size=32)\n",
        "test_data = tf.keras.preprocessing.image_dataset_from_directory(test_dir,\n",
        "                                                                label_mode=\"categorical\",\n",
        "                                                                image_size=IMG_SIZE,\n",
        "                                                                batch_size=32)"
      ]
    },
    {
      "cell_type": "markdown",
      "metadata": {
        "id": "DbDh8Q6tctHg"
      },
      "source": [
        "## Adding data augmentation\n",
        "\n",
        "To add data augmentation right into our models we can use the layers inside:\n",
        "* `tf.keras.layers.experimental.preprocessing()` "
      ]
    },
    {
      "cell_type": "code",
      "execution_count": 22,
      "metadata": {
        "id": "TXo4iL9CctOJ"
      },
      "outputs": [],
      "source": [
        "import tensorflow as tf\n",
        "from tensorflow import keras\n",
        "from tensorflow.keras import layers\n",
        "from tensorflow.keras.layers.experimental import preprocessing\n",
        "\n",
        "# Create data augmentation stage with horizontal flipping ,rotations, zoom etc\n",
        "data_augmentation = keras.Sequential([\n",
        "    preprocessing.RandomFlip(\"horizontal\"),\n",
        "    preprocessing.RandomRotation(0.2),\n",
        "    preprocessing.RandomZoom(0.2),\n",
        "    preprocessing.RandomHeight(0.2),\n",
        "    preprocessing.RandomWidth(0.2)\n",
        "    # preprocessing.Rescale(1./255) for ResNet\n",
        "], name=\"data_augmentation\") "
      ]
    },
    {
      "cell_type": "markdown",
      "metadata": {
        "id": "ifXWRK6jolj-"
      },
      "source": [
        "## Visualize our data augmentation"
      ]
    },
    {
      "cell_type": "code",
      "execution_count": 23,
      "metadata": {
        "colab": {
          "base_uri": "https://localhost:8080/",
          "height": 511
        },
        "id": "pL7_8A2wolo3",
        "outputId": "1d92bd03-2d6e-4e24-f093-10fb90b8f100"
      },
      "outputs": [
        {
          "output_type": "display_data",
          "data": {
            "text/plain": [
              "<Figure size 432x288 with 1 Axes>"
            ],
            "image/png": "[encoded data removed]"
          },
          "metadata": {
            "needs_background": "light"
          }
        },
        {
          "output_type": "display_data",
          "data": {
            "text/plain": [
              "<Figure size 432x288 with 1 Axes>"
            ],
            "image/png": "[encoded data removed]"
          },
          "metadata": {
            "needs_background": "light"
          }
        }
      ],
      "source": [
        "# View a random image and compare it to it's augmented version\n",
        "import matplotlib.pyplot as plt\n",
        "import matplotlib.image as mpimg\n",
        "import os\n",
        "import random\n",
        "target_class = random.choice(train_data_1_percent.class_names)\n",
        "target_dir = \"10_food_classes_1_percent/train/\" + target_class\n",
        "random_image = random.choice(os.listdir(target_dir))\n",
        "random_image_path = target_dir + \"/\" + random_image\n",
        "\n",
        "# Read in random image\n",
        "img = mpimg.imread(random_image_path)\n",
        "plt.imshow(img)\n",
        "plt.title(f\"Original image from class {target_class}\")\n",
        "plt.axis(False)\n",
        "\n",
        "# Now let's plot augmented random image\n",
        "plt.figure()\n",
        "augmented_img = data_augmentation(tf.expand_dims(img, axis=0), training=True)\n",
        "plt.imshow(tf.squeeze(augmented_img)/255.)\n",
        "plt.title(f\"Augmented image from class {target_class}\")\n",
        "plt.axis(False);"
      ]
    },
    {
      "cell_type": "markdown",
      "metadata": {
        "id": "zDxQuWVjolt6"
      },
      "source": [
        "## Model_1: Feature extractioin transfer learning with 1% of data with augmentation\n"
      ]
    },
    {
      "cell_type": "code",
      "execution_count": 24,
      "metadata": {
        "colab": {
          "base_uri": "https://localhost:8080/"
        },
        "id": "0n_Lj1xYolzi",
        "outputId": "1c8a5f7d-f6dc-4d1c-bc39-edba66db5201"
      },
      "outputs": [
        {
          "output_type": "stream",
          "name": "stdout",
          "text": [
            "Saving TensorBoard log files to: transfer learning/1_percent_data_aug/20220908-203826\n",
            "Epoch 1/5\n",
            "3/3 [==============================] - 12s 2s/step - loss: 2.4062 - accuracy: 0.1000 - val_loss: 2.2519 - val_accuracy: 0.1464\n",
            "Epoch 2/5\n",
            "3/3 [==============================] - 4s 2s/step - loss: 2.1357 - accuracy: 0.2857 - val_loss: 2.1265 - val_accuracy: 0.2319\n",
            "Epoch 3/5\n",
            "3/3 [==============================] - 3s 1s/step - loss: 2.0402 - accuracy: 0.3571 - val_loss: 2.0126 - val_accuracy: 0.3010\n",
            "Epoch 4/5\n",
            "3/3 [==============================] - 4s 2s/step - loss: 1.8056 - accuracy: 0.4714 - val_loss: 1.9359 - val_accuracy: 0.3668\n",
            "Epoch 5/5\n",
            "3/3 [==============================] - 4s 2s/step - loss: 1.6468 - accuracy: 0.6000 - val_loss: 1.8628 - val_accuracy: 0.4145\n"
          ]
        }
      ],
      "source": [
        "# Setup our input_shapes and base model, freezing the base model layers\n",
        "input_shape=(224, 224, 3)\n",
        "base_model = tf.keras.applications.EfficientNetB0(include_top=False)\n",
        "base_model.trainable = False\n",
        "\n",
        "# Create the input layers\n",
        "inputs = layers.Input(shape=input_shape, name=\"input_layer\")\n",
        "\n",
        "# Add in data augmentation Sequential model as layer\n",
        "x = data_augmentation(inputs)\n",
        "\n",
        "# Give base_model the inputs after augmentation and don't train it\n",
        "x = base_model(x, training=False)\n",
        "\n",
        "# Pool the output features of the model\n",
        "x =  layers.GlobalAveragePooling2D(name=\"global_average_pooling_layer\")(x)\n",
        "\n",
        "# Put a dense layer on as the output\n",
        "outputs = layers.Dense(10, activation=\"softmax\", name=\"output_layer\")(x)\n",
        "\n",
        "# Make a model using inputs and outputs\n",
        "model_1 = keras.Model(inputs, outputs)\n",
        "\n",
        "# Compile the model\n",
        "model_1.compile(loss=\"categorical_crossentropy\",\n",
        "                optimizer=tf.keras.optimizers.Adam(),\n",
        "                metrics=[\"accuracy\"])\n",
        "\n",
        "# Fit the model\n",
        "history_1_percent = model_1.fit(train_data_1_percent,\n",
        "                                epochs=5,\n",
        "                                steps_per_epoch=len(train_data_1_percent),\n",
        "                                validation_data=test_data,\n",
        "                                validation_steps=int(0.25 * len(test_data)),\n",
        "                                callbacks=[create_tensorboard_callback(dir_name=\"transfer learning\",\n",
        "                                                                       experiment_name=\"1_percent_data_aug\")])"
      ]
    },
    {
      "cell_type": "code",
      "execution_count": 25,
      "metadata": {
        "colab": {
          "base_uri": "https://localhost:8080/"
        },
        "id": "YY6DPHLpol50",
        "outputId": "ad0aac0d-1585-458c-a8a2-7f2277672215"
      },
      "outputs": [
        {
          "output_type": "stream",
          "name": "stdout",
          "text": [
            "Model: \"model_1\"\n",
            "_________________________________________________________________\n",
            " Layer (type)                Output Shape              Param #   \n",
            "=================================================================\n",
            " input_layer (InputLayer)    [(None, 224, 224, 3)]     0         \n",
            "                                                                 \n",
            " data_augmentation (Sequenti  (None, None, None, 3)    0         \n",
            " al)                                                             \n",
            "                                                                 \n",
            " efficientnetb0 (Functional)  (None, None, None, 1280)  4049571  \n",
            "                                                                 \n",
            " global_average_pooling_laye  (None, 1280)             0         \n",
            " r (GlobalAveragePooling2D)                                      \n",
            "                                                                 \n",
            " output_layer (Dense)        (None, 10)                12810     \n",
            "                                                                 \n",
            "=================================================================\n",
            "Total params: 4,062,381\n",
            "Trainable params: 12,810\n",
            "Non-trainable params: 4,049,571\n",
            "_________________________________________________________________\n"
          ]
        }
      ],
      "source": [
        "model_1.summary()"
      ]
    },
    {
      "cell_type": "code",
      "execution_count": 26,
      "metadata": {
        "colab": {
          "base_uri": "https://localhost:8080/"
        },
        "id": "nIxfRk_GomBC",
        "outputId": "af524f82-2577-41d1-d6c6-4db70d17826a"
      },
      "outputs": [
        {
          "output_type": "stream",
          "name": "stdout",
          "text": [
            "79/79 [==============================] - 7s 76ms/step - loss: 1.8407 - accuracy: 0.4256\n"
          ]
        },
        {
          "output_type": "execute_result",
          "data": {
            "text/plain": [
              "[1.8407230377197266, 0.42559999227523804]"
            ]
          },
          "metadata": {},
          "execution_count": 26
        }
      ],
      "source": [
        "# Evaluate on full test data\n",
        "results_1_percent_data_aug = model_1.evaluate(test_data)\n",
        "results_1_percent_data_aug"
      ]
    },
    {
      "cell_type": "code",
      "execution_count": 27,
      "metadata": {
        "colab": {
          "base_uri": "https://localhost:8080/",
          "height": 573
        },
        "id": "65QqDNbsomGK",
        "outputId": "d3bbe74b-a14e-4bf5-a8cd-9a614870d266"
      },
      "outputs": [
        {
          "output_type": "display_data",
          "data": {
            "text/plain": [
              "<Figure size 432x288 with 1 Axes>"
            ],
            "image/png": "[encoded data removed]"
          },
          "metadata": {
            "needs_background": "light"
          }
        },
        {
          "output_type": "display_data",
          "data": {
            "text/plain": [
              "<Figure size 432x288 with 1 Axes>"
            ],
            "image/png": "[encoded data removed]"
          },
          "metadata": {
            "needs_background": "light"
          }
        }
      ],
      "source": [
        "plot_loss_curves(history_1_percent)"
      ]
    },
    {
      "cell_type": "markdown",
      "metadata": {
        "id": "NHgAdLExomLG"
      },
      "source": [
        "## Model_2: feature extraction transfer learning model with 10% of data and data augmentation"
      ]
    },
    {
      "cell_type": "code",
      "execution_count": 28,
      "metadata": {
        "id": "54C19m0XctVK"
      },
      "outputs": [],
      "source": [
        "# Get 10% of data...\n",
        "# !wget https://storage.googleapis.com/ztm_tf_course/food_vision/10_food_classes_10_percent.zip\n",
        "# unzip_data(\"10_food_classes_10_percent.zip\")\n",
        "\n",
        "train_dir_10_percent = \"10_food_classes_10_percent/train/\"\n",
        "test_dir = \"10_food_classes_10_percent/test/\""
      ]
    },
    {
      "cell_type": "code",
      "execution_count": 29,
      "metadata": {
        "colab": {
          "base_uri": "https://localhost:8080/"
        },
        "id": "BW_Y5DNtctmy",
        "outputId": "4332f365-e452-40c6-c084-50c1230f4d40"
      },
      "outputs": [
        {
          "output_type": "stream",
          "name": "stdout",
          "text": [
            "Found 750 files belonging to 10 classes.\n",
            "Found 2500 files belonging to 10 classes.\n"
          ]
        }
      ],
      "source": [
        "# Setup data loaders \n",
        "import tensorflow as tf\n",
        "train_data_10_percent = tf.keras.preprocessing.image_dataset_from_directory(train_dir_10_percent,\n",
        "                                                                            label_mode=\"categorical\",\n",
        "                                                                            image_size=IMG_SIZE)\n",
        "\n",
        "test_data = tf.keras.preprocessing.image_dataset_from_directory(test_dir,\n",
        "                                                                label_mode=\"categorical\",\n",
        "                                                                image_size=IMG_SIZE)"
      ]
    },
    {
      "cell_type": "code",
      "execution_count": 30,
      "metadata": {
        "colab": {
          "base_uri": "https://localhost:8080/"
        },
        "id": "zftK8JhActvG",
        "outputId": "01e5180f-ee87-4c43-ad06-cfd93324d737"
      },
      "outputs": [
        {
          "output_type": "stream",
          "name": "stdout",
          "text": [
            "There are 2 directories and 0 images in '10_food_classes_10_percent'.\n",
            "There are 10 directories and 0 images in '10_food_classes_10_percent/train'.\n",
            "There are 0 directories and 75 images in '10_food_classes_10_percent/train/chicken_wings'.\n",
            "There are 0 directories and 75 images in '10_food_classes_10_percent/train/pizza'.\n",
            "There are 0 directories and 75 images in '10_food_classes_10_percent/train/grilled_salmon'.\n",
            "There are 0 directories and 75 images in '10_food_classes_10_percent/train/sushi'.\n",
            "There are 0 directories and 75 images in '10_food_classes_10_percent/train/ice_cream'.\n",
            "There are 0 directories and 75 images in '10_food_classes_10_percent/train/chicken_curry'.\n",
            "There are 0 directories and 75 images in '10_food_classes_10_percent/train/ramen'.\n",
            "There are 0 directories and 75 images in '10_food_classes_10_percent/train/fried_rice'.\n",
            "There are 0 directories and 75 images in '10_food_classes_10_percent/train/hamburger'.\n",
            "There are 0 directories and 75 images in '10_food_classes_10_percent/train/steak'.\n",
            "There are 10 directories and 0 images in '10_food_classes_10_percent/test'.\n",
            "There are 0 directories and 250 images in '10_food_classes_10_percent/test/chicken_wings'.\n",
            "There are 0 directories and 250 images in '10_food_classes_10_percent/test/pizza'.\n",
            "There are 0 directories and 250 images in '10_food_classes_10_percent/test/grilled_salmon'.\n",
            "There are 0 directories and 250 images in '10_food_classes_10_percent/test/sushi'.\n",
            "There are 0 directories and 250 images in '10_food_classes_10_percent/test/ice_cream'.\n",
            "There are 0 directories and 250 images in '10_food_classes_10_percent/test/chicken_curry'.\n",
            "There are 0 directories and 250 images in '10_food_classes_10_percent/test/ramen'.\n",
            "There are 0 directories and 250 images in '10_food_classes_10_percent/test/fried_rice'.\n",
            "There are 0 directories and 250 images in '10_food_classes_10_percent/test/hamburger'.\n",
            "There are 0 directories and 250 images in '10_food_classes_10_percent/test/steak'.\n"
          ]
        }
      ],
      "source": [
        "walk_through_dir(\"10_food_classes_10_percent\")"
      ]
    },
    {
      "cell_type": "code",
      "execution_count": 31,
      "metadata": {
        "id": "UKjZ5Pf9AwhM"
      },
      "outputs": [],
      "source": [
        "from tensorflow.keras import layers\n",
        "from tensorflow.keras.layers.experimental import preprocessing\n",
        "from tensorflow.keras import Sequential\n",
        "\n",
        "# Build data augmentation layer\n",
        "data_augmentation = Sequential([\n",
        "    preprocessing.RandomFlip(\"horizontal\"),\n",
        "    preprocessing.RandomHeight(0.2),\n",
        "    preprocessing.RandomWidth(0.2),\n",
        "    preprocessing.RandomZoom(0.2),\n",
        "    preprocessing.RandomRotation(0.2),\n",
        "    # preprocessing.Rescaling(1./255) for models like Resnet\n",
        "], name=\"data_augmentation\")\n",
        "\n",
        "# Setup the input shape\n",
        "input_shape=(224,224,3)\n",
        "\n",
        "# Create a frozen base model\n",
        "base_model = tf.keras.applications.EfficientNetB0(include_top=False)\n",
        "base_model.trainable = False\n",
        "\n",
        "# Create inputs and outputs\n",
        "inputs = layers.Input(shape=input_shape, name=\"input_layer\")\n",
        "x = data_augmentation(inputs, training=True)\n",
        "x = base_model(x, training=False)\n",
        "x = layers.GlobalAveragePooling2D(name=\"global_average_pooling_2D\")(x)\n",
        "output = layers.Dense(10, activation=\"softmax\", name=\"output_layer\")(x)\n",
        "model_2 = tf.keras.Model(inputs, output)\n",
        "\n",
        "# Compile\n",
        "model_2.compile(loss=\"categorical_crossentropy\",\n",
        "                optimizer=tf.keras.optimizers.Adam(),\n",
        "                metrics=[\"accuracy\"])\n"
      ]
    },
    {
      "cell_type": "code",
      "execution_count": 32,
      "metadata": {
        "colab": {
          "base_uri": "https://localhost:8080/"
        },
        "id": "T75tdG9UAwrR",
        "outputId": "e9fc8e25-054f-4a12-aeb0-598602b1edd7"
      },
      "outputs": [
        {
          "output_type": "stream",
          "name": "stdout",
          "text": [
            "Model: \"model_2\"\n",
            "_________________________________________________________________\n",
            " Layer (type)                Output Shape              Param #   \n",
            "=================================================================\n",
            " input_layer (InputLayer)    [(None, 224, 224, 3)]     0         \n",
            "                                                                 \n",
            " data_augmentation (Sequenti  (None, None, None, 3)    0         \n",
            " al)                                                             \n",
            "                                                                 \n",
            " efficientnetb0 (Functional)  (None, None, None, 1280)  4049571  \n",
            "                                                                 \n",
            " global_average_pooling_2D (  (None, 1280)             0         \n",
            " GlobalAveragePooling2D)                                         \n",
            "                                                                 \n",
            " output_layer (Dense)        (None, 10)                12810     \n",
            "                                                                 \n",
            "=================================================================\n",
            "Total params: 4,062,381\n",
            "Trainable params: 12,810\n",
            "Non-trainable params: 4,049,571\n",
            "_________________________________________________________________\n"
          ]
        }
      ],
      "source": [
        "model_2.summary()"
      ]
    },
    {
      "cell_type": "markdown",
      "source": [
        "### Creating a model checkpoint callback\n",
        "The ModelCheckPoint callback intermediately saves our model (the full model or just the weights) during training. This is useful so that we can start where we left off"
      ],
      "metadata": {
        "id": "wmlWgX4iAwye"
      }
    },
    {
      "cell_type": "code",
      "execution_count": 33,
      "metadata": {
        "id": "RYG244_RAw5V"
      },
      "outputs": [],
      "source": [
        "# Set checkpoint path\n",
        "checkpointPath = \"ten_percent_model_checkpoint_weights/checkpoint.ckpt\"\n",
        "\n",
        "# Create a model checkoint callback that saves the model's weights only\n",
        "checkpoint_callback = tf.keras.callbacks.ModelCheckpoint(filepath = checkpointPath,\n",
        "                                                         save_weights_only = True,\n",
        "                                                         save_best_only=False,\n",
        "                                                         save_freq=\"epoch\",\n",
        "                                                         verbose=1)"
      ]
    },
    {
      "cell_type": "markdown",
      "source": [
        "Fitting the model 2 and passing it ModelCheckPointCallback"
      ],
      "metadata": {
        "id": "p_J_xesk8d6Z"
      }
    },
    {
      "cell_type": "code",
      "execution_count": 34,
      "metadata": {
        "id": "Azrej0ZfAw_K",
        "colab": {
          "base_uri": "https://localhost:8080/"
        },
        "outputId": "6614bc34-2184-40cc-e679-262e2c6b9789"
      },
      "outputs": [
        {
          "output_type": "stream",
          "name": "stdout",
          "text": [
            "Saving TensorBoard log files to: transfer_learning/10_percent_data_aug/20220908-203913\n",
            "Epoch 1/5\n",
            "24/24 [==============================] - ETA: 0s - loss: 1.9991 - accuracy: 0.3440\n",
            "Epoch 1: saving model to ten_percent_model_checkpoint_weights/checkpoint.ckpt\n",
            "24/24 [==============================] - 25s 765ms/step - loss: 1.9991 - accuracy: 0.3440 - val_loss: 1.6290 - val_accuracy: 0.5609\n",
            "Epoch 2/5\n",
            "24/24 [==============================] - ETA: 0s - loss: 1.3497 - accuracy: 0.6760\n",
            "Epoch 2: saving model to ten_percent_model_checkpoint_weights/checkpoint.ckpt\n",
            "24/24 [==============================] - 18s 768ms/step - loss: 1.3497 - accuracy: 0.6760 - val_loss: 1.1881 - val_accuracy: 0.7220\n",
            "Epoch 3/5\n",
            "24/24 [==============================] - ETA: 0s - loss: 1.0665 - accuracy: 0.7240\n",
            "Epoch 3: saving model to ten_percent_model_checkpoint_weights/checkpoint.ckpt\n",
            "24/24 [==============================] - 15s 616ms/step - loss: 1.0665 - accuracy: 0.7240 - val_loss: 1.0425 - val_accuracy: 0.7303\n",
            "Epoch 4/5\n",
            "24/24 [==============================] - ETA: 0s - loss: 0.9129 - accuracy: 0.7600\n",
            "Epoch 4: saving model to ten_percent_model_checkpoint_weights/checkpoint.ckpt\n",
            "24/24 [==============================] - 16s 634ms/step - loss: 0.9129 - accuracy: 0.7600 - val_loss: 0.9593 - val_accuracy: 0.7253\n",
            "Epoch 5/5\n",
            "24/24 [==============================] - ETA: 0s - loss: 0.7995 - accuracy: 0.8027\n",
            "Epoch 5: saving model to ten_percent_model_checkpoint_weights/checkpoint.ckpt\n",
            "24/24 [==============================] - 12s 487ms/step - loss: 0.7995 - accuracy: 0.8027 - val_loss: 0.8593 - val_accuracy: 0.7648\n"
          ]
        }
      ],
      "source": [
        "initial_epochs = 5\n",
        "history_10_percet_data_aug = model_2.fit(train_data_10_percent,\n",
        "                                          epochs=initial_epochs,\n",
        "                                         validation_data=test_data,\n",
        "                                         validation_steps=int(0.25 * len(test_data)),\n",
        "                                         callbacks=[create_tensorboard_callback(dir_name=\"transfer_learning\",\n",
        "                                                                                experiment_name=\"10_percent_data_aug\",),\n",
        "                                                    checkpoint_callback])"
      ]
    },
    {
      "cell_type": "code",
      "execution_count": 35,
      "metadata": {
        "id": "Y13MhdUrAxEx",
        "colab": {
          "base_uri": "https://localhost:8080/"
        },
        "outputId": "31d4ab57-b0ac-4b63-fc9c-ea2057e17528"
      },
      "outputs": [
        {
          "output_type": "stream",
          "name": "stdout",
          "text": [
            "79/79 [==============================] - 8s 91ms/step - loss: 0.6093 - accuracy: 0.8408\n"
          ]
        },
        {
          "output_type": "execute_result",
          "data": {
            "text/plain": [
              "[0.6092506051063538, 0.8407999873161316]"
            ]
          },
          "metadata": {},
          "execution_count": 35
        }
      ],
      "source": [
        "# Comparing model_0 and model_2 result on whole test data\n",
        "model_0.evaluate(test_data)"
      ]
    },
    {
      "cell_type": "code",
      "execution_count": 36,
      "metadata": {
        "id": "-q9PrGh7AxKE",
        "colab": {
          "base_uri": "https://localhost:8080/"
        },
        "outputId": "8cbb601c-8d4a-4cd2-8622-e78b700e29fb"
      },
      "outputs": [
        {
          "output_type": "stream",
          "name": "stdout",
          "text": [
            "79/79 [==============================] - 20s 252ms/step - loss: 0.8388 - accuracy: 0.7660\n"
          ]
        },
        {
          "output_type": "execute_result",
          "data": {
            "text/plain": [
              "[0.8387944102287292, 0.765999972820282]"
            ]
          },
          "metadata": {},
          "execution_count": 36
        }
      ],
      "source": [
        "results_10_percent_data_aug = model_2.evaluate(test_data)\n",
        "results_10_percent_data_aug"
      ]
    },
    {
      "cell_type": "code",
      "execution_count": 37,
      "metadata": {
        "id": "cZP2wdZDAxPv",
        "colab": {
          "base_uri": "https://localhost:8080/",
          "height": 573
        },
        "outputId": "5c2259b6-146f-4a18-84aa-e2bb13e95985"
      },
      "outputs": [
        {
          "output_type": "display_data",
          "data": {
            "text/plain": [
              "<Figure size 432x288 with 1 Axes>"
            ],
            "image/png": "[encoded data removed]"
          },
          "metadata": {
            "needs_background": "light"
          }
        },
        {
          "output_type": "display_data",
          "data": {
            "text/plain": [
              "<Figure size 432x288 with 1 Axes>"
            ],
            "image/png": "[encoded data removed]"
          },
          "metadata": {
            "needs_background": "light"
          }
        }
      ],
      "source": [
        "# Loss curves\n",
        "plot_loss_curves(history_10_percet_data_aug)"
      ]
    },
    {
      "cell_type": "markdown",
      "source": [
        "### Loading in checkpointed weights"
      ],
      "metadata": {
        "id": "zLFqyEaUAxUp"
      }
    },
    {
      "cell_type": "code",
      "execution_count": 38,
      "metadata": {
        "id": "H4-HNJBbAxZ3",
        "colab": {
          "base_uri": "https://localhost:8080/"
        },
        "outputId": "08a67d27-e007-4cfc-ba40-3ea743f6bbc1"
      },
      "outputs": [
        {
          "output_type": "execute_result",
          "data": {
            "text/plain": [
              "<tensorflow.python.training.tracking.util.CheckpointLoadStatus at 0x7f7056fbd510>"
            ]
          },
          "metadata": {},
          "execution_count": 38
        }
      ],
      "source": [
        "# Load in saved model weights and evaluate\n",
        "model_2.load_weights(checkpointPath)"
      ]
    },
    {
      "cell_type": "code",
      "execution_count": 39,
      "metadata": {
        "id": "TtUkjbBOAxer",
        "colab": {
          "base_uri": "https://localhost:8080/"
        },
        "outputId": "8c40f7ed-5ce5-4fda-9f5c-b8b6b6bb72ff"
      },
      "outputs": [
        {
          "output_type": "stream",
          "name": "stdout",
          "text": [
            "79/79 [==============================] - 20s 246ms/step - loss: 0.8640 - accuracy: 0.7516\n"
          ]
        }
      ],
      "source": [
        "loaded_weights_model_results = model_2.evaluate(test_data)"
      ]
    },
    {
      "cell_type": "code",
      "execution_count": 40,
      "metadata": {
        "id": "6vDvs7RPAxji",
        "colab": {
          "base_uri": "https://localhost:8080/"
        },
        "outputId": "45cfe12b-ef6f-4cce-9653-4b4744ec25e4"
      },
      "outputs": [
        {
          "output_type": "execute_result",
          "data": {
            "text/plain": [
              "array([False, False])"
            ]
          },
          "metadata": {},
          "execution_count": 40
        }
      ],
      "source": [
        "# Check to see both loaded and previous model results are close to each other\n",
        "import numpy as np\n",
        "np.isclose(np.array(results_10_percent_data_aug), np.array(loaded_weights_model_results))"
      ]
    },
    {
      "cell_type": "markdown",
      "source": [
        "## Model_3 : Fine tuning an existing model on 10% of the data\n",
        "\n",
        "> Fine tuning usually works best after training a feature extraction model for a few epochs with large amount of custom data."
      ],
      "metadata": {
        "id": "yPwQntWhAxoe"
      }
    },
    {
      "cell_type": "code",
      "execution_count": 41,
      "metadata": {
        "id": "_TJaFpPCAxtM",
        "colab": {
          "base_uri": "https://localhost:8080/"
        },
        "outputId": "d9e4f610-6e3b-4451-c4db-2158759a8b12"
      },
      "outputs": [
        {
          "output_type": "execute_result",
          "data": {
            "text/plain": [
              "[<keras.engine.input_layer.InputLayer at 0x7f716dad3f10>,\n",
              " <keras.engine.sequential.Sequential at 0x7f716dad3a10>,\n",
              " <keras.engine.functional.Functional at 0x7f716d664210>,\n",
              " <keras.layers.pooling.GlobalAveragePooling2D at 0x7f716dad3110>,\n",
              " <keras.layers.core.dense.Dense at 0x7f716d59ba50>]"
            ]
          },
          "metadata": {},
          "execution_count": 41
        }
      ],
      "source": [
        "# Layers in our loaded model\n",
        "model_2.layers"
      ]
    },
    {
      "cell_type": "code",
      "execution_count": 42,
      "metadata": {
        "id": "sb4MdjMsAxyX",
        "colab": {
          "base_uri": "https://localhost:8080/"
        },
        "outputId": "f50c48d6-f92f-40b3-8127-01f3a950ce66"
      },
      "outputs": [
        {
          "output_type": "stream",
          "name": "stdout",
          "text": [
            "<keras.engine.input_layer.InputLayer object at 0x7f716dad3f10> True\n",
            "<keras.engine.sequential.Sequential object at 0x7f716dad3a10> True\n",
            "<keras.engine.functional.Functional object at 0x7f716d664210> False\n",
            "<keras.layers.pooling.GlobalAveragePooling2D object at 0x7f716dad3110> True\n",
            "<keras.layers.core.dense.Dense object at 0x7f716d59ba50> True\n"
          ]
        }
      ],
      "source": [
        "# Are model_2 layers trainable?\n",
        "for layer in model_2.layers:\n",
        "  print(layer, layer.trainable)"
      ]
    },
    {
      "cell_type": "code",
      "execution_count": 43,
      "metadata": {
        "id": "PSyt17ZXAx2_",
        "colab": {
          "base_uri": "https://localhost:8080/"
        },
        "outputId": "fbb1c7d7-c10d-47fb-a448-2b047f7df975"
      },
      "outputs": [
        {
          "output_type": "stream",
          "name": "stdout",
          "text": [
            "0 False input_3\n",
            "1 False rescaling_2\n",
            "2 False normalization_2\n",
            "3 False stem_conv_pad\n",
            "4 False stem_conv\n",
            "5 False stem_bn\n",
            "6 False stem_activation\n",
            "7 False block1a_dwconv\n",
            "8 False block1a_bn\n",
            "9 False block1a_activation\n",
            "10 False block1a_se_squeeze\n",
            "11 False block1a_se_reshape\n",
            "12 False block1a_se_reduce\n",
            "13 False block1a_se_expand\n",
            "14 False block1a_se_excite\n",
            "15 False block1a_project_conv\n",
            "16 False block1a_project_bn\n",
            "17 False block2a_expand_conv\n",
            "18 False block2a_expand_bn\n",
            "19 False block2a_expand_activation\n",
            "20 False block2a_dwconv_pad\n",
            "21 False block2a_dwconv\n",
            "22 False block2a_bn\n",
            "23 False block2a_activation\n",
            "24 False block2a_se_squeeze\n",
            "25 False block2a_se_reshape\n",
            "26 False block2a_se_reduce\n",
            "27 False block2a_se_expand\n",
            "28 False block2a_se_excite\n",
            "29 False block2a_project_conv\n",
            "30 False block2a_project_bn\n",
            "31 False block2b_expand_conv\n",
            "32 False block2b_expand_bn\n",
            "33 False block2b_expand_activation\n",
            "34 False block2b_dwconv\n",
            "35 False block2b_bn\n",
            "36 False block2b_activation\n",
            "37 False block2b_se_squeeze\n",
            "38 False block2b_se_reshape\n",
            "39 False block2b_se_reduce\n",
            "40 False block2b_se_expand\n",
            "41 False block2b_se_excite\n",
            "42 False block2b_project_conv\n",
            "43 False block2b_project_bn\n",
            "44 False block2b_drop\n",
            "45 False block2b_add\n",
            "46 False block3a_expand_conv\n",
            "47 False block3a_expand_bn\n",
            "48 False block3a_expand_activation\n",
            "49 False block3a_dwconv_pad\n",
            "50 False block3a_dwconv\n",
            "51 False block3a_bn\n",
            "52 False block3a_activation\n",
            "53 False block3a_se_squeeze\n",
            "54 False block3a_se_reshape\n",
            "55 False block3a_se_reduce\n",
            "56 False block3a_se_expand\n",
            "57 False block3a_se_excite\n",
            "58 False block3a_project_conv\n",
            "59 False block3a_project_bn\n",
            "60 False block3b_expand_conv\n",
            "61 False block3b_expand_bn\n",
            "62 False block3b_expand_activation\n",
            "63 False block3b_dwconv\n",
            "64 False block3b_bn\n",
            "65 False block3b_activation\n",
            "66 False block3b_se_squeeze\n",
            "67 False block3b_se_reshape\n",
            "68 False block3b_se_reduce\n",
            "69 False block3b_se_expand\n",
            "70 False block3b_se_excite\n",
            "71 False block3b_project_conv\n",
            "72 False block3b_project_bn\n",
            "73 False block3b_drop\n",
            "74 False block3b_add\n",
            "75 False block4a_expand_conv\n",
            "76 False block4a_expand_bn\n",
            "77 False block4a_expand_activation\n",
            "78 False block4a_dwconv_pad\n",
            "79 False block4a_dwconv\n",
            "80 False block4a_bn\n",
            "81 False block4a_activation\n",
            "82 False block4a_se_squeeze\n",
            "83 False block4a_se_reshape\n",
            "84 False block4a_se_reduce\n",
            "85 False block4a_se_expand\n",
            "86 False block4a_se_excite\n",
            "87 False block4a_project_conv\n",
            "88 False block4a_project_bn\n",
            "89 False block4b_expand_conv\n",
            "90 False block4b_expand_bn\n",
            "91 False block4b_expand_activation\n",
            "92 False block4b_dwconv\n",
            "93 False block4b_bn\n",
            "94 False block4b_activation\n",
            "95 False block4b_se_squeeze\n",
            "96 False block4b_se_reshape\n",
            "97 False block4b_se_reduce\n",
            "98 False block4b_se_expand\n",
            "99 False block4b_se_excite\n",
            "100 False block4b_project_conv\n",
            "101 False block4b_project_bn\n",
            "102 False block4b_drop\n",
            "103 False block4b_add\n",
            "104 False block4c_expand_conv\n",
            "105 False block4c_expand_bn\n",
            "106 False block4c_expand_activation\n",
            "107 False block4c_dwconv\n",
            "108 False block4c_bn\n",
            "109 False block4c_activation\n",
            "110 False block4c_se_squeeze\n",
            "111 False block4c_se_reshape\n",
            "112 False block4c_se_reduce\n",
            "113 False block4c_se_expand\n",
            "114 False block4c_se_excite\n",
            "115 False block4c_project_conv\n",
            "116 False block4c_project_bn\n",
            "117 False block4c_drop\n",
            "118 False block4c_add\n",
            "119 False block5a_expand_conv\n",
            "120 False block5a_expand_bn\n",
            "121 False block5a_expand_activation\n",
            "122 False block5a_dwconv\n",
            "123 False block5a_bn\n",
            "124 False block5a_activation\n",
            "125 False block5a_se_squeeze\n",
            "126 False block5a_se_reshape\n",
            "127 False block5a_se_reduce\n",
            "128 False block5a_se_expand\n",
            "129 False block5a_se_excite\n",
            "130 False block5a_project_conv\n",
            "131 False block5a_project_bn\n",
            "132 False block5b_expand_conv\n",
            "133 False block5b_expand_bn\n",
            "134 False block5b_expand_activation\n",
            "135 False block5b_dwconv\n",
            "136 False block5b_bn\n",
            "137 False block5b_activation\n",
            "138 False block5b_se_squeeze\n",
            "139 False block5b_se_reshape\n",
            "140 False block5b_se_reduce\n",
            "141 False block5b_se_expand\n",
            "142 False block5b_se_excite\n",
            "143 False block5b_project_conv\n",
            "144 False block5b_project_bn\n",
            "145 False block5b_drop\n",
            "146 False block5b_add\n",
            "147 False block5c_expand_conv\n",
            "148 False block5c_expand_bn\n",
            "149 False block5c_expand_activation\n",
            "150 False block5c_dwconv\n",
            "151 False block5c_bn\n",
            "152 False block5c_activation\n",
            "153 False block5c_se_squeeze\n",
            "154 False block5c_se_reshape\n",
            "155 False block5c_se_reduce\n",
            "156 False block5c_se_expand\n",
            "157 False block5c_se_excite\n",
            "158 False block5c_project_conv\n",
            "159 False block5c_project_bn\n",
            "160 False block5c_drop\n",
            "161 False block5c_add\n",
            "162 False block6a_expand_conv\n",
            "163 False block6a_expand_bn\n",
            "164 False block6a_expand_activation\n",
            "165 False block6a_dwconv_pad\n",
            "166 False block6a_dwconv\n",
            "167 False block6a_bn\n",
            "168 False block6a_activation\n",
            "169 False block6a_se_squeeze\n",
            "170 False block6a_se_reshape\n",
            "171 False block6a_se_reduce\n",
            "172 False block6a_se_expand\n",
            "173 False block6a_se_excite\n",
            "174 False block6a_project_conv\n",
            "175 False block6a_project_bn\n",
            "176 False block6b_expand_conv\n",
            "177 False block6b_expand_bn\n",
            "178 False block6b_expand_activation\n",
            "179 False block6b_dwconv\n",
            "180 False block6b_bn\n",
            "181 False block6b_activation\n",
            "182 False block6b_se_squeeze\n",
            "183 False block6b_se_reshape\n",
            "184 False block6b_se_reduce\n",
            "185 False block6b_se_expand\n",
            "186 False block6b_se_excite\n",
            "187 False block6b_project_conv\n",
            "188 False block6b_project_bn\n",
            "189 False block6b_drop\n",
            "190 False block6b_add\n",
            "191 False block6c_expand_conv\n",
            "192 False block6c_expand_bn\n",
            "193 False block6c_expand_activation\n",
            "194 False block6c_dwconv\n",
            "195 False block6c_bn\n",
            "196 False block6c_activation\n",
            "197 False block6c_se_squeeze\n",
            "198 False block6c_se_reshape\n",
            "199 False block6c_se_reduce\n",
            "200 False block6c_se_expand\n",
            "201 False block6c_se_excite\n",
            "202 False block6c_project_conv\n",
            "203 False block6c_project_bn\n",
            "204 False block6c_drop\n",
            "205 False block6c_add\n",
            "206 False block6d_expand_conv\n",
            "207 False block6d_expand_bn\n",
            "208 False block6d_expand_activation\n",
            "209 False block6d_dwconv\n",
            "210 False block6d_bn\n",
            "211 False block6d_activation\n",
            "212 False block6d_se_squeeze\n",
            "213 False block6d_se_reshape\n",
            "214 False block6d_se_reduce\n",
            "215 False block6d_se_expand\n",
            "216 False block6d_se_excite\n",
            "217 False block6d_project_conv\n",
            "218 False block6d_project_bn\n",
            "219 False block6d_drop\n",
            "220 False block6d_add\n",
            "221 False block7a_expand_conv\n",
            "222 False block7a_expand_bn\n",
            "223 False block7a_expand_activation\n",
            "224 False block7a_dwconv\n",
            "225 False block7a_bn\n",
            "226 False block7a_activation\n",
            "227 False block7a_se_squeeze\n",
            "228 False block7a_se_reshape\n",
            "229 False block7a_se_reduce\n",
            "230 False block7a_se_expand\n",
            "231 False block7a_se_excite\n",
            "232 False block7a_project_conv\n",
            "233 False block7a_project_bn\n",
            "234 False top_conv\n",
            "235 False top_bn\n",
            "236 False top_activation\n"
          ]
        }
      ],
      "source": [
        "# What layers were frozen\n",
        "for i,  layer in enumerate(model_2.layers[2].layers):\n",
        "  print(i, layer.trainable, layer.name)"
      ]
    },
    {
      "cell_type": "code",
      "execution_count": 44,
      "metadata": {
        "id": "3UrK0Dp9AyLs",
        "colab": {
          "base_uri": "https://localhost:8080/"
        },
        "outputId": "4a4fac43-865b-4bf7-b119-3426e06f2bf9"
      },
      "outputs": [
        {
          "output_type": "stream",
          "name": "stdout",
          "text": [
            "0\n"
          ]
        }
      ],
      "source": [
        "# How many trainable variables are there in our base model\n",
        "print(len(model_2.layers[2].trainable_variables))"
      ]
    },
    {
      "cell_type": "code",
      "execution_count": 45,
      "metadata": {
        "id": "I4EujSPaAyQJ"
      },
      "outputs": [],
      "source": [
        "# To begin fine tuning lets start with setting last 10 layers of our model.trainable = True\n",
        "base_model.trainable = True\n",
        "# Freeze all layers except last 10\n",
        "for layer in base_model.layers[:-10]:\n",
        "  layer.trainable = False\n",
        "\n",
        "# Recompile our model every time we make changes in our model\n",
        "model_2.compile(loss=\"categorical_crossentropy\",\n",
        "                optimizer=tf.keras.optimizers.Adam(learning_rate=0.0001), # When fine tunining we typically want to lower the learning rate by 10x\n",
        "                metrics = [\"accuracy\"])"
      ]
    },
    {
      "cell_type": "code",
      "source": [
        "for i, layer in enumerate(model_2.layers[2].layers):\n",
        "  print(i, layer.trainable, layer.name)"
      ],
      "metadata": {
        "colab": {
          "base_uri": "https://localhost:8080/"
        },
        "id": "Ce2Oy17JOwO1",
        "outputId": "fec10291-a246-48fb-a1d0-df8965cff354"
      },
      "execution_count": 46,
      "outputs": [
        {
          "output_type": "stream",
          "name": "stdout",
          "text": [
            "0 False input_3\n",
            "1 False rescaling_2\n",
            "2 False normalization_2\n",
            "3 False stem_conv_pad\n",
            "4 False stem_conv\n",
            "5 False stem_bn\n",
            "6 False stem_activation\n",
            "7 False block1a_dwconv\n",
            "8 False block1a_bn\n",
            "9 False block1a_activation\n",
            "10 False block1a_se_squeeze\n",
            "11 False block1a_se_reshape\n",
            "12 False block1a_se_reduce\n",
            "13 False block1a_se_expand\n",
            "14 False block1a_se_excite\n",
            "15 False block1a_project_conv\n",
            "16 False block1a_project_bn\n",
            "17 False block2a_expand_conv\n",
            "18 False block2a_expand_bn\n",
            "19 False block2a_expand_activation\n",
            "20 False block2a_dwconv_pad\n",
            "21 False block2a_dwconv\n",
            "22 False block2a_bn\n",
            "23 False block2a_activation\n",
            "24 False block2a_se_squeeze\n",
            "25 False block2a_se_reshape\n",
            "26 False block2a_se_reduce\n",
            "27 False block2a_se_expand\n",
            "28 False block2a_se_excite\n",
            "29 False block2a_project_conv\n",
            "30 False block2a_project_bn\n",
            "31 False block2b_expand_conv\n",
            "32 False block2b_expand_bn\n",
            "33 False block2b_expand_activation\n",
            "34 False block2b_dwconv\n",
            "35 False block2b_bn\n",
            "36 False block2b_activation\n",
            "37 False block2b_se_squeeze\n",
            "38 False block2b_se_reshape\n",
            "39 False block2b_se_reduce\n",
            "40 False block2b_se_expand\n",
            "41 False block2b_se_excite\n",
            "42 False block2b_project_conv\n",
            "43 False block2b_project_bn\n",
            "44 False block2b_drop\n",
            "45 False block2b_add\n",
            "46 False block3a_expand_conv\n",
            "47 False block3a_expand_bn\n",
            "48 False block3a_expand_activation\n",
            "49 False block3a_dwconv_pad\n",
            "50 False block3a_dwconv\n",
            "51 False block3a_bn\n",
            "52 False block3a_activation\n",
            "53 False block3a_se_squeeze\n",
            "54 False block3a_se_reshape\n",
            "55 False block3a_se_reduce\n",
            "56 False block3a_se_expand\n",
            "57 False block3a_se_excite\n",
            "58 False block3a_project_conv\n",
            "59 False block3a_project_bn\n",
            "60 False block3b_expand_conv\n",
            "61 False block3b_expand_bn\n",
            "62 False block3b_expand_activation\n",
            "63 False block3b_dwconv\n",
            "64 False block3b_bn\n",
            "65 False block3b_activation\n",
            "66 False block3b_se_squeeze\n",
            "67 False block3b_se_reshape\n",
            "68 False block3b_se_reduce\n",
            "69 False block3b_se_expand\n",
            "70 False block3b_se_excite\n",
            "71 False block3b_project_conv\n",
            "72 False block3b_project_bn\n",
            "73 False block3b_drop\n",
            "74 False block3b_add\n",
            "75 False block4a_expand_conv\n",
            "76 False block4a_expand_bn\n",
            "77 False block4a_expand_activation\n",
            "78 False block4a_dwconv_pad\n",
            "79 False block4a_dwconv\n",
            "80 False block4a_bn\n",
            "81 False block4a_activation\n",
            "82 False block4a_se_squeeze\n",
            "83 False block4a_se_reshape\n",
            "84 False block4a_se_reduce\n",
            "85 False block4a_se_expand\n",
            "86 False block4a_se_excite\n",
            "87 False block4a_project_conv\n",
            "88 False block4a_project_bn\n",
            "89 False block4b_expand_conv\n",
            "90 False block4b_expand_bn\n",
            "91 False block4b_expand_activation\n",
            "92 False block4b_dwconv\n",
            "93 False block4b_bn\n",
            "94 False block4b_activation\n",
            "95 False block4b_se_squeeze\n",
            "96 False block4b_se_reshape\n",
            "97 False block4b_se_reduce\n",
            "98 False block4b_se_expand\n",
            "99 False block4b_se_excite\n",
            "100 False block4b_project_conv\n",
            "101 False block4b_project_bn\n",
            "102 False block4b_drop\n",
            "103 False block4b_add\n",
            "104 False block4c_expand_conv\n",
            "105 False block4c_expand_bn\n",
            "106 False block4c_expand_activation\n",
            "107 False block4c_dwconv\n",
            "108 False block4c_bn\n",
            "109 False block4c_activation\n",
            "110 False block4c_se_squeeze\n",
            "111 False block4c_se_reshape\n",
            "112 False block4c_se_reduce\n",
            "113 False block4c_se_expand\n",
            "114 False block4c_se_excite\n",
            "115 False block4c_project_conv\n",
            "116 False block4c_project_bn\n",
            "117 False block4c_drop\n",
            "118 False block4c_add\n",
            "119 False block5a_expand_conv\n",
            "120 False block5a_expand_bn\n",
            "121 False block5a_expand_activation\n",
            "122 False block5a_dwconv\n",
            "123 False block5a_bn\n",
            "124 False block5a_activation\n",
            "125 False block5a_se_squeeze\n",
            "126 False block5a_se_reshape\n",
            "127 False block5a_se_reduce\n",
            "128 False block5a_se_expand\n",
            "129 False block5a_se_excite\n",
            "130 False block5a_project_conv\n",
            "131 False block5a_project_bn\n",
            "132 False block5b_expand_conv\n",
            "133 False block5b_expand_bn\n",
            "134 False block5b_expand_activation\n",
            "135 False block5b_dwconv\n",
            "136 False block5b_bn\n",
            "137 False block5b_activation\n",
            "138 False block5b_se_squeeze\n",
            "139 False block5b_se_reshape\n",
            "140 False block5b_se_reduce\n",
            "141 False block5b_se_expand\n",
            "142 False block5b_se_excite\n",
            "143 False block5b_project_conv\n",
            "144 False block5b_project_bn\n",
            "145 False block5b_drop\n",
            "146 False block5b_add\n",
            "147 False block5c_expand_conv\n",
            "148 False block5c_expand_bn\n",
            "149 False block5c_expand_activation\n",
            "150 False block5c_dwconv\n",
            "151 False block5c_bn\n",
            "152 False block5c_activation\n",
            "153 False block5c_se_squeeze\n",
            "154 False block5c_se_reshape\n",
            "155 False block5c_se_reduce\n",
            "156 False block5c_se_expand\n",
            "157 False block5c_se_excite\n",
            "158 False block5c_project_conv\n",
            "159 False block5c_project_bn\n",
            "160 False block5c_drop\n",
            "161 False block5c_add\n",
            "162 False block6a_expand_conv\n",
            "163 False block6a_expand_bn\n",
            "164 False block6a_expand_activation\n",
            "165 False block6a_dwconv_pad\n",
            "166 False block6a_dwconv\n",
            "167 False block6a_bn\n",
            "168 False block6a_activation\n",
            "169 False block6a_se_squeeze\n",
            "170 False block6a_se_reshape\n",
            "171 False block6a_se_reduce\n",
            "172 False block6a_se_expand\n",
            "173 False block6a_se_excite\n",
            "174 False block6a_project_conv\n",
            "175 False block6a_project_bn\n",
            "176 False block6b_expand_conv\n",
            "177 False block6b_expand_bn\n",
            "178 False block6b_expand_activation\n",
            "179 False block6b_dwconv\n",
            "180 False block6b_bn\n",
            "181 False block6b_activation\n",
            "182 False block6b_se_squeeze\n",
            "183 False block6b_se_reshape\n",
            "184 False block6b_se_reduce\n",
            "185 False block6b_se_expand\n",
            "186 False block6b_se_excite\n",
            "187 False block6b_project_conv\n",
            "188 False block6b_project_bn\n",
            "189 False block6b_drop\n",
            "190 False block6b_add\n",
            "191 False block6c_expand_conv\n",
            "192 False block6c_expand_bn\n",
            "193 False block6c_expand_activation\n",
            "194 False block6c_dwconv\n",
            "195 False block6c_bn\n",
            "196 False block6c_activation\n",
            "197 False block6c_se_squeeze\n",
            "198 False block6c_se_reshape\n",
            "199 False block6c_se_reduce\n",
            "200 False block6c_se_expand\n",
            "201 False block6c_se_excite\n",
            "202 False block6c_project_conv\n",
            "203 False block6c_project_bn\n",
            "204 False block6c_drop\n",
            "205 False block6c_add\n",
            "206 False block6d_expand_conv\n",
            "207 False block6d_expand_bn\n",
            "208 False block6d_expand_activation\n",
            "209 False block6d_dwconv\n",
            "210 False block6d_bn\n",
            "211 False block6d_activation\n",
            "212 False block6d_se_squeeze\n",
            "213 False block6d_se_reshape\n",
            "214 False block6d_se_reduce\n",
            "215 False block6d_se_expand\n",
            "216 False block6d_se_excite\n",
            "217 False block6d_project_conv\n",
            "218 False block6d_project_bn\n",
            "219 False block6d_drop\n",
            "220 False block6d_add\n",
            "221 False block7a_expand_conv\n",
            "222 False block7a_expand_bn\n",
            "223 False block7a_expand_activation\n",
            "224 False block7a_dwconv\n",
            "225 False block7a_bn\n",
            "226 False block7a_activation\n",
            "227 True block7a_se_squeeze\n",
            "228 True block7a_se_reshape\n",
            "229 True block7a_se_reduce\n",
            "230 True block7a_se_expand\n",
            "231 True block7a_se_excite\n",
            "232 True block7a_project_conv\n",
            "233 True block7a_project_bn\n",
            "234 True top_conv\n",
            "235 True top_bn\n",
            "236 True top_activation\n"
          ]
        }
      ]
    },
    {
      "cell_type": "code",
      "source": [
        "print(len(model_2.trainable_variables))"
      ],
      "metadata": {
        "colab": {
          "base_uri": "https://localhost:8080/"
        },
        "id": "C0iPm1VPOwLZ",
        "outputId": "59beb583-c6ab-49eb-9668-db438dafd5df"
      },
      "execution_count": 47,
      "outputs": [
        {
          "output_type": "stream",
          "name": "stdout",
          "text": [
            "12\n"
          ]
        }
      ]
    },
    {
      "cell_type": "code",
      "source": [
        "# Fine tune for another 5 epochs\n",
        "fine_tune_epochs = initial_epochs + 5\n",
        "\n",
        "history_fine_10_percent_data_aug = model_2.fit(train_data_10_percent,\n",
        "                                               epochs=fine_tune_epochs,\n",
        "                                               validation_data=test_data,\n",
        "                                               validation_steps=int(0.25 * len(test_data)),\n",
        "                                               initial_epoch=history_10_percet_data_aug.epoch[-1],# start training from last epoch\n",
        "                                               callbacks=[create_tensorboard_callback(dir_name=\"transfer_learning\",\n",
        "                                                                                      experiment_name=\"10_percent_fine_tune_last_10\")])"
      ],
      "metadata": {
        "colab": {
          "base_uri": "https://localhost:8080/"
        },
        "id": "61PuU_pOOwIW",
        "outputId": "a495665e-a8d2-4cd0-c8dc-251f66240436"
      },
      "execution_count": 48,
      "outputs": [
        {
          "output_type": "stream",
          "name": "stdout",
          "text": [
            "Saving TensorBoard log files to: transfer_learning/10_percent_fine_tune_last_10/20220908-204142\n",
            "Epoch 5/10\n",
            "24/24 [==============================] - 26s 590ms/step - loss: 0.6796 - accuracy: 0.8040 - val_loss: 0.7367 - val_accuracy: 0.7533\n",
            "Epoch 6/10\n",
            "24/24 [==============================] - 11s 432ms/step - loss: 0.5808 - accuracy: 0.8240 - val_loss: 0.7270 - val_accuracy: 0.7763\n",
            "Epoch 7/10\n",
            "24/24 [==============================] - 9s 361ms/step - loss: 0.4805 - accuracy: 0.8493 - val_loss: 0.6826 - val_accuracy: 0.7878\n",
            "Epoch 8/10\n",
            "24/24 [==============================] - 11s 439ms/step - loss: 0.4765 - accuracy: 0.8640 - val_loss: 0.6840 - val_accuracy: 0.7812\n",
            "Epoch 9/10\n",
            "24/24 [==============================] - 11s 433ms/step - loss: 0.4278 - accuracy: 0.8667 - val_loss: 0.6580 - val_accuracy: 0.7681\n",
            "Epoch 10/10\n",
            "24/24 [==============================] - 10s 392ms/step - loss: 0.3883 - accuracy: 0.8947 - val_loss: 0.6715 - val_accuracy: 0.7862\n"
          ]
        }
      ]
    },
    {
      "cell_type": "code",
      "source": [
        "# Evaluate the fine tuned model \n",
        "results_fine_tune_10_percent = model_2.evaluate(test_data)"
      ],
      "metadata": {
        "colab": {
          "base_uri": "https://localhost:8080/"
        },
        "id": "yIGRQqIDOwFc",
        "outputId": "240f45be-d72a-4006-e381-d5fb9c7b8fc9"
      },
      "execution_count": 49,
      "outputs": [
        {
          "output_type": "stream",
          "name": "stdout",
          "text": [
            "79/79 [==============================] - 19s 236ms/step - loss: 0.6332 - accuracy: 0.7876\n"
          ]
        }
      ]
    },
    {
      "cell_type": "code",
      "source": [
        "results_10_percent_data_aug"
      ],
      "metadata": {
        "colab": {
          "base_uri": "https://localhost:8080/"
        },
        "id": "EOauk0EzOwCn",
        "outputId": "86bb1f7c-a2b3-4c6b-f070-e8a2e1e2a53d"
      },
      "execution_count": 50,
      "outputs": [
        {
          "output_type": "execute_result",
          "data": {
            "text/plain": [
              "[0.8387944102287292, 0.765999972820282]"
            ]
          },
          "metadata": {},
          "execution_count": 50
        }
      ]
    },
    {
      "cell_type": "code",
      "source": [
        "# Check out the loss curves of our fined tuned model\n",
        "plot_loss_curves(history_fine_10_percent_data_aug)"
      ],
      "metadata": {
        "colab": {
          "base_uri": "https://localhost:8080/",
          "height": 573
        },
        "id": "iSYolvXBOv_d",
        "outputId": "da37d950-21b7-40ed-f87d-8f4ea0bf0fce"
      },
      "execution_count": 51,
      "outputs": [
        {
          "output_type": "display_data",
          "data": {
            "text/plain": [
              "<Figure size 432x288 with 1 Axes>"
            ],
            "image/png": "[encoded data removed]"
          },
          "metadata": {
            "needs_background": "light"
          }
        },
        {
          "output_type": "display_data",
          "data": {
            "text/plain": [
              "<Figure size 432x288 with 1 Axes>"
            ],
            "image/png": "[encoded data removed]"
          },
          "metadata": {
            "needs_background": "light"
          }
        }
      ]
    },
    {
      "cell_type": "code",
      "source": [
        "# Let's create a function for plotting loss curves to compare before and after fine tuning or comparing histories\n",
        "def compare_histories(original_history, new_history, initial_epochs=5):\n",
        "  \"\"\"\n",
        "  Compares tensorflow 2 history objects\n",
        "  \"\"\"\n",
        "  # Get original history measurements\n",
        "  acc = original_history.history[\"accuracy\"]\n",
        "  loss = original_history.history[\"loss\"]\n",
        "\n",
        "  val_acc = original_history.history[\"val_accuracy\"]\n",
        "  val_loss = original_history.history[\"val_loss\"]\n",
        "\n",
        "  # Combine original history with new history\n",
        "  total_acc = acc + new_history.history[\"accuracy\"]\n",
        "  total_loss = loss + new_history.history[\"loss\"]\n",
        "\n",
        "  total_val_acc = val_acc + new_history.history[\"val_accuracy\"]\n",
        "  total_val_loss = val_loss + new_history.history[\"val_loss\"]\n",
        "\n",
        "  # Make plots accuracy\n",
        "  plt.figure(figsize=(8,8))\n",
        "  plt.subplot(2, 1, 1)\n",
        "  plt.plot(total_acc, label=\"Training Accuracy\")\n",
        "  plt.plot(total_val_acc, label=\"Validation Accuracy\")\n",
        "\n",
        "  plt.plot([initial_epochs-1, initial_epochs-1], plt.ylim(), label=\"Start Fine Tuning\")\n",
        "  plt.legend(loc=\"lower right\")\n",
        "  plt.title(\"Training and Validation Accuracy\")\n",
        "\n",
        "  # Make plot for loss\n",
        "  plt.figure(figsize=(8,8))\n",
        "  plt.subplot(2, 1, 1)\n",
        "  plt.plot(total_loss, label=\"Training Loss\")\n",
        "  plt.plot(total_val_loss, label=\"Validation Loss\")\n",
        "\n",
        "  plt.plot([initial_epochs-1, initial_epochs-1], plt.ylim(), label=\"Start Fine Tuning\")\n",
        "  plt.legend(loc=\"upper right\")\n",
        "  plt.title(\"Training and Validation Loss\")"
      ],
      "metadata": {
        "id": "0ZZUf4HSOv8Z"
      },
      "execution_count": 52,
      "outputs": []
    },
    {
      "cell_type": "code",
      "source": [
        "compare_histories(history_10_percet_data_aug,\n",
        "                  history_fine_10_percent_data_aug,\n",
        "                  initial_epochs=5)"
      ],
      "metadata": {
        "colab": {
          "base_uri": "https://localhost:8080/",
          "height": 507
        },
        "id": "pbPHTovzOv5w",
        "outputId": "d6824ac8-289b-499a-e7fa-106cf0f492b1"
      },
      "execution_count": 53,
      "outputs": [
        {
          "output_type": "display_data",
          "data": {
            "text/plain": [
              "<Figure size 576x576 with 1 Axes>"
            ],
            "image/png": "[encoded data removed]"
          },
          "metadata": {
            "needs_background": "light"
          }
        },
        {
          "output_type": "display_data",
          "data": {
            "text/plain": [
              "<Figure size 576x576 with 1 Axes>"
            ],
            "image/png": "[encoded data removed]"
          },
          "metadata": {
            "needs_background": "light"
          }
        }
      ]
    },
    {
      "cell_type": "markdown",
      "source": [
        "## Model_4: Fine tune existing model on all of the data"
      ],
      "metadata": {
        "id": "BA0PF1AhOv2z"
      }
    },
    {
      "cell_type": "code",
      "source": [
        "# Download and unzip 10 classes food 101 datset\n",
        "!wget https://storage.googleapis.com/ztm_tf_course/food_vision/10_food_classes_all_data.zip\n",
        "unzip_data(\"10_food_classes_all_data.zip\")"
      ],
      "metadata": {
        "id": "q4k-E-3oOv0A",
        "colab": {
          "base_uri": "https://localhost:8080/"
        },
        "outputId": "10bc0432-14c4-4861-e399-1cfc3788c008"
      },
      "execution_count": 55,
      "outputs": [
        {
          "output_type": "stream",
          "name": "stdout",
          "text": [
            "--2022-09-08 20:44:11--  https://storage.googleapis.com/ztm_tf_course/food_vision/10_food_classes_all_data.zip\n",
            "Resolving storage.googleapis.com (storage.googleapis.com)... 142.250.99.128, 142.250.107.128, 74.125.20.128, ...\n",
            "Connecting to storage.googleapis.com (storage.googleapis.com)|142.250.99.128|:443... connected.\n",
            "HTTP request sent, awaiting response... 200 OK\n",
            "Length: 519183241 (495M) [application/zip]\n",
            "Saving to: ‘10_food_classes_all_data.zip.1’\n",
            "\n",
            "10_food_classes_all 100%[===================>] 495.13M  50.8MB/s    in 6.3s    \n",
            "\n",
            "2022-09-08 20:44:17 (79.2 MB/s) - ‘10_food_classes_all_data.zip.1’ saved [519183241/519183241]\n",
            "\n"
          ]
        }
      ]
    },
    {
      "cell_type": "code",
      "source": [
        "# setup train and test dirs\n",
        "train_dir_all_data = \"10_food_classes_all_data/train\"\n",
        "test_dir = \"10_food_classes_all_data/test\""
      ],
      "metadata": {
        "id": "2ywF8qCQOvxE"
      },
      "execution_count": 59,
      "outputs": []
    },
    {
      "cell_type": "code",
      "source": [
        "walk_through_dir(\"10_food_classes_all_data\")"
      ],
      "metadata": {
        "id": "yzApqd-0OvuH",
        "colab": {
          "base_uri": "https://localhost:8080/"
        },
        "outputId": "cb93c223-5876-464c-e946-23d0f3effbcf"
      },
      "execution_count": 60,
      "outputs": [
        {
          "output_type": "stream",
          "name": "stdout",
          "text": [
            "There are 2 directories and 0 images in '10_food_classes_all_data'.\n",
            "There are 10 directories and 0 images in '10_food_classes_all_data/train'.\n",
            "There are 0 directories and 750 images in '10_food_classes_all_data/train/chicken_wings'.\n",
            "There are 0 directories and 750 images in '10_food_classes_all_data/train/pizza'.\n",
            "There are 0 directories and 750 images in '10_food_classes_all_data/train/grilled_salmon'.\n",
            "There are 0 directories and 750 images in '10_food_classes_all_data/train/sushi'.\n",
            "There are 0 directories and 750 images in '10_food_classes_all_data/train/ice_cream'.\n",
            "There are 0 directories and 750 images in '10_food_classes_all_data/train/chicken_curry'.\n",
            "There are 0 directories and 750 images in '10_food_classes_all_data/train/ramen'.\n",
            "There are 0 directories and 750 images in '10_food_classes_all_data/train/fried_rice'.\n",
            "There are 0 directories and 750 images in '10_food_classes_all_data/train/hamburger'.\n",
            "There are 0 directories and 750 images in '10_food_classes_all_data/train/steak'.\n",
            "There are 10 directories and 0 images in '10_food_classes_all_data/test'.\n",
            "There are 0 directories and 250 images in '10_food_classes_all_data/test/chicken_wings'.\n",
            "There are 0 directories and 250 images in '10_food_classes_all_data/test/pizza'.\n",
            "There are 0 directories and 250 images in '10_food_classes_all_data/test/grilled_salmon'.\n",
            "There are 0 directories and 250 images in '10_food_classes_all_data/test/sushi'.\n",
            "There are 0 directories and 250 images in '10_food_classes_all_data/test/ice_cream'.\n",
            "There are 0 directories and 250 images in '10_food_classes_all_data/test/chicken_curry'.\n",
            "There are 0 directories and 250 images in '10_food_classes_all_data/test/ramen'.\n",
            "There are 0 directories and 250 images in '10_food_classes_all_data/test/fried_rice'.\n",
            "There are 0 directories and 250 images in '10_food_classes_all_data/test/hamburger'.\n",
            "There are 0 directories and 250 images in '10_food_classes_all_data/test/steak'.\n"
          ]
        }
      ]
    },
    {
      "cell_type": "code",
      "source": [
        "# Setup data inputs\n",
        "import tensorflow as tf\n",
        "IMG_SIZE = (224,224)\n",
        "train_data_10_classes_full = tf.keras.preprocessing.image_dataset_from_directory(train_dir_all_data,\n",
        "                                                                                 label_mode=\"categorical\",\n",
        "                                                                                 image_size=IMG_SIZE)\n",
        "test_data = tf.keras.preprocessing.image_dataset_from_directory(test_dir,\n",
        "                                                                label_mode=\"categorical\",\n",
        "                                                                image_size=IMG_SIZE)"
      ],
      "metadata": {
        "id": "FrJcnY-2OvrF",
        "colab": {
          "base_uri": "https://localhost:8080/"
        },
        "outputId": "c2b4988a-7466-42d0-c10d-b1583a24fd0f"
      },
      "execution_count": 61,
      "outputs": [
        {
          "output_type": "stream",
          "name": "stdout",
          "text": [
            "Found 7500 files belonging to 10 classes.\n",
            "Found 2500 files belonging to 10 classes.\n"
          ]
        }
      ]
    },
    {
      "cell_type": "code",
      "source": [
        "train_data_10_classes_full.class_names"
      ],
      "metadata": {
        "id": "xkJne6AeOvom",
        "colab": {
          "base_uri": "https://localhost:8080/"
        },
        "outputId": "4261e2dd-8fb9-49d0-cb87-efd544700407"
      },
      "execution_count": 65,
      "outputs": [
        {
          "output_type": "execute_result",
          "data": {
            "text/plain": [
              "['chicken_curry',\n",
              " 'chicken_wings',\n",
              " 'fried_rice',\n",
              " 'grilled_salmon',\n",
              " 'hamburger',\n",
              " 'ice_cream',\n",
              " 'pizza',\n",
              " 'ramen',\n",
              " 'steak',\n",
              " 'sushi']"
            ]
          },
          "metadata": {},
          "execution_count": 65
        }
      ]
    },
    {
      "cell_type": "markdown",
      "source": [
        "To train a fine-tuning model we need to revert model_2 back to it's feature extraction weights."
      ],
      "metadata": {
        "id": "XYarbgVeOvmA"
      }
    },
    {
      "cell_type": "code",
      "source": [
        "# Load weights from checkpoints so we can fine tune\n",
        "# from same stage 10 percent model was fine tuned\n",
        "model_2.load_weights(checkpointPath)"
      ],
      "metadata": {
        "id": "39szEmDpOvjY",
        "colab": {
          "base_uri": "https://localhost:8080/"
        },
        "outputId": "5e433e9b-f165-41cf-fa04-7a04baeaac25"
      },
      "execution_count": 66,
      "outputs": [
        {
          "output_type": "execute_result",
          "data": {
            "text/plain": [
              "<tensorflow.python.training.tracking.util.CheckpointLoadStatus at 0x7f7057759f10>"
            ]
          },
          "metadata": {},
          "execution_count": 66
        }
      ]
    },
    {
      "cell_type": "code",
      "source": [
        "model_2.evaluate(test_data)"
      ],
      "metadata": {
        "id": "0zLM-H-5Ovg2",
        "colab": {
          "base_uri": "https://localhost:8080/"
        },
        "outputId": "a12aa54c-2312-48e7-c7fa-0e20c9fbd207"
      },
      "execution_count": 67,
      "outputs": [
        {
          "output_type": "stream",
          "name": "stdout",
          "text": [
            "79/79 [==============================] - 17s 209ms/step - loss: 0.8425 - accuracy: 0.7716\n"
          ]
        },
        {
          "output_type": "execute_result",
          "data": {
            "text/plain": [
              "[0.8425078392028809, 0.7716000080108643]"
            ]
          },
          "metadata": {},
          "execution_count": 67
        }
      ]
    },
    {
      "cell_type": "code",
      "source": [
        "results_fine_tune_10_percent"
      ],
      "metadata": {
        "id": "U25P_d8uOveZ",
        "colab": {
          "base_uri": "https://localhost:8080/"
        },
        "outputId": "f246106c-f9a8-4849-aa43-27acca722b71"
      },
      "execution_count": 68,
      "outputs": [
        {
          "output_type": "execute_result",
          "data": {
            "text/plain": [
              "[0.633224606513977, 0.7875999808311462]"
            ]
          },
          "metadata": {},
          "execution_count": 68
        }
      ]
    },
    {
      "cell_type": "code",
      "source": [
        "results_10_percent_data_aug"
      ],
      "metadata": {
        "id": "Vi0zWvRzOvb7",
        "colab": {
          "base_uri": "https://localhost:8080/"
        },
        "outputId": "e27302e8-c5d5-4eeb-944e-8eeecd0995c9"
      },
      "execution_count": 69,
      "outputs": [
        {
          "output_type": "execute_result",
          "data": {
            "text/plain": [
              "[0.8387944102287292, 0.765999972820282]"
            ]
          },
          "metadata": {},
          "execution_count": 69
        }
      ]
    },
    {
      "cell_type": "markdown",
      "source": [
        "All we've done is:\n",
        "1. Trained a feature extraction transfer learning model for 5 epochson 10 % of data with data_augmentation (model_2) and we saved the model's weight using model checkpoint callback\n",
        "2. Fine tuned the same model on same 10% of the data for a further 5 epochs with the last 10 layers unfrozen(model_3).\n",
        "3. Saved the results and training logs each time.\n",
        "4. Reloaded the model from step 1 to do the same steps as model_2 except this time we're using all of the data."
      ],
      "metadata": {
        "id": "fhLrzalbOvZf"
      }
    },
    {
      "cell_type": "code",
      "source": [
        "# Check which layers are tunable\n",
        "for layer_number, layer in enumerate(model_2.layers):\n",
        "  print(layer_number, layer.name, layer.trainable)"
      ],
      "metadata": {
        "id": "iUqwGLF6OvW8",
        "colab": {
          "base_uri": "https://localhost:8080/"
        },
        "outputId": "c771531d-af6c-4dbe-ae9c-6af9636c7018"
      },
      "execution_count": 70,
      "outputs": [
        {
          "output_type": "stream",
          "name": "stdout",
          "text": [
            "0 input_layer True\n",
            "1 data_augmentation True\n",
            "2 efficientnetb0 True\n",
            "3 global_average_pooling_2D True\n",
            "4 output_layer True\n"
          ]
        }
      ]
    },
    {
      "cell_type": "code",
      "source": [
        "for i, layer in enumerate(model_2.layers[2].layers):\n",
        "  print(i, layer.name, layer.trainable)"
      ],
      "metadata": {
        "id": "7p-FUxhAOvIX",
        "colab": {
          "base_uri": "https://localhost:8080/"
        },
        "outputId": "960e949e-5002-41d7-e1fd-11a232876252"
      },
      "execution_count": 72,
      "outputs": [
        {
          "output_type": "stream",
          "name": "stdout",
          "text": [
            "0 input_3 False\n",
            "1 rescaling_2 False\n",
            "2 normalization_2 False\n",
            "3 stem_conv_pad False\n",
            "4 stem_conv False\n",
            "5 stem_bn False\n",
            "6 stem_activation False\n",
            "7 block1a_dwconv False\n",
            "8 block1a_bn False\n",
            "9 block1a_activation False\n",
            "10 block1a_se_squeeze False\n",
            "11 block1a_se_reshape False\n",
            "12 block1a_se_reduce False\n",
            "13 block1a_se_expand False\n",
            "14 block1a_se_excite False\n",
            "15 block1a_project_conv False\n",
            "16 block1a_project_bn False\n",
            "17 block2a_expand_conv False\n",
            "18 block2a_expand_bn False\n",
            "19 block2a_expand_activation False\n",
            "20 block2a_dwconv_pad False\n",
            "21 block2a_dwconv False\n",
            "22 block2a_bn False\n",
            "23 block2a_activation False\n",
            "24 block2a_se_squeeze False\n",
            "25 block2a_se_reshape False\n",
            "26 block2a_se_reduce False\n",
            "27 block2a_se_expand False\n",
            "28 block2a_se_excite False\n",
            "29 block2a_project_conv False\n",
            "30 block2a_project_bn False\n",
            "31 block2b_expand_conv False\n",
            "32 block2b_expand_bn False\n",
            "33 block2b_expand_activation False\n",
            "34 block2b_dwconv False\n",
            "35 block2b_bn False\n",
            "36 block2b_activation False\n",
            "37 block2b_se_squeeze False\n",
            "38 block2b_se_reshape False\n",
            "39 block2b_se_reduce False\n",
            "40 block2b_se_expand False\n",
            "41 block2b_se_excite False\n",
            "42 block2b_project_conv False\n",
            "43 block2b_project_bn False\n",
            "44 block2b_drop False\n",
            "45 block2b_add False\n",
            "46 block3a_expand_conv False\n",
            "47 block3a_expand_bn False\n",
            "48 block3a_expand_activation False\n",
            "49 block3a_dwconv_pad False\n",
            "50 block3a_dwconv False\n",
            "51 block3a_bn False\n",
            "52 block3a_activation False\n",
            "53 block3a_se_squeeze False\n",
            "54 block3a_se_reshape False\n",
            "55 block3a_se_reduce False\n",
            "56 block3a_se_expand False\n",
            "57 block3a_se_excite False\n",
            "58 block3a_project_conv False\n",
            "59 block3a_project_bn False\n",
            "60 block3b_expand_conv False\n",
            "61 block3b_expand_bn False\n",
            "62 block3b_expand_activation False\n",
            "63 block3b_dwconv False\n",
            "64 block3b_bn False\n",
            "65 block3b_activation False\n",
            "66 block3b_se_squeeze False\n",
            "67 block3b_se_reshape False\n",
            "68 block3b_se_reduce False\n",
            "69 block3b_se_expand False\n",
            "70 block3b_se_excite False\n",
            "71 block3b_project_conv False\n",
            "72 block3b_project_bn False\n",
            "73 block3b_drop False\n",
            "74 block3b_add False\n",
            "75 block4a_expand_conv False\n",
            "76 block4a_expand_bn False\n",
            "77 block4a_expand_activation False\n",
            "78 block4a_dwconv_pad False\n",
            "79 block4a_dwconv False\n",
            "80 block4a_bn False\n",
            "81 block4a_activation False\n",
            "82 block4a_se_squeeze False\n",
            "83 block4a_se_reshape False\n",
            "84 block4a_se_reduce False\n",
            "85 block4a_se_expand False\n",
            "86 block4a_se_excite False\n",
            "87 block4a_project_conv False\n",
            "88 block4a_project_bn False\n",
            "89 block4b_expand_conv False\n",
            "90 block4b_expand_bn False\n",
            "91 block4b_expand_activation False\n",
            "92 block4b_dwconv False\n",
            "93 block4b_bn False\n",
            "94 block4b_activation False\n",
            "95 block4b_se_squeeze False\n",
            "96 block4b_se_reshape False\n",
            "97 block4b_se_reduce False\n",
            "98 block4b_se_expand False\n",
            "99 block4b_se_excite False\n",
            "100 block4b_project_conv False\n",
            "101 block4b_project_bn False\n",
            "102 block4b_drop False\n",
            "103 block4b_add False\n",
            "104 block4c_expand_conv False\n",
            "105 block4c_expand_bn False\n",
            "106 block4c_expand_activation False\n",
            "107 block4c_dwconv False\n",
            "108 block4c_bn False\n",
            "109 block4c_activation False\n",
            "110 block4c_se_squeeze False\n",
            "111 block4c_se_reshape False\n",
            "112 block4c_se_reduce False\n",
            "113 block4c_se_expand False\n",
            "114 block4c_se_excite False\n",
            "115 block4c_project_conv False\n",
            "116 block4c_project_bn False\n",
            "117 block4c_drop False\n",
            "118 block4c_add False\n",
            "119 block5a_expand_conv False\n",
            "120 block5a_expand_bn False\n",
            "121 block5a_expand_activation False\n",
            "122 block5a_dwconv False\n",
            "123 block5a_bn False\n",
            "124 block5a_activation False\n",
            "125 block5a_se_squeeze False\n",
            "126 block5a_se_reshape False\n",
            "127 block5a_se_reduce False\n",
            "128 block5a_se_expand False\n",
            "129 block5a_se_excite False\n",
            "130 block5a_project_conv False\n",
            "131 block5a_project_bn False\n",
            "132 block5b_expand_conv False\n",
            "133 block5b_expand_bn False\n",
            "134 block5b_expand_activation False\n",
            "135 block5b_dwconv False\n",
            "136 block5b_bn False\n",
            "137 block5b_activation False\n",
            "138 block5b_se_squeeze False\n",
            "139 block5b_se_reshape False\n",
            "140 block5b_se_reduce False\n",
            "141 block5b_se_expand False\n",
            "142 block5b_se_excite False\n",
            "143 block5b_project_conv False\n",
            "144 block5b_project_bn False\n",
            "145 block5b_drop False\n",
            "146 block5b_add False\n",
            "147 block5c_expand_conv False\n",
            "148 block5c_expand_bn False\n",
            "149 block5c_expand_activation False\n",
            "150 block5c_dwconv False\n",
            "151 block5c_bn False\n",
            "152 block5c_activation False\n",
            "153 block5c_se_squeeze False\n",
            "154 block5c_se_reshape False\n",
            "155 block5c_se_reduce False\n",
            "156 block5c_se_expand False\n",
            "157 block5c_se_excite False\n",
            "158 block5c_project_conv False\n",
            "159 block5c_project_bn False\n",
            "160 block5c_drop False\n",
            "161 block5c_add False\n",
            "162 block6a_expand_conv False\n",
            "163 block6a_expand_bn False\n",
            "164 block6a_expand_activation False\n",
            "165 block6a_dwconv_pad False\n",
            "166 block6a_dwconv False\n",
            "167 block6a_bn False\n",
            "168 block6a_activation False\n",
            "169 block6a_se_squeeze False\n",
            "170 block6a_se_reshape False\n",
            "171 block6a_se_reduce False\n",
            "172 block6a_se_expand False\n",
            "173 block6a_se_excite False\n",
            "174 block6a_project_conv False\n",
            "175 block6a_project_bn False\n",
            "176 block6b_expand_conv False\n",
            "177 block6b_expand_bn False\n",
            "178 block6b_expand_activation False\n",
            "179 block6b_dwconv False\n",
            "180 block6b_bn False\n",
            "181 block6b_activation False\n",
            "182 block6b_se_squeeze False\n",
            "183 block6b_se_reshape False\n",
            "184 block6b_se_reduce False\n",
            "185 block6b_se_expand False\n",
            "186 block6b_se_excite False\n",
            "187 block6b_project_conv False\n",
            "188 block6b_project_bn False\n",
            "189 block6b_drop False\n",
            "190 block6b_add False\n",
            "191 block6c_expand_conv False\n",
            "192 block6c_expand_bn False\n",
            "193 block6c_expand_activation False\n",
            "194 block6c_dwconv False\n",
            "195 block6c_bn False\n",
            "196 block6c_activation False\n",
            "197 block6c_se_squeeze False\n",
            "198 block6c_se_reshape False\n",
            "199 block6c_se_reduce False\n",
            "200 block6c_se_expand False\n",
            "201 block6c_se_excite False\n",
            "202 block6c_project_conv False\n",
            "203 block6c_project_bn False\n",
            "204 block6c_drop False\n",
            "205 block6c_add False\n",
            "206 block6d_expand_conv False\n",
            "207 block6d_expand_bn False\n",
            "208 block6d_expand_activation False\n",
            "209 block6d_dwconv False\n",
            "210 block6d_bn False\n",
            "211 block6d_activation False\n",
            "212 block6d_se_squeeze False\n",
            "213 block6d_se_reshape False\n",
            "214 block6d_se_reduce False\n",
            "215 block6d_se_expand False\n",
            "216 block6d_se_excite False\n",
            "217 block6d_project_conv False\n",
            "218 block6d_project_bn False\n",
            "219 block6d_drop False\n",
            "220 block6d_add False\n",
            "221 block7a_expand_conv False\n",
            "222 block7a_expand_bn False\n",
            "223 block7a_expand_activation False\n",
            "224 block7a_dwconv False\n",
            "225 block7a_bn False\n",
            "226 block7a_activation False\n",
            "227 block7a_se_squeeze True\n",
            "228 block7a_se_reshape True\n",
            "229 block7a_se_reduce True\n",
            "230 block7a_se_expand True\n",
            "231 block7a_se_excite True\n",
            "232 block7a_project_conv True\n",
            "233 block7a_project_bn True\n",
            "234 top_conv True\n",
            "235 top_bn True\n",
            "236 top_activation True\n"
          ]
        }
      ]
    },
    {
      "cell_type": "code",
      "source": [
        "# Compile\n",
        "model_2.compile(loss=\"categorical_crossentropy\",\n",
        "                optimizer=tf.keras.optimizers.Adam(learning_rate=0.0001),\n",
        "                metrics=[\"accuracy\"])"
      ],
      "metadata": {
        "id": "uXxk772YOu6z"
      },
      "execution_count": 73,
      "outputs": []
    },
    {
      "cell_type": "code",
      "execution_count": 78,
      "metadata": {
        "id": "rqFeELfQAyVX",
        "colab": {
          "base_uri": "https://localhost:8080/"
        },
        "outputId": "28786a7f-3cda-4d45-aa29-cd3325eeced6"
      },
      "outputs": [
        {
          "output_type": "stream",
          "name": "stdout",
          "text": [
            "Saving TensorBoard log files to: transfer_learning/fine_tuned_10_classes/20220908-212721\n",
            "Epoch 5/10\n",
            "235/235 [==============================] - 50s 204ms/step - loss: 0.5998 - accuracy: 0.8045 - val_loss: 0.5028 - val_accuracy: 0.8240\n",
            "Epoch 6/10\n",
            "235/235 [==============================] - 48s 201ms/step - loss: 0.5326 - accuracy: 0.8288 - val_loss: 0.4164 - val_accuracy: 0.8635\n",
            "Epoch 7/10\n",
            "235/235 [==============================] - 43s 183ms/step - loss: 0.4871 - accuracy: 0.8453 - val_loss: 0.3861 - val_accuracy: 0.8766\n",
            "Epoch 8/10\n",
            "235/235 [==============================] - 35s 148ms/step - loss: 0.4512 - accuracy: 0.8539 - val_loss: 0.4299 - val_accuracy: 0.8553\n",
            "Epoch 9/10\n",
            "235/235 [==============================] - 38s 160ms/step - loss: 0.4232 - accuracy: 0.8648 - val_loss: 0.4176 - val_accuracy: 0.8503\n",
            "Epoch 10/10\n",
            "235/235 [==============================] - 37s 155ms/step - loss: 0.3935 - accuracy: 0.8739 - val_loss: 0.4083 - val_accuracy: 0.8651\n"
          ]
        }
      ],
      "source": [
        "fine_tune_epochs = initial_epochs + 5\n",
        "\n",
        "history_fine_10_classes_full = model_2.fit(train_data_10_classes_full,\n",
        "                                           epochs=fine_tune_epochs,\n",
        "                                           validation_data=test_data,\n",
        "                                           validation_steps=int(0.25 * len(test_data)),\n",
        "                                           initial_epoch=history_10_percet_data_aug.epoch[-1],\n",
        "                                           callbacks=[create_tensorboard_callback(dir_name=\"transfer_learning\",\n",
        "                                                                                  experiment_name=\"fine_tuned_10_classes\")])"
      ]
    },
    {
      "cell_type": "code",
      "source": [
        "results_fine_tune_full_data = model_2.evaluate(test_data)\n",
        "results_fine_tune_full_data"
      ],
      "metadata": {
        "id": "JWAfA6qfOtMc",
        "colab": {
          "base_uri": "https://localhost:8080/"
        },
        "outputId": "e7b4df32-da9d-4073-a5e2-c236402fe599"
      },
      "execution_count": 79,
      "outputs": [
        {
          "output_type": "stream",
          "name": "stdout",
          "text": [
            "79/79 [==============================] - 12s 141ms/step - loss: 0.4062 - accuracy: 0.8696\n"
          ]
        },
        {
          "output_type": "execute_result",
          "data": {
            "text/plain": [
              "[0.4062058627605438, 0.8695999979972839]"
            ]
          },
          "metadata": {},
          "execution_count": 79
        }
      ]
    },
    {
      "cell_type": "code",
      "execution_count": 81,
      "metadata": {
        "id": "Vr5S4ZhEAyaA",
        "colab": {
          "base_uri": "https://localhost:8080/",
          "height": 507
        },
        "outputId": "9f4092a3-abc2-4204-d90f-9264deb88356"
      },
      "outputs": [
        {
          "output_type": "display_data",
          "data": {
            "text/plain": [
              "<Figure size 576x576 with 1 Axes>"
            ],
            "image/png": "[encoded data removed]"
          },
          "metadata": {
            "needs_background": "light"
          }
        },
        {
          "output_type": "display_data",
          "data": {
            "text/plain": [
              "<Figure size 576x576 with 1 Axes>"
            ],
            "image/png": "[encoded data removed]"
          },
          "metadata": {
            "needs_background": "light"
          }
        }
      ],
      "source": [
        "compare_histories(history_10_percet_data_aug,\n",
        "                  history_fine_10_classes_full,\n",
        "                  initial_epochs=5)"
      ]
    },
    {
      "cell_type": "markdown",
      "source": [
        "## Viewing our experiment data on Tensorboard"
      ],
      "metadata": {
        "id": "xN8hv2YxAyep"
      }
    },
    {
      "cell_type": "code",
      "execution_count": null,
      "metadata": {
        "id": "Il56w6b3Ayka"
      },
      "outputs": [],
      "source": [
        "!tensorboard dev upload --logdir ./transfer_learning \\\n",
        "  --name \"Transfer Learning experiments with 10 food101 classes\" \\\n",
        "  --description \"A series of different transfer learning experiments with varying amount of data\"\\\n",
        "  --one_shot # exits the uploader"
      ]
    },
    {
      "cell_type": "markdown",
      "source": [
        "My tensorboard experiments are available at https://tensorboard.dev/experiment/TVsLTnnuQ1OE58gyU5P9mw/"
      ],
      "metadata": {
        "id": "h7nXRwlHAypN"
      }
    },
    {
      "cell_type": "code",
      "execution_count": 85,
      "metadata": {
        "id": "iKWbZfpIAyuK",
        "colab": {
          "base_uri": "https://localhost:8080/"
        },
        "outputId": "ce92e81f-dbc5-4842-d98f-58eff601c237"
      },
      "outputs": [
        {
          "output_type": "stream",
          "name": "stdout",
          "text": [
            "https://tensorboard.dev/experiment/TVsLTnnuQ1OE58gyU5P9mw/\n",
            "\tName                 Transfer Learning experiments with 10 food101 classes\n",
            "\tDescription          A series of different transfer learning experiments with varying amount of data\n",
            "\tId                   TVsLTnnuQ1OE58gyU5P9mw\n",
            "\tCreated              2022-09-08 21:41:40 (7 minutes ago)\n",
            "\tUpdated              2022-09-08 21:41:45 (7 minutes ago)\n",
            "\tRuns                 10\n",
            "\tTags                 5\n",
            "\tScalars              138\n",
            "\tTensor bytes         0\n",
            "\tBinary object bytes  4323660\n",
            "https://tensorboard.dev/experiment/FWgOPYwYT96QBHONzC92sw/\n",
            "\tName                 EfficientNetB0 vs. ResNet50V2\n",
            "\tDescription          Comparing two different tf hub feature extraction model architechtures using 10% of the training data\n",
            "\tId                   FWgOPYwYT96QBHONzC92sw\n",
            "\tCreated              2022-09-07 00:46:37\n",
            "\tUpdated              2022-09-07 00:46:46\n",
            "\tRuns                 10\n",
            "\tTags                 5\n",
            "\tScalars              120\n",
            "\tTensor bytes         0\n",
            "\tBinary object bytes  12681087\n",
            "Total: 2 experiment(s)\n"
          ]
        }
      ],
      "source": [
        "!tensorboard dev list"
      ]
    },
    {
      "cell_type": "code",
      "source": [],
      "metadata": {
        "id": "W10EIiMjFCIr"
      },
      "execution_count": null,
      "outputs": []
    }
  ],
  "metadata": {
    "colab": {
      "collapsed_sections": [],
      "provenance": [],
      "toc_visible": true,
      "include_colab_link": true
    },
    "gpuClass": "standard",
    "kernelspec": {
      "display_name": "Python 3",
      "name": "python3"
    },
    "language_info": {
      "name": "python"
    },
    "accelerator": "GPU"
  },
  "nbformat": 4,
  "nbformat_minor": 0
}