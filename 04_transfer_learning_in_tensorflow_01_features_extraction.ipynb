{
  "nbformat": 4,
  "nbformat_minor": 0,
  "metadata": {
    "colab": {
      "provenance": [],
      "collapsed_sections": [],
      "authorship_tag": "ABX9TyN6lQtFgI3dZInS+QC9m3XW",
      "include_colab_link": true
    },
    "kernelspec": {
      "name": "python3",
      "display_name": "Python 3"
    },
    "language_info": {
      "name": "python"
    },
    "gpuClass": "standard",
    "accelerator": "GPU"
  },
  "cells": [
    {
      "cell_type": "markdown",
      "metadata": {
        "id": "view-in-github",
        "colab_type": "text"
      },
      "source": [
        "<a href=\"https://colab.research.google.com/github/umar052001/Deep-Learning-with-Tensorflow/blob/master/04_transfer_learning_in_tensorflow_01_features_extraction.ipynb\" target=\"_parent\"><img src=\"https://colab.research.google.com/assets/colab-badge.svg\" alt=\"Open In Colab\"/></a>"
      ]
    },
    {
      "cell_type": "markdown",
      "source": [
        "# Transfer Learning with Tensorflow 01: Feature Extraction\n",
        "\n",
        "Transfer learning is leveraging a working model's architechture and learned patterns for our own problem.\n",
        "\n",
        "There are two main benefits:\n",
        "1. Can leverage an existing neural network architechture proven to work on similar problem as our own.\n",
        "2. Neural Network architechture which has already learned patterns on similar data as ours, then we can adapt those patterns to our own data."
      ],
      "metadata": {
        "id": "CEGyJ5pH0ohH"
      }
    },
    {
      "cell_type": "code",
      "source": [
        "!nvidia-smi"
      ],
      "metadata": {
        "colab": {
          "base_uri": "https://localhost:8080/"
        },
        "id": "HJfBQL0d19fj",
        "outputId": "f073dccc-ee25-4c2e-cdf4-62e40c34765a"
      },
      "execution_count": 4,
      "outputs": [
        {
          "output_type": "stream",
          "name": "stdout",
          "text": [
            "Tue Sep  6 22:26:34 2022       \n",
            "+-----------------------------------------------------------------------------+\n",
            "| NVIDIA-SMI 460.32.03    Driver Version: 460.32.03    CUDA Version: 11.2     |\n",
            "|-------------------------------+----------------------+----------------------+\n",
            "| GPU  Name        Persistence-M| Bus-Id        Disp.A | Volatile Uncorr. ECC |\n",
            "| Fan  Temp  Perf  Pwr:Usage/Cap|         Memory-Usage | GPU-Util  Compute M. |\n",
            "|                               |                      |               MIG M. |\n",
            "|===============================+======================+======================|\n",
            "|   0  Tesla T4            Off  | 00000000:00:04.0 Off |                    0 |\n",
            "| N/A   39C    P8    10W /  70W |      0MiB / 15109MiB |      0%      Default |\n",
            "|                               |                      |                  N/A |\n",
            "+-------------------------------+----------------------+----------------------+\n",
            "                                                                               \n",
            "+-----------------------------------------------------------------------------+\n",
            "| Processes:                                                                  |\n",
            "|  GPU   GI   CI        PID   Type   Process name                  GPU Memory |\n",
            "|        ID   ID                                                   Usage      |\n",
            "|=============================================================================|\n",
            "|  No running processes found                                                 |\n",
            "+-----------------------------------------------------------------------------+\n"
          ]
        }
      ]
    },
    {
      "cell_type": "markdown",
      "source": [
        "## Downloading and becoming one with the data"
      ],
      "metadata": {
        "id": "mErT5_7A1-nO"
      }
    },
    {
      "cell_type": "code",
      "source": [
        "# Get 10% of data from Food101 (10 food classes)\n",
        "import zipfile\n",
        "!wget https://storage.googleapis.com/ztm_tf_course/food_vision/10_food_classes_10_percent.zip\n",
        "\n",
        "zip_ref = zipfile.ZipFile(\"10_food_classes_10_percent.zip\")\n",
        "zip_ref.extractall()\n",
        "zip_ref.close()"
      ],
      "metadata": {
        "colab": {
          "base_uri": "https://localhost:8080/"
        },
        "id": "TXC3wd8x1-s5",
        "outputId": "3f1f3b43-c64d-430f-84e0-71c474feba49"
      },
      "execution_count": 5,
      "outputs": [
        {
          "output_type": "stream",
          "name": "stdout",
          "text": [
            "--2022-09-06 22:26:35--  https://storage.googleapis.com/ztm_tf_course/food_vision/10_food_classes_10_percent.zip\n",
            "Resolving storage.googleapis.com (storage.googleapis.com)... 74.125.200.128, 74.125.68.128, 74.125.24.128, ...\n",
            "Connecting to storage.googleapis.com (storage.googleapis.com)|74.125.200.128|:443... connected.\n",
            "HTTP request sent, awaiting response... 200 OK\n",
            "Length: 168546183 (161M) [application/zip]\n",
            "Saving to: ‘10_food_classes_10_percent.zip.1’\n",
            "\n",
            "10_food_classes_10_ 100%[===================>] 160.74M  53.2MB/s    in 3.0s    \n",
            "\n",
            "2022-09-06 22:26:39 (53.2 MB/s) - ‘10_food_classes_10_percent.zip.1’ saved [168546183/168546183]\n",
            "\n"
          ]
        }
      ]
    },
    {
      "cell_type": "code",
      "source": [
        "import os\n",
        "\n",
        "for dirpath, dirnames, filenames in os.walk(\"10_food_classes_10_percent\"):\n",
        "  print(f\"There are {len(dirnames)} directories and {len(filenames)} images in '{dirpath}' \")"
      ],
      "metadata": {
        "colab": {
          "base_uri": "https://localhost:8080/"
        },
        "id": "3E_PE7HJ1-yB",
        "outputId": "0850cd70-2aa5-4fbf-8e7c-4b4f286ca889"
      },
      "execution_count": 6,
      "outputs": [
        {
          "output_type": "stream",
          "name": "stdout",
          "text": [
            "There are 2 directories and 0 images in '10_food_classes_10_percent' \n",
            "There are 10 directories and 0 images in '10_food_classes_10_percent/test' \n",
            "There are 0 directories and 250 images in '10_food_classes_10_percent/test/ramen' \n",
            "There are 0 directories and 250 images in '10_food_classes_10_percent/test/grilled_salmon' \n",
            "There are 0 directories and 250 images in '10_food_classes_10_percent/test/sushi' \n",
            "There are 0 directories and 250 images in '10_food_classes_10_percent/test/fried_rice' \n",
            "There are 0 directories and 250 images in '10_food_classes_10_percent/test/hamburger' \n",
            "There are 0 directories and 250 images in '10_food_classes_10_percent/test/pizza' \n",
            "There are 0 directories and 250 images in '10_food_classes_10_percent/test/chicken_wings' \n",
            "There are 0 directories and 250 images in '10_food_classes_10_percent/test/ice_cream' \n",
            "There are 0 directories and 250 images in '10_food_classes_10_percent/test/steak' \n",
            "There are 0 directories and 250 images in '10_food_classes_10_percent/test/chicken_curry' \n",
            "There are 10 directories and 0 images in '10_food_classes_10_percent/train' \n",
            "There are 0 directories and 75 images in '10_food_classes_10_percent/train/ramen' \n",
            "There are 0 directories and 75 images in '10_food_classes_10_percent/train/grilled_salmon' \n",
            "There are 0 directories and 75 images in '10_food_classes_10_percent/train/sushi' \n",
            "There are 0 directories and 75 images in '10_food_classes_10_percent/train/fried_rice' \n",
            "There are 0 directories and 75 images in '10_food_classes_10_percent/train/hamburger' \n",
            "There are 0 directories and 75 images in '10_food_classes_10_percent/train/pizza' \n",
            "There are 0 directories and 75 images in '10_food_classes_10_percent/train/chicken_wings' \n",
            "There are 0 directories and 75 images in '10_food_classes_10_percent/train/ice_cream' \n",
            "There are 0 directories and 75 images in '10_food_classes_10_percent/train/steak' \n",
            "There are 0 directories and 75 images in '10_food_classes_10_percent/train/chicken_curry' \n"
          ]
        }
      ]
    },
    {
      "cell_type": "markdown",
      "source": [
        "## Creating data loaders (preparing the data)\n",
        "We'll use `ImageDataGenerators` to load in our images in batches"
      ],
      "metadata": {
        "id": "d5B8FW-81-3U"
      }
    },
    {
      "cell_type": "code",
      "source": [
        "# Setup data inputs\n",
        "from tensorflow.keras.preprocessing.image import ImageDataGenerator\n",
        "\n",
        "IMAGE_SHAPE = (224, 224)\n",
        "BATCH_SIZE = 32\n",
        "\n",
        "train_dir = \"10_food_classes_10_percent/train/\"\n",
        "test_dir = \"10_food_classes_10_percent/test/\"\n",
        "\n",
        "train_datagen = ImageDataGenerator(rescale=1/255.,)\n",
        "test_datagen = ImageDataGenerator(rescale=1/255.)\n",
        "\n",
        "print(\"Training images: \")\n",
        "train_data_10_percent = train_datagen.flow_from_directory(train_dir,\n",
        "                                                          target_size=IMAGE_SHAPE,\n",
        "                                                          batch_size=BATCH_SIZE,\n",
        "                                                          class_mode=\"categorical\")\n",
        "print(\"Testing images:\")\n",
        "test_data = test_datagen.flow_from_directory(test_dir,\n",
        "                                             target_size=IMAGE_SHAPE,\n",
        "                                             batch_size=BATCH_SIZE,\n",
        "                                             class_mode=\"categorical\")"
      ],
      "metadata": {
        "colab": {
          "base_uri": "https://localhost:8080/"
        },
        "id": "QqGEmHqP1-8f",
        "outputId": "9536cccc-1357-443b-c5e6-1e54f10f8c3e"
      },
      "execution_count": 28,
      "outputs": [
        {
          "output_type": "stream",
          "name": "stdout",
          "text": [
            "Training images: \n",
            "Found 750 images belonging to 10 classes.\n",
            "Testing images:\n",
            "Found 2500 images belonging to 10 classes.\n"
          ]
        }
      ]
    },
    {
      "cell_type": "markdown",
      "source": [
        "## Setting up callbacks\n",
        "Callbacks are extra functionality you can add to your models to be performed during or after training. Some of the most popular callbacks are:\n",
        "* Tracking experiments with tensorboard callback\n",
        "* Model Checkpoint with ModelCheckpoint callback\n",
        "* Stopping a model (before it trains too long and overfits) with EarlyStopping callback."
      ],
      "metadata": {
        "id": "W_JgJstR1_CK"
      }
    },
    {
      "cell_type": "code",
      "source": [
        "# Create tensorboard callback (functionized because we need to create a new one for each model)\n",
        "import datetime\n",
        "\n",
        "def create_tensorboard_callback(dir_name, experiment_name):\n",
        "  log_dir = dir_name + \"/\" + experiment_name +\"/\" + datetime.datetime.now().strftime(\"%Y%m%d-%H%M%S\")\n",
        "  tensorboard_callback = tf.keras.callbacks.TensorBoard(log_dir=log_dir)\n",
        "  print(f\"Saving tensorboard log files to: {log_dir}\")\n",
        "  return tensorboard_callback"
      ],
      "metadata": {
        "id": "n0U1Hnxt1_Hn"
      },
      "execution_count": 29,
      "outputs": []
    },
    {
      "cell_type": "markdown",
      "source": [
        "# Creating models using tensorflow hub\n",
        "In the past we've been creating our models from scratch.\n",
        "\n",
        "Now majority of our model's layers are going to come from tensorflow hub\n",
        "\n",
        "We can access pretrianed models on: http://tfhub.dev\n",
        "\n",
        "Browsing the tensorflow hub page and sorting for image classification, we found the following feature vector model link: https://tfhub.dev/tensorflow/efficientnet/b0/feature-vector/1"
      ],
      "metadata": {
        "id": "p7oGJnOx1_M8"
      }
    },
    {
      "cell_type": "code",
      "source": [
        "# Let's compare the following two model\n",
        "efficientnet_url = \"https://tfhub.dev/tensorflow/efficientnet/b0/feature-vector/1\"\n",
        "resnet_url = \"https://tfhub.dev/google/imagenet/resnet_v2_50/feature_vector/5\""
      ],
      "metadata": {
        "id": "nH0vIe901_Sh"
      },
      "execution_count": 30,
      "outputs": []
    },
    {
      "cell_type": "code",
      "source": [
        "# Import dependencies\n",
        "import tensorflow as tf \n",
        "import tensorflow_hub as hub\n",
        "from tensorflow.keras import layers"
      ],
      "metadata": {
        "id": "CVfRboLk1_Xk"
      },
      "execution_count": 31,
      "outputs": []
    },
    {
      "cell_type": "code",
      "source": [
        "# Let's make a create model function to create a model from URL\n",
        "def create_model(model_url, num_classes=10):\n",
        "  \"\"\"\n",
        "  Takes a Tensorflow hub url and creates a keras Sequential model with it.\n",
        "\n",
        "  Args:\n",
        "    model_url (str): A Tensorflow hub feature extraction URL.\n",
        "    num_class (int): Number of output neurons in output layers should be equal to\n",
        "                    number of target classes. Default 10.\n",
        "  Return:\n",
        "    An uncompiled Keras Sequential model with model url as feature extractor layer\n",
        "    and Dense output layer with num_classes output neuron\n",
        "  \"\"\"\n",
        "  # Download the pretrained model and save it as a Keras Layer\n",
        "  feature_extraction_layer = hub.KerasLayer(model_url, \n",
        "                                           trainable=False,# freeze already learned patterns\n",
        "                                           name=\"feature_extraction_layer\",\n",
        "                                           input_shape=IMAGE_SHAPE+(3,)) \n",
        "  \n",
        "  # Create our own model\n",
        "  model = tf.keras.Sequential([\n",
        "      feature_extraction_layer,\n",
        "      layers.Dense(num_classes, activation=\"softmax\", name=\"output_layer\")\n",
        "  ])\n",
        "  return model"
      ],
      "metadata": {
        "id": "66N8tyoF1_cr"
      },
      "execution_count": 32,
      "outputs": []
    },
    {
      "cell_type": "markdown",
      "source": [
        "### Creating resnet Tensorflow hub feature extraction model"
      ],
      "metadata": {
        "id": "6jyzoNcdF1HA"
      }
    },
    {
      "cell_type": "code",
      "source": [
        "resnet_model = create_model(resnet_url,\n",
        "                            num_classes=train_data_10_percent.num_classes)"
      ],
      "metadata": {
        "id": "qMRwIwqs1_hm"
      },
      "execution_count": 33,
      "outputs": []
    },
    {
      "cell_type": "code",
      "source": [
        "# Compile resnet model  \n",
        "resnet_model.compile(loss=\"categorical_crossentropy\",\n",
        "                     optimizer=tf.keras.optimizers.Adam(),\n",
        "                     metrics=[\"accuracy\"])"
      ],
      "metadata": {
        "id": "5PgzsfOa1_rQ"
      },
      "execution_count": 34,
      "outputs": []
    },
    {
      "cell_type": "code",
      "source": [
        "# Fit the model\n",
        "resnet_history = resnet_model.fit(train_data_10_percent,\n",
        "                 epochs=5,\n",
        "                 steps_per_epoch=len(train_data_10_percent),\n",
        "                 validation_data=test_data,\n",
        "                 validation_steps=len(test_data),\n",
        "                 callbacks=[create_tensorboard_callback(dir_name=\"tensorflow_hub\",\n",
        "                                                        experiment_name=\"resnet50V2\")])"
      ],
      "metadata": {
        "colab": {
          "base_uri": "https://localhost:8080/"
        },
        "id": "Bt8fYVjr1_v1",
        "outputId": "1123c762-f09f-4160-9ed1-926f74320e25"
      },
      "execution_count": 35,
      "outputs": [
        {
          "output_type": "stream",
          "name": "stdout",
          "text": [
            "Saving tensorboard log files to: tensorflow_hub/resnet50V2/20220907-000207\n",
            "Epoch 1/5\n",
            "24/24 [==============================] - 20s 725ms/step - loss: 2.0331 - accuracy: 0.3267 - val_loss: 1.2181 - val_accuracy: 0.6124\n",
            "Epoch 2/5\n",
            "24/24 [==============================] - 16s 678ms/step - loss: 0.9206 - accuracy: 0.7253 - val_loss: 0.8590 - val_accuracy: 0.7228\n",
            "Epoch 3/5\n",
            "24/24 [==============================] - 16s 673ms/step - loss: 0.6297 - accuracy: 0.8187 - val_loss: 0.7517 - val_accuracy: 0.7572\n",
            "Epoch 4/5\n",
            "24/24 [==============================] - 16s 666ms/step - loss: 0.4872 - accuracy: 0.8707 - val_loss: 0.6963 - val_accuracy: 0.7704\n",
            "Epoch 5/5\n",
            "24/24 [==============================] - 16s 669ms/step - loss: 0.3860 - accuracy: 0.9053 - val_loss: 0.6670 - val_accuracy: 0.7812\n"
          ]
        }
      ]
    },
    {
      "cell_type": "markdown",
      "source": [
        "There are some incredible results in front of us when we used transfer learning.\n",
        "Our transfer learninng features extractor out performed ALL of the previous models we built by hand...(substantially) and in a quicker time AND with only 10% of of the training examples."
      ],
      "metadata": {
        "id": "iOgqg2q31_05"
      }
    },
    {
      "cell_type": "code",
      "source": [
        "# Lets create a function to plot loss curve\n",
        "import matplotlib.pyplot as plt\n",
        "def plot_loss_curve(history):\n",
        "  \"\"\"\n",
        "  Returns seperate loss curves for training and validation metrics.\n",
        "\n",
        "  Args:\n",
        "    history:Tensorflow history object.\n",
        "  Returns:\n",
        "    Plots of training/validation loss and accuracy metrics.\n",
        "  \"\"\"\n",
        "  loss = history.history[\"loss\"]\n",
        "  val_loss = history.history[\"val_loss\"]\n",
        "\n",
        "  accuracy = history.history[\"accuracy\"]\n",
        "  val_accuracy = history.history[\"val_accuracy\"]\n",
        "\n",
        "  epochs = range(len(history.history[\"loss\"]))\n",
        "\n",
        "  # Plot loss\n",
        "  plt.plot(epochs, loss, label=\"training_loss\")\n",
        "  plt.plot(epochs, val_loss, label=\"val_loss\")\n",
        "  plt.title(\"Loss\")\n",
        "  plt.xlabel(\"Epochs\")\n",
        "  plt.legend()\n",
        "\n",
        "  # Plot accuracy\n",
        "  plt.figure()\n",
        "  plt.plot(epochs, accuracy, label=\"training accuracy\")\n",
        "  plt.plot(epochs, val_accuracy, label=\"val_accuracy\")\n",
        "  plt.title(\"Accuracy\")\n",
        "  plt.xlabel(\"Epochs\")\n",
        "  plt.legend();"
      ],
      "metadata": {
        "id": "rPxql6pf1_5x"
      },
      "execution_count": 24,
      "outputs": []
    },
    {
      "cell_type": "code",
      "source": [
        "plot_loss_curve(resnet_history)"
      ],
      "metadata": {
        "colab": {
          "base_uri": "https://localhost:8080/",
          "height": 573
        },
        "id": "OOHyKOnc1_-i",
        "outputId": "20e38793-9c28-4f93-f366-f09bd3477e93"
      },
      "execution_count": 36,
      "outputs": [
        {
          "output_type": "display_data",
          "data": {
            "text/plain": [
              "<Figure size 432x288 with 1 Axes>"
            ],
            "image/png": "[encoded data removed]"
          },
          "metadata": {
            "needs_background": "light"
          }
        },
        {
          "output_type": "display_data",
          "data": {
            "text/plain": [
              "<Figure size 432x288 with 1 Axes>"
            ],
            "image/png": "[encoded data removed]"
          },
          "metadata": {
            "needs_background": "light"
          }
        }
      ]
    },
    {
      "cell_type": "markdown",
      "source": [
        " ### Creating Efficientnet Tensorflow hub feature extraction model"
      ],
      "metadata": {
        "id": "xpm7GCRL2ADo"
      }
    },
    {
      "cell_type": "code",
      "source": [
        "efficientnet_model = create_model(model_url=efficientnet_url,\n",
        "                                  num_classes=train_data_10_percent.num_classes)\n",
        "\n",
        "# Compile\n",
        "efficientnet_model.compile(loss=\"categorical_crossentropy\",\n",
        "                           optimizer=tf.keras.optimizers.Adam(),\n",
        "                           metrics=[\"accuracy\"])\n",
        "\n",
        "# Fit efficientnet to 10% of our data\n",
        "efficientnet_history = efficientnet_model.fit(train_data_10_percent,\n",
        "                                              epochs=5,\n",
        "                                              validation_data=test_data,\n",
        "                                              validation_steps=len(test_data),\n",
        "                                              steps_per_epoch=len(train_data_10_percent),\n",
        "                                              callbacks=[create_tensorboard_callback(dir_name=\"tensorflow_hub\",\n",
        "                                                                                     experiment_name=\"efficientnetb0\")])"
      ],
      "metadata": {
        "colab": {
          "base_uri": "https://localhost:8080/"
        },
        "id": "yzq0zga62AIe",
        "outputId": "b60db708-3715-4b63-ca82-3e0876b17707"
      },
      "execution_count": 39,
      "outputs": [
        {
          "output_type": "stream",
          "name": "stdout",
          "text": [
            "Saving tensorboard log files to: tensorflow_hub/efficientnetb0/20220907-001500\n",
            "Epoch 1/5\n",
            "24/24 [==============================] - 26s 709ms/step - loss: 1.8148 - accuracy: 0.4480 - val_loss: 1.2796 - val_accuracy: 0.7336\n",
            "Epoch 2/5\n",
            "24/24 [==============================] - 16s 692ms/step - loss: 1.0388 - accuracy: 0.7867 - val_loss: 0.8640 - val_accuracy: 0.8200\n",
            "Epoch 3/5\n",
            "24/24 [==============================] - 16s 671ms/step - loss: 0.7447 - accuracy: 0.8533 - val_loss: 0.6954 - val_accuracy: 0.8456\n",
            "Epoch 4/5\n",
            "24/24 [==============================] - 16s 688ms/step - loss: 0.5976 - accuracy: 0.8747 - val_loss: 0.6051 - val_accuracy: 0.8604\n",
            "Epoch 5/5\n",
            "24/24 [==============================] - 15s 641ms/step - loss: 0.5061 - accuracy: 0.8987 - val_loss: 0.5515 - val_accuracy: 0.8612\n"
          ]
        }
      ]
    },
    {
      "cell_type": "code",
      "source": [
        "plot_loss_curve(efficientnet_history)"
      ],
      "metadata": {
        "colab": {
          "base_uri": "https://localhost:8080/",
          "height": 573
        },
        "id": "I-94mZof2AN_",
        "outputId": "e62da9d6-d1f0-4558-ca70-2ffda1f137d1"
      },
      "execution_count": 40,
      "outputs": [
        {
          "output_type": "display_data",
          "data": {
            "text/plain": [
              "<Figure size 432x288 with 1 Axes>"
            ],
            "image/png": "[encoded data removed]"
          },
          "metadata": {
            "needs_background": "light"
          }
        },
        {
          "output_type": "display_data",
          "data": {
            "text/plain": [
              "<Figure size 432x288 with 1 Axes>"
            ],
            "image/png": "[encoded data removed]"
          },
          "metadata": {
            "needs_background": "light"
          }
        }
      ]
    },
    {
      "cell_type": "code",
      "source": [
        "efficientnet_model.summary()"
      ],
      "metadata": {
        "colab": {
          "base_uri": "https://localhost:8080/"
        },
        "id": "SesyTFmO2ASr",
        "outputId": "4a6b97bd-a2fc-4f0a-8d91-74b7deb633b9"
      },
      "execution_count": 41,
      "outputs": [
        {
          "output_type": "stream",
          "name": "stdout",
          "text": [
            "Model: \"sequential_4\"\n",
            "_________________________________________________________________\n",
            " Layer (type)                Output Shape              Param #   \n",
            "=================================================================\n",
            " feature_extraction_layer (K  (None, 1280)             4049564   \n",
            " erasLayer)                                                      \n",
            "                                                                 \n",
            " output_layer (Dense)        (None, 10)                12810     \n",
            "                                                                 \n",
            "=================================================================\n",
            "Total params: 4,062,374\n",
            "Trainable params: 12,810\n",
            "Non-trainable params: 4,049,564\n",
            "_________________________________________________________________\n"
          ]
        }
      ]
    },
    {
      "cell_type": "code",
      "source": [
        "resnet_model.summary()"
      ],
      "metadata": {
        "colab": {
          "base_uri": "https://localhost:8080/"
        },
        "id": "Su_iNqov2AXl",
        "outputId": "e4a2cf2d-0f0d-499e-86da-1d077efaa80b"
      },
      "execution_count": 42,
      "outputs": [
        {
          "output_type": "stream",
          "name": "stdout",
          "text": [
            "Model: \"sequential_1\"\n",
            "_________________________________________________________________\n",
            " Layer (type)                Output Shape              Param #   \n",
            "=================================================================\n",
            " feature_extraction_layer (K  (None, 2048)             23564800  \n",
            " erasLayer)                                                      \n",
            "                                                                 \n",
            " output_layer (Dense)        (None, 10)                20490     \n",
            "                                                                 \n",
            "=================================================================\n",
            "Total params: 23,585,290\n",
            "Trainable params: 20,490\n",
            "Non-trainable params: 23,564,800\n",
            "_________________________________________________________________\n"
          ]
        }
      ]
    },
    {
      "cell_type": "markdown",
      "source": [
        "## Different types of transfer learning\n",
        "* **\"As is\"** transfer learning - using an existing model with no changes whatsoever (eg using imagenet model on 100 ImageNet classes, none of your own)\n",
        "* **\"Features extraction\"** transfer learning - use the prelearned patterns of an existing model (eg EfficientnetB0 trained on ImageNet) and adjust the output layer on your own (1000 classes -> 10 classes of food)\n",
        "* **\"Fine tuning\"** transfer learning - use the prelearned patterns of an existing model and \"fine-tune\" many or all the underlaying layers (including new output layers) "
      ],
      "metadata": {
        "id": "MFH2WO1q2AcE"
      }
    },
    {
      "cell_type": "code",
      "source": [
        "# How many layers does our feature extractor efficientnetb0 have?\n",
        "len(efficientnet_model.layers[0].weights)"
      ],
      "metadata": {
        "colab": {
          "base_uri": "https://localhost:8080/"
        },
        "id": "le_Zr-UmWLpb",
        "outputId": "8a83d332-4a66-4d50-e122-d6287b8a2e5c"
      },
      "execution_count": 47,
      "outputs": [
        {
          "output_type": "execute_result",
          "data": {
            "text/plain": [
              "309"
            ]
          },
          "metadata": {},
          "execution_count": 47
        }
      ]
    },
    {
      "cell_type": "markdown",
      "source": [
        "## Comparing our model's results using TensorBoard\n",
        "\n",
        "> When you upload things to tensorboard.dev, your experiments are public."
      ],
      "metadata": {
        "id": "2FWd4VZyWqUX"
      }
    },
    {
      "cell_type": "code",
      "source": [
        "# Upload TensorBoard dev logs\n",
        "!tensorboard dev upload --logdir ./tensorflow_hub/ \\\n",
        "  --name \"EfficientNetB0 vs. ResNet50V2\" \\\n",
        "  --description \"Comparing two different tf hub feature extraction model architechtures using 10% of the training data\" \\\n",
        "  --one_shot  "
      ],
      "metadata": {
        "id": "J0rk3RqSYTow"
      },
      "execution_count": null,
      "outputs": []
    },
    {
      "cell_type": "markdown",
      "source": [
        "Our tensorboard experiments are uploaded publiclly here https://tensorboard.dev/experiment/FWgOPYwYT96QBHONzC92sw/"
      ],
      "metadata": {
        "id": "_16ftheWYTvH"
      }
    },
    {
      "cell_type": "code",
      "source": [
        "!tensorboard dev list"
      ],
      "metadata": {
        "colab": {
          "base_uri": "https://localhost:8080/"
        },
        "id": "Q6a4skV0YT08",
        "outputId": "dff48d4e-3185-4932-fa4f-827f46c6762f"
      },
      "execution_count": 50,
      "outputs": [
        {
          "output_type": "stream",
          "name": "stdout",
          "text": [
            "https://tensorboard.dev/experiment/FWgOPYwYT96QBHONzC92sw/\n",
            "\tName                 EfficientNetB0 vs. ResNet50V2\n",
            "\tDescription          Comparing two different tf hub feature extraction model architechtures using 10% of the training data\n",
            "\tId                   FWgOPYwYT96QBHONzC92sw\n",
            "\tCreated              2022-09-07 00:46:37 (7 minutes ago)\n",
            "\tUpdated              2022-09-07 00:46:46 (7 minutes ago)\n",
            "\tRuns                 10\n",
            "\tTags                 5\n",
            "\tScalars              120\n",
            "\tTensor bytes         0\n",
            "\tBinary object bytes  12681087\n",
            "Total: 1 experiment(s)\n"
          ]
        }
      ]
    },
    {
      "cell_type": "code",
      "source": [
        "# Delete an experiment\n",
        "# ! tensorboard dev delete --experiment_id [paste the id here]"
      ],
      "metadata": {
        "id": "t-Y69DOsYT6r"
      },
      "execution_count": null,
      "outputs": []
    }
  ]
}